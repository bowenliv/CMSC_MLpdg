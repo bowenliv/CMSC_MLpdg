{
 "cells": [
  {
   "cell_type": "markdown",
   "metadata": {},
   "source": [
    "#### Author: Sazan Mahbub (UID: 118214443)"
   ]
  },
  {
   "cell_type": "markdown",
   "metadata": {
    "id": "X4cRE8IbIrIV"
   },
   "source": [
    "### Reference: \n",
    "#### Privided sample codes: \n",
    "1. https://github.com/jwkirchenbauer/CMSC828A-Spring2023\n",
    "1. https://github.com/jwkirchenbauer/CMSC828A-Spring2023/blob/main/hw1/hw1_starter_code.ipynb\n",
    "2. https://github.com/jwkirchenbauer/CMSC828A-Spring2023/blob/57b00bd009b7452da1dde17bd7134bf1997d1aac/hw1/task_sampler.py\n",
    "\n",
    "#### Hugginface official documentations and examples: \n",
    "1. https://colab.research.google.com/github/huggingface/notebooks/blob/main/examples/token_classification.ipynb#scrollTo=tvcpN89gwN8_\n",
    "2. https://huggingface.co/docs/transformers/v4.26.1/en/model_doc/bert#transformers.BertForTokenClassification.forward\n",
    "3. https://huggingface.co/docs/transformers/training#training-loop\n"
   ]
  },
  {
   "cell_type": "code",
   "execution_count": null,
   "metadata": {
    "colab": {
     "base_uri": "https://localhost:8080/"
    },
    "id": "MOsHUjgdIrIW",
    "outputId": "71e5b663-ea4b-459b-d404-67284894b311",
    "scrolled": true
   },
   "outputs": [],
   "source": [
    "# ! pip install datasets transformers seqeval evaluate"
   ]
  },
  {
   "cell_type": "code",
   "execution_count": null,
   "metadata": {},
   "outputs": [],
   "source": [
    "import os\n",
    "os.environ['HF_HOME'] = \"/vulcanscratch/smahbub/.cache/huggingface\"\n",
    "os.environ[\"TOKENIZERS_PARALLELISM\"] = \"true\"\n",
    "os.environ[\"WANDB_DISABLED\"] = \"true\""
   ]
  },
  {
   "cell_type": "code",
   "execution_count": null,
   "metadata": {
    "id": "6HlitwTsunZR"
   },
   "outputs": [],
   "source": [
    "import numpy as np\n",
    "from torch.utils.data import DataLoader\n",
    "from transformers import DataCollatorWithPadding, AutoTokenizer\n",
    "\n",
    "from datasets import load_dataset, DatasetDict\n",
    "\n",
    "\n",
    "class TaskSampler():\n",
    "    \"\"\" \n",
    "    Class for sampling batches from a dictionary of dataloaders according to a weighted sampling scheme.\n",
    "    Dynamic task weights can be externally computed and set using the set_task_weights method,\n",
    "    or, this class can be extended with methods and state state to implement a more complex sampling scheme.\n",
    "    You probably/shouldn't need to use this with multiple GPUs, but if you do, you'll may need\n",
    "    to extend/debug it yourself since the current implementation is not distributed-aware.\n",
    "    \n",
    "    Args:\n",
    "        dataloader_dict (dict[str, DataLoader]): Dictionary of dataloaders to sample from.\n",
    "        task_weights (list[float], optional): List of weights for each task. If None, uniform weights are used. Defaults to None.\n",
    "        max_iters (int, optional): Maximum number of iterations. If None, infinite. Defaults to None.\n",
    "    \"\"\"\n",
    "    def __init__(self, \n",
    "                *,\n",
    "                dataloader_dict: dict[str, DataLoader],\n",
    "                task_weights=None,\n",
    "                max_iters=None):\n",
    "        \n",
    "        assert dataloader_dict is not None, \"Dataloader dictionary must be provided.\"\n",
    "\n",
    "        self.dataloader_dict = dataloader_dict\n",
    "        self.task_names = list(dataloader_dict.keys())\n",
    "        self.dataloader_iterators = self._initialize_iterators()\n",
    "        self.task_weights = task_weights if task_weights is not None else self._get_uniform_weights()\n",
    "        self.max_iters = max_iters if max_iters is not None else float(\"inf\")\n",
    "    \n",
    "    # Initialization methods\n",
    "    def _get_uniform_weights(self):\n",
    "        return [1/len(self.task_names) for _ in self.task_names]\n",
    "    \n",
    "    def _initialize_iterators(self):\n",
    "        return {name:iter(dataloader) for name, dataloader in self.dataloader_dict.items()}\n",
    "    \n",
    "    # Weight getter and setter methods (NOTE can use these to dynamically set weights)\n",
    "    def set_task_weights(self, task_weights):\n",
    "        assert sum(self.task_weights) == 1, \"Task weights must sum to 1.\"\n",
    "        self.task_weights = task_weights\n",
    "    \n",
    "    def get_task_weights(self):\n",
    "        return self.task_weights\n",
    "\n",
    "    # Sampling logic\n",
    "    def _sample_task(self):\n",
    "        return np.random.choice(self.task_names, p=self.task_weights)\n",
    "    \n",
    "    def _sample_batch(self, task):\n",
    "        try:\n",
    "            return self.dataloader_iterators[task].__next__()\n",
    "        except StopIteration:\n",
    "            print(f\"Restarting iterator for {task}\")\n",
    "            self.dataloader_iterators[task] = iter(self.dataloader_dict[task])\n",
    "            return self.dataloader_iterators[task].__next__()\n",
    "        except KeyError as e:\n",
    "            print(e)\n",
    "            raise KeyError(\"Task not in dataset dictionary.\")\n",
    "    \n",
    "    # Iterable interface\n",
    "    def __iter__(self):\n",
    "        self.current_iter = 0\n",
    "        return self\n",
    "    \n",
    "    def __next__(self):\n",
    "        if self.current_iter >= self.max_iters:\n",
    "            raise StopIteration\n",
    "        else:\n",
    "            self.current_iter += 1\n",
    "        task = self._sample_task()\n",
    "        batch = self._sample_batch(task)\n",
    "        return task, batch\n"
   ]
  },
  {
   "cell_type": "code",
   "execution_count": null,
   "metadata": {
    "colab": {
     "base_uri": "https://localhost:8080/"
    },
    "id": "LesLC-pwuWpK",
    "outputId": "f376b6ba-1eba-469b-a297-86dd3408dcaf"
   },
   "outputs": [],
   "source": [
    "import transformers\n",
    "\n",
    "print(transformers.__version__)"
   ]
  },
  {
   "cell_type": "code",
   "execution_count": null,
   "metadata": {
    "id": "zVvslsfMIrIh"
   },
   "outputs": [],
   "source": [
    "# task = \"ner\" # Should be one of \"ner\", \"pos\" or \"chunk\"\n",
    "# model_checkpoint = \"distilbert-base-uncased\" \n",
    "model_checkpoint = \"bert-base-cased\" "
   ]
  },
  {
   "cell_type": "code",
   "execution_count": null,
   "metadata": {
    "id": "IreSlFmlIrIm"
   },
   "outputs": [],
   "source": [
    "from datasets import load_dataset, load_metric"
   ]
  },
  {
   "cell_type": "code",
   "execution_count": null,
   "metadata": {
    "colab": {
     "base_uri": "https://localhost:8080/"
    },
    "id": "s_AY1ATSIrIq",
    "outputId": "f5be2190-894b-4a72-d72f-588e804a1f3a"
   },
   "outputs": [],
   "source": [
    "# datasets = load_dataset(\"conll2003\")\n",
    "datasets = {}\n",
    "datasets['train'] = load_dataset(\"Babelscape/wikineural\", split=\"train_en\")#.shuffle(seed=42).select(range(100))\n",
    "datasets['val'] = load_dataset(\"Babelscape/wikineural\", split=\"val_en\")#.shuffle(seed=42).select(range(100)) ## subsampling for debug only\n",
    "datasets['test'] = load_dataset(\"Babelscape/wikineural\", split=\"test_en\")#.shuffle(seed=42).select(range(100)) ## subsampling for debug only"
   ]
  },
  {
   "cell_type": "code",
   "execution_count": null,
   "metadata": {
    "colab": {
     "base_uri": "https://localhost:8080/"
    },
    "id": "GWiVUF0jIrIv",
    "outputId": "82bab7b7-818c-4872-dc58-bc7e0017a516"
   },
   "outputs": [],
   "source": [
    "datasets"
   ]
  },
  {
   "cell_type": "code",
   "execution_count": null,
   "metadata": {
    "colab": {
     "base_uri": "https://localhost:8080/"
    },
    "id": "X6HrpprwIrIz",
    "outputId": "211a1ac8-88a1-4d9a-9e85-144831751189"
   },
   "outputs": [],
   "source": [
    "datasets['train'][0]"
   ]
  },
  {
   "cell_type": "code",
   "execution_count": null,
   "metadata": {
    "colab": {
     "base_uri": "https://localhost:8080/"
    },
    "id": "nR35roZluWpR",
    "outputId": "9e95cc93-bfb4-43ca-fca9-9eadbb153e4d"
   },
   "outputs": [],
   "source": [
    "datasets[\"train\"].features[f\"ner_tags\"]\n",
    "\n",
    "tag_set = {'O': 0, 'B-PER': 1, 'I-PER': 2, 'B-ORG': 3, 'I-ORG': 4, 'B-LOC': 5, 'I-LOC': 6, 'B-MISC': 7, 'I-MISC': 8}\n",
    "tag_set = {v: k for k, v in tag_set.items()}\n",
    "\n",
    "for key in datasets:\n",
    "    datasets[key] = datasets[key].map(lambda example: {'ner_tags_named': [tag_set[tag] for tag in example['ner_tags']]})\n",
    "    print(key, ':', datasets[key])"
   ]
  },
  {
   "cell_type": "code",
   "execution_count": null,
   "metadata": {
    "colab": {
     "base_uri": "https://localhost:8080/"
    },
    "id": "BS-AWZbjuWpS",
    "outputId": "1cf30879-df1a-4487-a218-d02025764e3a"
   },
   "outputs": [],
   "source": [
    "# label_list = datasets[\"train_en\"].features[f\"ner_tags\"].feature.names\n",
    "label_list = ['O', 'B-PER', 'I-PER', 'B-ORG', 'I-ORG', 'B-LOC', 'I-LOC', 'B-MISC', 'I-MISC']\n",
    "label_list"
   ]
  },
  {
   "cell_type": "code",
   "execution_count": null,
   "metadata": {
    "id": "i3j8APAoIrI3"
   },
   "outputs": [],
   "source": [
    "from datasets import ClassLabel, Sequence\n",
    "import random\n",
    "import pandas as pd\n",
    "from IPython.display import display, HTML\n",
    "\n",
    "def show_random_elements(dataset, num_examples=10):\n",
    "    assert num_examples <= len(dataset), \"Can't pick more elements than there are in the dataset.\"\n",
    "    picks = []\n",
    "    for ii in range(num_examples):\n",
    "        pick = ii #random.randint(0, len(dataset)-1)\n",
    "        # while pick in picks:\n",
    "        #     pick = random.randint(0, len(dataset)-1)\n",
    "        picks.append(pick)\n",
    "    \n",
    "    df = pd.DataFrame(dataset[picks])\n",
    "    for column, typ in dataset.features.items():\n",
    "        if isinstance(typ, ClassLabel):\n",
    "            df[column] = df[column].transform(lambda i: typ.names[i])\n",
    "        elif isinstance(typ, Sequence) and isinstance(typ.feature, ClassLabel):\n",
    "            df[column] = df[column].transform(lambda x: [typ.feature.names[i] for i in x])\n",
    "    display(HTML(df.to_html()))"
   ]
  },
  {
   "cell_type": "code",
   "execution_count": null,
   "metadata": {
    "colab": {
     "base_uri": "https://localhost:8080/",
     "height": 519
    },
    "id": "SZy5tRB_IrI7",
    "outputId": "927cbae7-06a5-407b-bbcc-8e2f73ea228f",
    "scrolled": true
   },
   "outputs": [],
   "source": [
    "show_random_elements(datasets[\"train\"])"
   ]
  },
  {
   "cell_type": "code",
   "execution_count": null,
   "metadata": {
    "id": "eXNLu_-nIrJI"
   },
   "outputs": [],
   "source": [
    "from transformers import AutoTokenizer\n",
    "    \n",
    "tokenizer = AutoTokenizer.from_pretrained(model_checkpoint)"
   ]
  },
  {
   "cell_type": "code",
   "execution_count": null,
   "metadata": {
    "id": "TXorcCpouWpT"
   },
   "outputs": [],
   "source": [
    "import transformers\n",
    "assert isinstance(tokenizer, transformers.PreTrainedTokenizerFast)"
   ]
  },
  {
   "cell_type": "code",
   "execution_count": null,
   "metadata": {
    "colab": {
     "base_uri": "https://localhost:8080/"
    },
    "id": "a5hBlsrHIrJL",
    "outputId": "c4e1b54f-31ee-4c5f-b26f-a13f5e2a59cf"
   },
   "outputs": [],
   "source": [
    "tokenizer(\"Hello, this is one sentence!\", return_tensors='pt')"
   ]
  },
  {
   "cell_type": "code",
   "execution_count": null,
   "metadata": {
    "colab": {
     "base_uri": "https://localhost:8080/"
    },
    "id": "47YQJ0hRuWpU",
    "outputId": "d67cf9a2-0784-4df3-d83e-7cdb14ad3182"
   },
   "outputs": [],
   "source": [
    "tokenizer([\"Hello\", \",\", \"this\", \"is\", \"one\", \"sentence\", \"split\", \"into\", \"words\", \".\"], is_split_into_words=True, return_tensors='pt')"
   ]
  },
  {
   "cell_type": "code",
   "execution_count": null,
   "metadata": {
    "colab": {
     "base_uri": "https://localhost:8080/"
    },
    "id": "hLJwebH9uWpU",
    "outputId": "129f56a1-34e4-4c0a-f8fa-07fcc33995f7"
   },
   "outputs": [],
   "source": [
    "example = datasets[\"train\"][4]\n",
    "print(example[\"tokens\"])"
   ]
  },
  {
   "cell_type": "code",
   "execution_count": null,
   "metadata": {
    "colab": {
     "base_uri": "https://localhost:8080/"
    },
    "id": "KwebQYUxuWpV",
    "outputId": "671d41c5-2484-4c69-c2d6-eab85b711c3b"
   },
   "outputs": [],
   "source": [
    "tokenized_input = tokenizer(example[\"tokens\"], is_split_into_words=True, return_tensors='pt')\n",
    "tokens = tokenizer.convert_ids_to_tokens(tokenized_input[\"input_ids\"][0])\n",
    "print(example[\"tokens\"])\n",
    "print(tokens)"
   ]
  },
  {
   "cell_type": "code",
   "execution_count": null,
   "metadata": {
    "colab": {
     "base_uri": "https://localhost:8080/"
    },
    "id": "f1FaapfTuWpV",
    "outputId": "48f90613-f315-4749-e13c-52df6a09e93b"
   },
   "outputs": [],
   "source": [
    "# print(task)\n",
    "len(example[f\"ner_tags_named\"]), tokenized_input[\"input_ids\"].shape#, example[f\"ner_tags_named\"]"
   ]
  },
  {
   "cell_type": "code",
   "execution_count": null,
   "metadata": {
    "colab": {
     "base_uri": "https://localhost:8080/"
    },
    "id": "q2k6sz-QuWpV",
    "outputId": "8bffbd91-fd30-449c-cc64-c1ad04db1109"
   },
   "outputs": [],
   "source": [
    "print(tokenized_input.word_ids())"
   ]
  },
  {
   "cell_type": "code",
   "execution_count": null,
   "metadata": {
    "colab": {
     "base_uri": "https://localhost:8080/"
    },
    "id": "TZli1aA9uWpW",
    "outputId": "13c7d9dd-4a66-486f-8da1-2e9c2024bb33"
   },
   "outputs": [],
   "source": [
    "word_ids = tokenized_input.word_ids()\n",
    "aligned_labels = [-100 if i is None else example[f\"ner_tags\"][i] for i in word_ids]\n",
    "print(len(aligned_labels), tokenized_input[\"input_ids\"].shape)\n",
    "# aligned_labels"
   ]
  },
  {
   "cell_type": "code",
   "execution_count": null,
   "metadata": {
    "id": "TPsMJwCmuWpW"
   },
   "outputs": [],
   "source": [
    "label_all_tokens = True"
   ]
  },
  {
   "cell_type": "code",
   "execution_count": null,
   "metadata": {
    "id": "vc0BSBLIIrJQ"
   },
   "outputs": [],
   "source": [
    "import torch\n",
    "\n",
    "def tokenize_and_align_labels(examples):\n",
    "    tokenized_inputs = tokenizer(examples[\"tokens\"], truncation=True, is_split_into_words=True, padding='max_length', max_length=512, return_tensors='pt')\n",
    "\n",
    "    labels = []\n",
    "    for i, label in enumerate(examples[f\"ner_tags\"]):\n",
    "        word_ids = tokenized_inputs.word_ids(batch_index=i)\n",
    "        previous_word_idx = None\n",
    "        label_ids = []\n",
    "        for word_idx in word_ids:\n",
    "            # Special tokens have a word id that is None. We set the label to -100 so they are automatically\n",
    "            # ignored in the loss function.\n",
    "            if word_idx is None:\n",
    "                label_ids.append(-100)\n",
    "            # We set the label for the first token of each word.\n",
    "            elif word_idx != previous_word_idx:\n",
    "                label_ids.append(label[word_idx])\n",
    "            # For the other tokens in a word, we set the label to either the current label or -100, depending on\n",
    "            # the label_all_tokens flag.\n",
    "            else:\n",
    "                label_ids.append(label[word_idx] if label_all_tokens else -100)\n",
    "            previous_word_idx = word_idx\n",
    "\n",
    "        labels.append(label_ids)\n",
    "\n",
    "    tokenized_inputs[\"labels\"] = torch.Tensor(labels).long()\n",
    "\n",
    "    ## dummy data. to avoid collate issue.\n",
    "    tokenized_inputs[\"tokens\"] = tokenized_inputs['input_ids']\n",
    "    tokenized_inputs[\"lang\"] = tokenized_inputs['input_ids']\n",
    "    tokenized_inputs[\"ner_tags\"] = tokenized_inputs['input_ids']\n",
    "    tokenized_inputs[\"ner_tags_named\"] = tokenized_inputs['input_ids']\n",
    "    return tokenized_inputs"
   ]
  },
  {
   "cell_type": "code",
   "execution_count": null,
   "metadata": {
    "id": "-b70jh26IrJS"
   },
   "outputs": [],
   "source": [
    "# ### show some examples\n",
    "# temp_data = tokenize_and_align_labels(datasets['train'][:5])\n",
    "# for key in temp_data:\n",
    "#     print(key, ':\\n', temp_data[key].shape)\n",
    "\n",
    "# for i in range(len(temp_data['input_ids'])):\n",
    "#     print(i, ':', tokenizer.convert_ids_to_tokens(temp_data['input_ids'][i]))"
   ]
  },
  {
   "cell_type": "code",
   "execution_count": null,
   "metadata": {
    "colab": {
     "base_uri": "https://localhost:8080/",
     "height": 54,
     "referenced_widgets": [
      "6cc2e860eb974cea8f0d01338c0930a3",
      "6560984de3914508b4cb1f67ee1ffa28",
      "668198e106b94a6ebddad522e40b6809",
      "3540cc3680e24b4b9d0bed1eb2a1f87e",
      "d172fd0abcaf4eb9a07851f1ae43d83b",
      "82a5fb83a3fa4929b96fc043aa98d0ff",
      "50e85ab517ba4ca2a237a35281b203fb",
      "acec2cd4ab834ed287f38d1a8e3131a2",
      "395276eab6d243e7b6278c108bc9f91d",
      "5edfc6490e0c4b19b854d0eafc15319b",
      "fa0583692e414c15bac49f5ed9d151ac",
      "5dfbb9933d674d5a99cf614610c7fdff",
      "0cfea286edb54d5a96a9fcb02708bac4",
      "810c627d04be49b399244e6ce1fd1ed0",
      "229ac062991b4a99a789002c3852e1f3",
      "678cddab8c6741b9bf289e05d7a95089",
      "1dba8d55455d45dba3098cf4f3711fe1",
      "208cec1d4dda48eead7fcc4b24d6469d",
      "b50fde4ff96b4860ac5a77a291d7fd97",
      "ab80c67d1dfa4de1ac1911bf48c237bb",
      "3f45cf193e314cb0954d381b268ba81b",
      "f05c1026187249cab609e9e6f80d0a1e"
     ]
    },
    "id": "DDtsaJeVIrJT",
    "outputId": "5c3dfcde-df82-4cb0-8037-187c730e1354"
   },
   "outputs": [],
   "source": [
    "ner_dataset_raw = datasets\n",
    "ner_dataset = {}\n",
    "for key in ner_dataset_raw:\n",
    "    ner_dataset[key] = ner_dataset_raw[key].map(tokenize_and_align_labels, batched=True)\n",
    "    # del ner_dataset[key].features['tokens']\n",
    "    # del ner_dataset[key].features['ner_tags']\n",
    "    # del ner_dataset[key].features['ner_tags_named']\n",
    "    ner_dataset[key].set_format(\"torch\")"
   ]
  },
  {
   "cell_type": "code",
   "execution_count": null,
   "metadata": {
    "id": "Hyd1JF-y2q_G"
   },
   "outputs": [],
   "source": [
    "# for key in ner_dataset['train'][:1]:\n",
    "#     print(key, ':', ner_dataset['train'][:1][key])\n",
    "\n",
    "# ner_dataset['train'][:1]"
   ]
  },
  {
   "cell_type": "code",
   "execution_count": null,
   "metadata": {
    "id": "wWYlzEG74vaZ"
   },
   "outputs": [],
   "source": [
    "# show_random_elements(ner_dataset['train'])#datasets['train'].map(tokenize_and_align_labels, batched=True))"
   ]
  },
  {
   "cell_type": "code",
   "execution_count": null,
   "metadata": {
    "colab": {
     "base_uri": "https://localhost:8080/",
     "height": 156,
     "referenced_widgets": [
      "1ac673307d3846af821d15b99b6fc0f4",
      "417a96ec073f4efeba02af4d2f092ee7",
      "f5f7be4f936d4fd8a4ab7a3f1764748e",
      "654b3e4330234222936f3a6b0e28c9bd",
      "45986e238f884a75b860e312e188737a",
      "6eba33a9c349429c9f9ed380d95e3df9",
      "83589a8e776f42b694f78f6b16a049f8",
      "9793338993914056ad7a30df40d110c7",
      "3f02be4cb31649f790814a5f96c1940b",
      "6280c4f14d4648fb808d5e67eaa807c0",
      "8e591d6620294b2faec979a3abc7c6e9",
      "0bac7d2437b044079c7796bfa6f3f1ba",
      "1ae8bde586564e1a9e56fd0114526b8b",
      "43b8e0f528f54d1fbf3ff11d6159a791",
      "f28d72d8bda446beb472681e85541508",
      "5da5ddba8ec64339942ee159214d6cef",
      "c2fcaefe7bf845c5a16e373018419883",
      "6268eed2606e4dcea9118dcbca982721",
      "5adec9e7378d4d4181a0bd092ae0b71a",
      "83a8e74ab8534e2ea6aac004877b029f",
      "5dabae5bcc4d4975a5ea3ae610e5cfb1",
      "35d8e6de07714137b1a1b9dfb67dec17"
     ]
    },
    "id": "kcUX8x5fBcZ3",
    "outputId": "1e1856cc-e090-428f-9ce8-cd8e65087f0c"
   },
   "outputs": [],
   "source": [
    "#### Dataset finalize\n",
    "\n",
    "from transformers import AutoTokenizer, AutoModelForSequenceClassification, TrainingArguments, Trainer\n",
    "from datasets import load_dataset, load_metric\n",
    "import torch\n",
    "import numpy as np \n",
    "import evaluate \n",
    "# Load the dataset\n",
    "dataset_nli = load_dataset(\"multi_nli\")\n",
    "# Filter the training set to include only the genre you want to train on\n",
    "nli_dataset = {}\n",
    "nli_dataset['train'] = dataset_nli[\"train\"]\n",
    "nli_dataset['val'] = dataset_nli[\"validation_matched\"]#.shuffle(seed=42).select(range(100)) ## subsampling for debug only\n",
    "# nli_dataset['train'] = dataset_nli[\"train\"].filter(lambda example: example[\"genre\"] == \"travel\").shuffle(seed=42).select(range(1000))\n",
    "# nli_dataset['val'] = dataset_nli[\"train\"].filter(lambda example: example[\"genre\"] == \"telephone\").shuffle(seed=42).select(range(100))\n",
    "\n",
    "metric_nli = evaluate.load(\"accuracy\")\n",
    "metric_ner = evaluate.load(\"seqeval\")\n",
    "# metric_ner = load_metric(\"seqeval\") #old code. future warning\n",
    "\n",
    "def tokenize_dataset(dataset):\n",
    "    return dataset.map(lambda example: tokenizer(example[\"premise\"], example[\"hypothesis\"], truncation=True, return_tensors='pt', \n",
    "                                                 padding='max_length', max_length=512), batched=True)\n",
    "\n",
    "for key in nli_dataset:\n",
    "    nli_dataset[key] = tokenize_dataset(nli_dataset[key])\n",
    "    nli_dataset[key].set_format(\"torch\")\n",
    "\n",
    "def compute_metrics_nli(eval_pred):\n",
    "    logits, labels = eval_pred\n",
    "    predictions = np.argmax(logits, axis=-1)\n",
    "    return metric_nli.compute(predictions=predictions, references=labels)\n",
    "\n",
    "def compute_metrics_ner(eval_pred):\n",
    "    predictions, labels = eval_pred\n",
    "    predictions = np.argmax(predictions, axis=-1)\n",
    "\n",
    "    # Remove ignored index (special tokens)\n",
    "    true_predictions = [\n",
    "        [label_list[p] for (p, l) in zip(prediction, label) if l != -100]\n",
    "        for prediction, label in zip(predictions, labels)\n",
    "    ]\n",
    "    true_labels = [\n",
    "        [label_list[l] for (p, l) in zip(prediction, label) if l != -100]\n",
    "        for prediction, label in zip(predictions, labels)\n",
    "    ]\n",
    "\n",
    "    results = metric_ner.compute(predictions=true_predictions, references=true_labels)\n",
    "    return {\n",
    "        \"precision\": results[\"overall_precision\"],\n",
    "        \"recall\": results[\"overall_recall\"],\n",
    "        \"f1\": results[\"overall_f1\"],\n",
    "        \"accuracy\": results[\"overall_accuracy\"],\n",
    "    }"
   ]
  },
  {
   "cell_type": "code",
   "execution_count": null,
   "metadata": {
    "id": "0URltG-PDM8i"
   },
   "outputs": [],
   "source": [
    "# show_random_elements(nli_dataset['train'])"
   ]
  },
  {
   "cell_type": "code",
   "execution_count": null,
   "metadata": {
    "colab": {
     "base_uri": "https://localhost:8080/"
    },
    "id": "TlqNaB8jIrJW",
    "outputId": "7461171c-d18a-491e-dfc6-02ef1f3ce9e0"
   },
   "outputs": [],
   "source": [
    "# Load the BERT models for NLI and NER\n",
    "\n",
    "from transformers import AutoModelForTokenClassification, TrainingArguments, Trainer, DataCollatorForTokenClassification\n",
    "\n",
    "model_nli = AutoModelForSequenceClassification.from_pretrained(model_checkpoint, num_labels=3)\n",
    "model_ner = AutoModelForTokenClassification.from_pretrained(model_checkpoint, num_labels=len(label_list))\n",
    "\n",
    "data_collator = DataCollatorForTokenClassification(tokenizer)"
   ]
  },
  {
   "cell_type": "code",
   "execution_count": null,
   "metadata": {},
   "outputs": [],
   "source": [
    "# model_ner.bert.embeddings, model_ner.bert.encoder"
   ]
  },
  {
   "cell_type": "code",
   "execution_count": null,
   "metadata": {
    "colab": {
     "base_uri": "https://localhost:8080/"
    },
    "id": "o0UIIBJNuWpc",
    "outputId": "c79ab395-e217-42a5-a3c9-257afe56d7b9"
   },
   "outputs": [],
   "source": [
    "# labels = [label_list[i] for i in example[f\"ner_tags\"]]\n",
    "# metric_ner.compute(predictions=[labels], references=[labels])\n",
    "\n",
    "model_ner.bert.embeddings, model_ner.bert.encoder"
   ]
  },
  {
   "cell_type": "code",
   "execution_count": null,
   "metadata": {
    "id": "JL7l9doxuWpd"
   },
   "outputs": [],
   "source": [
    "# predictions, labels, _ = trainer_ner.predict(ner_dataset[\"val\"])\n",
    "# predictions = np.argmax(predictions, axis=2)\n",
    "\n",
    "# # Remove ignored index (special tokens)\n",
    "# true_predictions = [\n",
    "#     [label_list[p] for (p, l) in zip(prediction, label) if l != -100]\n",
    "#     for prediction, label in zip(predictions, labels)\n",
    "# ]\n",
    "# true_labels = [\n",
    "#     [label_list[l] for (p, l) in zip(prediction, label) if l != -100]\n",
    "#     for prediction, label in zip(predictions, labels)\n",
    "# ]\n",
    "\n",
    "# results = metric_ner.compute(predictions=true_predictions, references=true_labels)\n",
    "# results"
   ]
  },
  {
   "cell_type": "code",
   "execution_count": null,
   "metadata": {
    "id": "pudf5VJJr1Jq"
   },
   "outputs": [],
   "source": [
    "# # train_dataset_nli[0].keys()\n",
    "# example = ner_dataset['train'][0]\n",
    "# type(example['input_ids'])\n",
    "# # example[\"premise\"] + ' ' + example[\"hypothesis\"]"
   ]
  },
  {
   "cell_type": "code",
   "execution_count": null,
   "metadata": {
    "id": "PNm2swW-Fbea"
   },
   "outputs": [],
   "source": [
    "\n"
   ]
  },
  {
   "cell_type": "code",
   "execution_count": null,
   "metadata": {
    "id": "6SGqNEnHMecn"
   },
   "outputs": [],
   "source": []
  },
  {
   "cell_type": "code",
   "execution_count": null,
   "metadata": {
    "colab": {
     "base_uri": "https://localhost:8080/"
    },
    "id": "x8JlOY76Fbhx",
    "outputId": "46990d63-6e55-4286-e75a-ba718c3385b2"
   },
   "outputs": [],
   "source": [
    "len(label_list)"
   ]
  },
  {
   "cell_type": "code",
   "execution_count": null,
   "metadata": {
    "id": "inIwVG02bacK"
   },
   "outputs": [],
   "source": [
    "from torch import nn\n",
    "class custom_nli_ner_model(nn.Module):\n",
    "    def __init__(self):\n",
    "        super().__init__()\n",
    "        self.model_nli = AutoModelForSequenceClassification.from_pretrained(model_checkpoint, num_labels=3)\n",
    "        self.model_ner = AutoModelForTokenClassification.from_pretrained(model_checkpoint, num_labels=9)\n",
    "        # self.model_nli = model_nli\n",
    "        # self.model_ner = model_ner\n",
    "#         self.model_ner.distilbert = self.model_nli.distilbert \n",
    "        self.model_nli.bert.embeddings = self.model_ner.bert.embeddings\n",
    "        self.model_nli.bert.encoder = self.model_ner.bert.encoder\n",
    "        # self.device = self.model_ner.device\n",
    "        print('self.model_ner.device:', self.model_ner.device)\n",
    "#         assert (self.model_ner.distilbert == self.model_nli.distilbert), 'The models should have the same backbone/encoder'\n",
    "        assert (self.model_ner.bert.embeddings == self.model_nli.bert.embeddings), 'The models should have the same embeddings' \n",
    "        assert (self.model_ner.bert.encoder == self.model_nli.bert.encoder), 'The models should have the same encoder'\n",
    "\n",
    "    def forward(self,\n",
    "        task, **kwargs,\n",
    "        # input_ids=None,\n",
    "        # attention_mask=None,\n",
    "        # token_type_ids=None,\n",
    "        # position_ids=None,\n",
    "        # head_mask=None,\n",
    "        # inputs_embeds=None,\n",
    "        # labels=None,\n",
    "        # task_ids=None,\n",
    "        # **kwargs,\n",
    "    ):\n",
    "        # print('kwargs:', kwargs)\n",
    "        if task == 'nli':\n",
    "            return self.model_nli(\n",
    "                        # input_ids=input_ids,\n",
    "                        # attention_mask=attention_mask,\n",
    "                        # head_mask=head_mask,\n",
    "                        # inputs_embeds=inputs_embeds\n",
    "                        # labels=kwargs['label'],\n",
    "                        **kwargs\n",
    "                    )\n",
    "        elif task == 'ner':\n",
    "            return self.model_ner(\n",
    "                        # input_ids=input_ids,\n",
    "                        # attention_mask=attention_mask,\n",
    "                        # head_mask=head_mask,\n",
    "                        # inputs_embeds=inputs_embeds\n",
    "                        # labels=kwargs['labels'],\n",
    "                        **kwargs\n",
    "                    )\n",
    "        else:\n",
    "            raise"
   ]
  },
  {
   "cell_type": "code",
   "execution_count": null,
   "metadata": {
    "colab": {
     "base_uri": "https://localhost:8080/"
    },
    "id": "vZ-mspRQbaeK",
    "outputId": "7d333791-8bd7-47a2-e977-d8325876f068"
   },
   "outputs": [],
   "source": [
    "# model_nli(**ner_dataset[\"train\"][0])\n",
    "\n",
    "multitask_model = custom_nli_ner_model()\n",
    "multitask_model = multitask_model.cuda()"
   ]
  },
  {
   "cell_type": "code",
   "execution_count": null,
   "metadata": {
    "colab": {
     "base_uri": "https://localhost:8080/"
    },
    "id": "De7eQtcdbahv",
    "outputId": "4f8bf83e-c1a0-44d6-b5f0-8c1691337710"
   },
   "outputs": [],
   "source": [
    "task = 'nli'\n",
    "if task=='ner':\n",
    "    sample = ner_dataset[\"train\"][:3] \n",
    "    label_key = 'labels'\n",
    "elif task=='nli':\n",
    "    sample = nli_dataset[\"train\"][:3] \n",
    "print(sample.keys())\n",
    "# print(sample)\n",
    "\n",
    "label_keys = {'ner':'labels', 'nli':'label'}\n",
    "# def totensor(x):\n",
    "#     return torch.Tensor(x)\n",
    "# out = multitask_model(task=task, **sample)\n",
    "# sample['labels']\n",
    "print()\n",
    "out = multitask_model(task=task,\n",
    "                 input_ids=sample['input_ids'].cuda(), \n",
    "                 attention_mask=sample['attention_mask'].cuda(), \n",
    "                 labels=sample[label_keys[task]].cuda()\n",
    "                 )\n",
    "\n",
    "for key in out:\n",
    "    print(key, \":\", out[key], out[key].shape)\n",
    "\n",
    "print(out.keys())"
   ]
  },
  {
   "cell_type": "code",
   "execution_count": null,
   "metadata": {
    "colab": {
     "base_uri": "https://localhost:8080/"
    },
    "id": "KY6DQqUUrdSF",
    "outputId": "83e29b28-3b9a-4fca-a94e-6f8561ee694a"
   },
   "outputs": [],
   "source": [
    "from torch.utils.data import DataLoader\n",
    "\n",
    "batch_size = 8\n",
    "worker_num = 0\n",
    "\n",
    "nli_dataloaders = {} \n",
    "nli_dataloaders['train'] = DataLoader(nli_dataset[\"train\"], shuffle=True, batch_size=batch_size, num_workers=worker_num)\n",
    "nli_dataloaders['val'] = DataLoader(nli_dataset[\"val\"], batch_size=batch_size*4, num_workers=worker_num)\n",
    "\n",
    "ner_dataloaders = {} \n",
    "ner_dataloaders['train'] = DataLoader(ner_dataset[\"train\"], shuffle=True, batch_size=batch_size, num_workers=worker_num)\n",
    "ner_dataloaders['val'] = DataLoader(ner_dataset[\"val\"], batch_size=batch_size*4, num_workers=worker_num)"
   ]
  },
  {
   "cell_type": "code",
   "execution_count": null,
   "metadata": {
    "colab": {
     "base_uri": "https://localhost:8080/"
    },
    "id": "_cpaSRwpu-yX",
    "outputId": "f60302e5-afbd-4a63-d7e7-52e99bb19319"
   },
   "outputs": [],
   "source": [
    "\n",
    "\n",
    "for i, data in enumerate(nli_dataloaders['train']):\n",
    "    print(i, data['input_ids'].shape)\n",
    "    if i == 5:\n",
    "        break\n",
    "print()\n",
    "for i, data in enumerate(ner_dataloaders['train']):\n",
    "    print(i, data['input_ids'].shape)\n",
    "    if i == 5:\n",
    "        break"
   ]
  },
  {
   "cell_type": "code",
   "execution_count": null,
   "metadata": {
    "colab": {
     "base_uri": "https://localhost:8080/"
    },
    "id": "B6gvWLIqu_9x",
    "outputId": "d3dc0a43-daf1-4efb-f7d4-dd13fc195ba3"
   },
   "outputs": [],
   "source": [
    "nli_dataset['val']['label']"
   ]
  },
  {
   "cell_type": "code",
   "execution_count": null,
   "metadata": {
    "colab": {
     "base_uri": "https://localhost:8080/"
    },
    "id": "Jzdq8HatSDHw",
    "outputId": "728adb66-5af2-47b1-bbec-a25ebfc91b28"
   },
   "outputs": [],
   "source": [
    "## checking the parameters of the forward function\n",
    "import inspect\n",
    "\n",
    "print(inspect.getfullargspec(model_nli.forward))\n",
    "print(inspect.getfullargspec(model_ner.forward))"
   ]
  },
  {
   "cell_type": "code",
   "execution_count": null,
   "metadata": {
    "colab": {
     "base_uri": "https://localhost:8080/"
    },
    "id": "_Ib3yeH6Shpd",
    "outputId": "97c9b49a-f2ff-4771-e1a5-0444a402c572"
   },
   "outputs": [],
   "source": [
    "multitask_model.load_state_dict(torch.load('nli_ner_fixed_weights_.pth'))\n",
    "multitask_model.cuda()\n",
    "\n",
    "### NER trainer\n",
    "\n",
    "training_args_ner = TrainingArguments(\n",
    "    f\"ner-finetuned\",\n",
    "    evaluation_strategy = \"epoch\",\n",
    "    learning_rate=2e-5,\n",
    "    per_device_train_batch_size=batch_size,\n",
    "    per_device_eval_batch_size=batch_size*4,\n",
    "    num_train_epochs=3,\n",
    "    weight_decay=0.01,\n",
    "    logging_dir=\"./logs\",\n",
    "    logging_steps=500,\n",
    ")\n",
    "\n",
    "trainer_ner = Trainer(\n",
    "    model=multitask_model.model_ner,\n",
    "    args=training_args_ner,\n",
    "    train_dataset=ner_dataset[\"train\"],\n",
    "    eval_dataset=ner_dataset[\"val\"],\n",
    "    data_collator=data_collator,\n",
    "    tokenizer=tokenizer,\n",
    "    compute_metrics=compute_metrics_ner\n",
    ")\n",
    "\n",
    "### NLI trainer\n",
    "\n",
    "training_args_nli = TrainingArguments(\n",
    "    output_dir=\"./results\",\n",
    "    evaluation_strategy=\"epoch\",\n",
    "    learning_rate=2e-5,\n",
    "    per_device_train_batch_size=batch_size,\n",
    "    per_device_eval_batch_size=batch_size*4,\n",
    "    num_train_epochs=3,\n",
    "    weight_decay=0.01,\n",
    "    logging_dir=\"./logs\",\n",
    "    logging_steps=500,\n",
    ")\n",
    "\n",
    "trainer_nli = Trainer(\n",
    "    model=multitask_model.model_nli,\n",
    "    args=training_args_nli,\n",
    "    train_dataset=nli_dataset['train'], #train_dataset,\n",
    "    eval_dataset=nli_dataset['val'],\n",
    "    compute_metrics=compute_metrics_nli,\n",
    ")\n",
    "\n",
    "\n",
    "#### training single task models\n",
    "# trainer_ner.train()\n",
    "# trainer_nli.train()\n",
    "\n",
    "# eval_results_nli = trainer_nli.evaluate(nli_dataset['val'])\n",
    "# eval_results_ner = trainer_ner.evaluate(ner_dataset['val'])\n",
    "\n",
    "# eval_results_nli, eval_results_ner, "
   ]
  },
  {
   "cell_type": "code",
   "execution_count": null,
   "metadata": {
    "id": "-NnAJd7hThmw"
   },
   "outputs": [],
   "source": [
    "# trainer_ner.predict(ner_dataset['val'])"
   ]
  },
  {
   "cell_type": "code",
   "execution_count": null,
   "metadata": {
    "id": "o9zPgl0KUdHM"
   },
   "outputs": [],
   "source": []
  },
  {
   "cell_type": "code",
   "execution_count": null,
   "metadata": {
    "colab": {
     "base_uri": "https://localhost:8080/",
     "height": 484,
     "referenced_widgets": [
      "41ea2d173e524dcab14feee5ad38918c",
      "a2b7364f12db423a97c6f3a0e47cfbda",
      "b1609f91485b4628ab568fbea9d5e06e",
      "102c2ad20b79440aa1dbad08324dee80",
      "6f2ff1155d2f4e27ba0734e7ea48557a",
      "10cb6d9bf49c4b73bddfe75f074cc46a",
      "9bca39d5f7514f428446151d3b661c68",
      "ac289de35cf0412d869456ef32c95c64",
      "20977e1c40b04dac85f190128f873f31",
      "bf62ecaf560545208dd82866648b92d1",
      "57a82fbf2cbd4725b6f583f7af7426d3"
     ]
    },
    "id": "X9yfwWV3zJ3d",
    "outputId": "dbf74d1c-48ca-4717-be94-bd358d75e549",
    "scrolled": true
   },
   "outputs": [],
   "source": [
    "### training multitask simultaneous\n",
    "\n",
    "from collections import Counter\n",
    "from torch.optim import AdamW\n",
    "from transformers import get_scheduler\n",
    "from tqdm.auto import tqdm\n",
    "\n",
    "### task sampler dataloader\n",
    "dataloader_dict = {'nli': nli_dataloaders['train'], 'ner': ner_dataloaders['train']}\n",
    "task_sampler = TaskSampler(dataloader_dict=dataloader_dict, max_iters=10_000, task_weights=[.5, .5])\n",
    "\n",
    "\n",
    "### training misc.\n",
    "optimizer = AdamW(multitask_model.parameters(), lr=2e-5)\n",
    "num_epochs = 5\n",
    "num_training_steps = num_epochs * task_sampler.max_iters\n",
    "lr_scheduler = get_scheduler(name=\"linear\", optimizer=optimizer, num_warmup_steps=0, num_training_steps=num_training_steps)\n",
    "progress_bar = tqdm(range(num_training_steps))\n",
    "\n",
    "freq_list = [] \n",
    "\n",
    "loss_prev = {}\n",
    "loss_prev['nli'] = -1 # L(t-1)\n",
    "loss_prev['ner'] = -1 # L(t-1)\n",
    "loss_current = {}\n",
    "loss_current['nli'] = -1 # L(t)\n",
    "loss_current['ner'] = -1 # L(t)\n",
    "# NumTasks = 2 ## T in equation\n",
    "_sigma_ = 1 ### ?\n",
    "\n",
    "### training loop \n",
    "for epoch in range(num_epochs):\n",
    "    \n",
    "    multitask_model.train()\n",
    "    \n",
    "    for batch_index, batch in enumerate(task_sampler):\n",
    "#         break\n",
    "        task, sample = batch\n",
    "        freq_list += [task]\n",
    "        # print(batch_index, task, sample)\n",
    "        \n",
    "        outputs = multitask_model(task=task,\n",
    "                            input_ids=sample['input_ids'].cuda(), \n",
    "                            attention_mask=sample['attention_mask'].cuda(), \n",
    "                            labels=sample[label_keys[task]].cuda()\n",
    "                            )\n",
    "        loss = outputs.loss\n",
    "        loss_current[task] = loss.item()\n",
    "        loss.backward()\n",
    "\n",
    "        optimizer.step()\n",
    "        lr_scheduler.step()\n",
    "        optimizer.zero_grad()\n",
    "        progress_bar.update(1)\n",
    "        \n",
    "#         ## weight update\n",
    "#         if loss_prev['nli'] >= 0 and loss_prev['ner'] >= 0:\n",
    "#             exp_r_nli = np.exp((loss_current['nli']/loss_prev['nli']) / _sigma_) \n",
    "#             exp_r_ner = np.exp((loss_current['ner']/loss_prev['ner']) / _sigma_) \n",
    "#             w_nli = exp_r_nli/(exp_r_nli+exp_r_ner)\n",
    "#             task_sampler.set_task_weights(task_weights=[w_nli, 1-w_nli])\n",
    "#             print('set_task_weights updated:', task_sampler.task_weights) \n",
    "        \n",
    "        for key in loss_current:\n",
    "            loss_prev[key] = loss_current[key]\n",
    "        \n",
    "        # print(outputs)\n",
    "\n",
    "    \n",
    "    multitask_model.eval()\n",
    "    \n",
    "    torch.save(multitask_model.state_dict(), 'nli_ner_fixed_weights.pth')\n",
    "    \n",
    "    eval_results_nli = trainer_nli.evaluate(nli_dataset['val']); print('epoch:', epoch, '> eval_results_nli:', eval_results_nli)\n",
    "    eval_results_ner = trainer_ner.evaluate(ner_dataset['val']); print('epoch:', epoch, '> eval_results_ner:', eval_results_ner)\n",
    "    \n",
    "\n",
    "\n",
    "print('Sample frequency stat:')\n",
    "cntr = Counter(freq_list)\n",
    "cntr['nli'], cntr['ner']"
   ]
  },
  {
   "cell_type": "code",
   "execution_count": null,
   "metadata": {
    "id": "DEKr5DNdVKBS"
   },
   "outputs": [],
   "source": [
    "# torch.save(multitask_model.state_dict(), 'nli_ner.pth')\n",
    "\n",
    "multitask_model = custom_nli_ner_model()\n",
    "multitask_model.load_state_dict(torch.load('nli_ner_fixed_weights.pth'))\n",
    "multitask_model = multitask_model.cuda()\n",
    "# multitask_model.eval() "
   ]
  },
  {
   "cell_type": "code",
   "execution_count": null,
   "metadata": {
    "id": "Aa0uy22izjZr"
   },
   "outputs": [],
   "source": [
    "trainer_ner = Trainer(\n",
    "    model=multitask_model.model_ner,\n",
    "    args=training_args_ner,\n",
    "    train_dataset=ner_dataset[\"train\"],\n",
    "    eval_dataset=ner_dataset[\"val\"],\n",
    "    data_collator=data_collator,\n",
    "    tokenizer=tokenizer,\n",
    "    compute_metrics=compute_metrics_ner\n",
    ")\n",
    "trainer_nli = Trainer(\n",
    "    model=multitask_model.model_nli,\n",
    "    args=training_args_nli,\n",
    "    train_dataset=nli_dataset['train'], #train_dataset,\n",
    "    eval_dataset=nli_dataset['val'],\n",
    "    compute_metrics=compute_metrics_nli,\n",
    ")\n",
    "eval_results_nli = trainer_nli.evaluate(nli_dataset['val']); print('eval_results_nli:', eval_results_nli)\n",
    "eval_results_ner = trainer_ner.evaluate(ner_dataset['val']); print('eval_results_ner:', eval_results_ner)\n"
   ]
  },
  {
   "cell_type": "code",
   "execution_count": null,
   "metadata": {},
   "outputs": [],
   "source": [
    "trainer_nli.save_model('./fixed_weight')"
   ]
  },
  {
   "cell_type": "code",
   "execution_count": null,
   "metadata": {},
   "outputs": [],
   "source": [
    "# !zip -r fixed_weight.zip fixed_weight"
   ]
  },
  {
   "cell_type": "code",
   "execution_count": null,
   "metadata": {},
   "outputs": [],
   "source": []
  }
 ],
 "metadata": {
  "accelerator": "GPU",
  "colab": {
   "provenance": []
  },
  "gpuClass": "standard",
  "kernelspec": {
   "display_name": "Python 3 (ipykernel)",
   "language": "python",
   "name": "python3"
  },
  "language_info": {
   "codemirror_mode": {
    "name": "ipython",
    "version": 3
   },
   "file_extension": ".py",
   "mimetype": "text/x-python",
   "name": "python",
   "nbconvert_exporter": "python",
   "pygments_lexer": "ipython3",
   "version": "3.10.9"
  },
  "widgets": {
   "application/vnd.jupyter.widget-state+json": {
    "0bac7d2437b044079c7796bfa6f3f1ba": {
     "model_module": "@jupyter-widgets/controls",
     "model_module_version": "1.5.0",
     "model_name": "HBoxModel",
     "state": {
      "_dom_classes": [],
      "_model_module": "@jupyter-widgets/controls",
      "_model_module_version": "1.5.0",
      "_model_name": "HBoxModel",
      "_view_count": null,
      "_view_module": "@jupyter-widgets/controls",
      "_view_module_version": "1.5.0",
      "_view_name": "HBoxView",
      "box_style": "",
      "children": [
       "IPY_MODEL_1ae8bde586564e1a9e56fd0114526b8b",
       "IPY_MODEL_43b8e0f528f54d1fbf3ff11d6159a791",
       "IPY_MODEL_f28d72d8bda446beb472681e85541508"
      ],
      "layout": "IPY_MODEL_5da5ddba8ec64339942ee159214d6cef"
     }
    },
    "0cfea286edb54d5a96a9fcb02708bac4": {
     "model_module": "@jupyter-widgets/controls",
     "model_module_version": "1.5.0",
     "model_name": "HTMLModel",
     "state": {
      "_dom_classes": [],
      "_model_module": "@jupyter-widgets/controls",
      "_model_module_version": "1.5.0",
      "_model_name": "HTMLModel",
      "_view_count": null,
      "_view_module": "@jupyter-widgets/controls",
      "_view_module_version": "1.5.0",
      "_view_name": "HTMLView",
      "description": "",
      "description_tooltip": null,
      "layout": "IPY_MODEL_1dba8d55455d45dba3098cf4f3711fe1",
      "placeholder": "​",
      "style": "IPY_MODEL_208cec1d4dda48eead7fcc4b24d6469d",
      "value": "Map: 100%"
     }
    },
    "102c2ad20b79440aa1dbad08324dee80": {
     "model_module": "@jupyter-widgets/controls",
     "model_module_version": "1.5.0",
     "model_name": "HTMLModel",
     "state": {
      "_dom_classes": [],
      "_model_module": "@jupyter-widgets/controls",
      "_model_module_version": "1.5.0",
      "_model_name": "HTMLModel",
      "_view_count": null,
      "_view_module": "@jupyter-widgets/controls",
      "_view_module_version": "1.5.0",
      "_view_name": "HTMLView",
      "description": "",
      "description_tooltip": null,
      "layout": "IPY_MODEL_bf62ecaf560545208dd82866648b92d1",
      "placeholder": "​",
      "style": "IPY_MODEL_57a82fbf2cbd4725b6f583f7af7426d3",
      "value": " 0/15000 [00:00&lt;?, ?it/s]"
     }
    },
    "10cb6d9bf49c4b73bddfe75f074cc46a": {
     "model_module": "@jupyter-widgets/base",
     "model_module_version": "1.2.0",
     "model_name": "LayoutModel",
     "state": {
      "_model_module": "@jupyter-widgets/base",
      "_model_module_version": "1.2.0",
      "_model_name": "LayoutModel",
      "_view_count": null,
      "_view_module": "@jupyter-widgets/base",
      "_view_module_version": "1.2.0",
      "_view_name": "LayoutView",
      "align_content": null,
      "align_items": null,
      "align_self": null,
      "border": null,
      "bottom": null,
      "display": null,
      "flex": null,
      "flex_flow": null,
      "grid_area": null,
      "grid_auto_columns": null,
      "grid_auto_flow": null,
      "grid_auto_rows": null,
      "grid_column": null,
      "grid_gap": null,
      "grid_row": null,
      "grid_template_areas": null,
      "grid_template_columns": null,
      "grid_template_rows": null,
      "height": null,
      "justify_content": null,
      "justify_items": null,
      "left": null,
      "margin": null,
      "max_height": null,
      "max_width": null,
      "min_height": null,
      "min_width": null,
      "object_fit": null,
      "object_position": null,
      "order": null,
      "overflow": null,
      "overflow_x": null,
      "overflow_y": null,
      "padding": null,
      "right": null,
      "top": null,
      "visibility": null,
      "width": null
     }
    },
    "1ac673307d3846af821d15b99b6fc0f4": {
     "model_module": "@jupyter-widgets/controls",
     "model_module_version": "1.5.0",
     "model_name": "HBoxModel",
     "state": {
      "_dom_classes": [],
      "_model_module": "@jupyter-widgets/controls",
      "_model_module_version": "1.5.0",
      "_model_name": "HBoxModel",
      "_view_count": null,
      "_view_module": "@jupyter-widgets/controls",
      "_view_module_version": "1.5.0",
      "_view_name": "HBoxView",
      "box_style": "",
      "children": [
       "IPY_MODEL_417a96ec073f4efeba02af4d2f092ee7",
       "IPY_MODEL_f5f7be4f936d4fd8a4ab7a3f1764748e",
       "IPY_MODEL_654b3e4330234222936f3a6b0e28c9bd"
      ],
      "layout": "IPY_MODEL_45986e238f884a75b860e312e188737a"
     }
    },
    "1ae8bde586564e1a9e56fd0114526b8b": {
     "model_module": "@jupyter-widgets/controls",
     "model_module_version": "1.5.0",
     "model_name": "HTMLModel",
     "state": {
      "_dom_classes": [],
      "_model_module": "@jupyter-widgets/controls",
      "_model_module_version": "1.5.0",
      "_model_name": "HTMLModel",
      "_view_count": null,
      "_view_module": "@jupyter-widgets/controls",
      "_view_module_version": "1.5.0",
      "_view_name": "HTMLView",
      "description": "",
      "description_tooltip": null,
      "layout": "IPY_MODEL_c2fcaefe7bf845c5a16e373018419883",
      "placeholder": "​",
      "style": "IPY_MODEL_6268eed2606e4dcea9118dcbca982721",
      "value": "Map: 100%"
     }
    },
    "1dba8d55455d45dba3098cf4f3711fe1": {
     "model_module": "@jupyter-widgets/base",
     "model_module_version": "1.2.0",
     "model_name": "LayoutModel",
     "state": {
      "_model_module": "@jupyter-widgets/base",
      "_model_module_version": "1.2.0",
      "_model_name": "LayoutModel",
      "_view_count": null,
      "_view_module": "@jupyter-widgets/base",
      "_view_module_version": "1.2.0",
      "_view_name": "LayoutView",
      "align_content": null,
      "align_items": null,
      "align_self": null,
      "border": null,
      "bottom": null,
      "display": null,
      "flex": null,
      "flex_flow": null,
      "grid_area": null,
      "grid_auto_columns": null,
      "grid_auto_flow": null,
      "grid_auto_rows": null,
      "grid_column": null,
      "grid_gap": null,
      "grid_row": null,
      "grid_template_areas": null,
      "grid_template_columns": null,
      "grid_template_rows": null,
      "height": null,
      "justify_content": null,
      "justify_items": null,
      "left": null,
      "margin": null,
      "max_height": null,
      "max_width": null,
      "min_height": null,
      "min_width": null,
      "object_fit": null,
      "object_position": null,
      "order": null,
      "overflow": null,
      "overflow_x": null,
      "overflow_y": null,
      "padding": null,
      "right": null,
      "top": null,
      "visibility": null,
      "width": null
     }
    },
    "208cec1d4dda48eead7fcc4b24d6469d": {
     "model_module": "@jupyter-widgets/controls",
     "model_module_version": "1.5.0",
     "model_name": "DescriptionStyleModel",
     "state": {
      "_model_module": "@jupyter-widgets/controls",
      "_model_module_version": "1.5.0",
      "_model_name": "DescriptionStyleModel",
      "_view_count": null,
      "_view_module": "@jupyter-widgets/base",
      "_view_module_version": "1.2.0",
      "_view_name": "StyleView",
      "description_width": ""
     }
    },
    "20977e1c40b04dac85f190128f873f31": {
     "model_module": "@jupyter-widgets/controls",
     "model_module_version": "1.5.0",
     "model_name": "ProgressStyleModel",
     "state": {
      "_model_module": "@jupyter-widgets/controls",
      "_model_module_version": "1.5.0",
      "_model_name": "ProgressStyleModel",
      "_view_count": null,
      "_view_module": "@jupyter-widgets/base",
      "_view_module_version": "1.2.0",
      "_view_name": "StyleView",
      "bar_color": null,
      "description_width": ""
     }
    },
    "229ac062991b4a99a789002c3852e1f3": {
     "model_module": "@jupyter-widgets/controls",
     "model_module_version": "1.5.0",
     "model_name": "HTMLModel",
     "state": {
      "_dom_classes": [],
      "_model_module": "@jupyter-widgets/controls",
      "_model_module_version": "1.5.0",
      "_model_name": "HTMLModel",
      "_view_count": null,
      "_view_module": "@jupyter-widgets/controls",
      "_view_module_version": "1.5.0",
      "_view_name": "HTMLView",
      "description": "",
      "description_tooltip": null,
      "layout": "IPY_MODEL_3f45cf193e314cb0954d381b268ba81b",
      "placeholder": "​",
      "style": "IPY_MODEL_f05c1026187249cab609e9e6f80d0a1e",
      "value": " 100/100 [00:00&lt;00:00, 697.22 examples/s]"
     }
    },
    "3540cc3680e24b4b9d0bed1eb2a1f87e": {
     "model_module": "@jupyter-widgets/controls",
     "model_module_version": "1.5.0",
     "model_name": "HTMLModel",
     "state": {
      "_dom_classes": [],
      "_model_module": "@jupyter-widgets/controls",
      "_model_module_version": "1.5.0",
      "_model_name": "HTMLModel",
      "_view_count": null,
      "_view_module": "@jupyter-widgets/controls",
      "_view_module_version": "1.5.0",
      "_view_name": "HTMLView",
      "description": "",
      "description_tooltip": null,
      "layout": "IPY_MODEL_5edfc6490e0c4b19b854d0eafc15319b",
      "placeholder": "​",
      "style": "IPY_MODEL_fa0583692e414c15bac49f5ed9d151ac",
      "value": " 100/100 [00:00&lt;00:00, 380.92 examples/s]"
     }
    },
    "35d8e6de07714137b1a1b9dfb67dec17": {
     "model_module": "@jupyter-widgets/controls",
     "model_module_version": "1.5.0",
     "model_name": "DescriptionStyleModel",
     "state": {
      "_model_module": "@jupyter-widgets/controls",
      "_model_module_version": "1.5.0",
      "_model_name": "DescriptionStyleModel",
      "_view_count": null,
      "_view_module": "@jupyter-widgets/base",
      "_view_module_version": "1.2.0",
      "_view_name": "StyleView",
      "description_width": ""
     }
    },
    "395276eab6d243e7b6278c108bc9f91d": {
     "model_module": "@jupyter-widgets/controls",
     "model_module_version": "1.5.0",
     "model_name": "ProgressStyleModel",
     "state": {
      "_model_module": "@jupyter-widgets/controls",
      "_model_module_version": "1.5.0",
      "_model_name": "ProgressStyleModel",
      "_view_count": null,
      "_view_module": "@jupyter-widgets/base",
      "_view_module_version": "1.2.0",
      "_view_name": "StyleView",
      "bar_color": null,
      "description_width": ""
     }
    },
    "3f02be4cb31649f790814a5f96c1940b": {
     "model_module": "@jupyter-widgets/controls",
     "model_module_version": "1.5.0",
     "model_name": "ProgressStyleModel",
     "state": {
      "_model_module": "@jupyter-widgets/controls",
      "_model_module_version": "1.5.0",
      "_model_name": "ProgressStyleModel",
      "_view_count": null,
      "_view_module": "@jupyter-widgets/base",
      "_view_module_version": "1.2.0",
      "_view_name": "StyleView",
      "bar_color": null,
      "description_width": ""
     }
    },
    "3f45cf193e314cb0954d381b268ba81b": {
     "model_module": "@jupyter-widgets/base",
     "model_module_version": "1.2.0",
     "model_name": "LayoutModel",
     "state": {
      "_model_module": "@jupyter-widgets/base",
      "_model_module_version": "1.2.0",
      "_model_name": "LayoutModel",
      "_view_count": null,
      "_view_module": "@jupyter-widgets/base",
      "_view_module_version": "1.2.0",
      "_view_name": "LayoutView",
      "align_content": null,
      "align_items": null,
      "align_self": null,
      "border": null,
      "bottom": null,
      "display": null,
      "flex": null,
      "flex_flow": null,
      "grid_area": null,
      "grid_auto_columns": null,
      "grid_auto_flow": null,
      "grid_auto_rows": null,
      "grid_column": null,
      "grid_gap": null,
      "grid_row": null,
      "grid_template_areas": null,
      "grid_template_columns": null,
      "grid_template_rows": null,
      "height": null,
      "justify_content": null,
      "justify_items": null,
      "left": null,
      "margin": null,
      "max_height": null,
      "max_width": null,
      "min_height": null,
      "min_width": null,
      "object_fit": null,
      "object_position": null,
      "order": null,
      "overflow": null,
      "overflow_x": null,
      "overflow_y": null,
      "padding": null,
      "right": null,
      "top": null,
      "visibility": null,
      "width": null
     }
    },
    "417a96ec073f4efeba02af4d2f092ee7": {
     "model_module": "@jupyter-widgets/controls",
     "model_module_version": "1.5.0",
     "model_name": "HTMLModel",
     "state": {
      "_dom_classes": [],
      "_model_module": "@jupyter-widgets/controls",
      "_model_module_version": "1.5.0",
      "_model_name": "HTMLModel",
      "_view_count": null,
      "_view_module": "@jupyter-widgets/controls",
      "_view_module_version": "1.5.0",
      "_view_name": "HTMLView",
      "description": "",
      "description_tooltip": null,
      "layout": "IPY_MODEL_6eba33a9c349429c9f9ed380d95e3df9",
      "placeholder": "​",
      "style": "IPY_MODEL_83589a8e776f42b694f78f6b16a049f8",
      "value": "100%"
     }
    },
    "41ea2d173e524dcab14feee5ad38918c": {
     "model_module": "@jupyter-widgets/controls",
     "model_module_version": "1.5.0",
     "model_name": "HBoxModel",
     "state": {
      "_dom_classes": [],
      "_model_module": "@jupyter-widgets/controls",
      "_model_module_version": "1.5.0",
      "_model_name": "HBoxModel",
      "_view_count": null,
      "_view_module": "@jupyter-widgets/controls",
      "_view_module_version": "1.5.0",
      "_view_name": "HBoxView",
      "box_style": "",
      "children": [
       "IPY_MODEL_a2b7364f12db423a97c6f3a0e47cfbda",
       "IPY_MODEL_b1609f91485b4628ab568fbea9d5e06e",
       "IPY_MODEL_102c2ad20b79440aa1dbad08324dee80"
      ],
      "layout": "IPY_MODEL_6f2ff1155d2f4e27ba0734e7ea48557a"
     }
    },
    "43b8e0f528f54d1fbf3ff11d6159a791": {
     "model_module": "@jupyter-widgets/controls",
     "model_module_version": "1.5.0",
     "model_name": "FloatProgressModel",
     "state": {
      "_dom_classes": [],
      "_model_module": "@jupyter-widgets/controls",
      "_model_module_version": "1.5.0",
      "_model_name": "FloatProgressModel",
      "_view_count": null,
      "_view_module": "@jupyter-widgets/controls",
      "_view_module_version": "1.5.0",
      "_view_name": "ProgressView",
      "bar_style": "",
      "description": "",
      "description_tooltip": null,
      "layout": "IPY_MODEL_5adec9e7378d4d4181a0bd092ae0b71a",
      "max": 100,
      "min": 0,
      "orientation": "horizontal",
      "style": "IPY_MODEL_83a8e74ab8534e2ea6aac004877b029f",
      "value": 100
     }
    },
    "45986e238f884a75b860e312e188737a": {
     "model_module": "@jupyter-widgets/base",
     "model_module_version": "1.2.0",
     "model_name": "LayoutModel",
     "state": {
      "_model_module": "@jupyter-widgets/base",
      "_model_module_version": "1.2.0",
      "_model_name": "LayoutModel",
      "_view_count": null,
      "_view_module": "@jupyter-widgets/base",
      "_view_module_version": "1.2.0",
      "_view_name": "LayoutView",
      "align_content": null,
      "align_items": null,
      "align_self": null,
      "border": null,
      "bottom": null,
      "display": null,
      "flex": null,
      "flex_flow": null,
      "grid_area": null,
      "grid_auto_columns": null,
      "grid_auto_flow": null,
      "grid_auto_rows": null,
      "grid_column": null,
      "grid_gap": null,
      "grid_row": null,
      "grid_template_areas": null,
      "grid_template_columns": null,
      "grid_template_rows": null,
      "height": null,
      "justify_content": null,
      "justify_items": null,
      "left": null,
      "margin": null,
      "max_height": null,
      "max_width": null,
      "min_height": null,
      "min_width": null,
      "object_fit": null,
      "object_position": null,
      "order": null,
      "overflow": null,
      "overflow_x": null,
      "overflow_y": null,
      "padding": null,
      "right": null,
      "top": null,
      "visibility": null,
      "width": null
     }
    },
    "50e85ab517ba4ca2a237a35281b203fb": {
     "model_module": "@jupyter-widgets/controls",
     "model_module_version": "1.5.0",
     "model_name": "DescriptionStyleModel",
     "state": {
      "_model_module": "@jupyter-widgets/controls",
      "_model_module_version": "1.5.0",
      "_model_name": "DescriptionStyleModel",
      "_view_count": null,
      "_view_module": "@jupyter-widgets/base",
      "_view_module_version": "1.2.0",
      "_view_name": "StyleView",
      "description_width": ""
     }
    },
    "57a82fbf2cbd4725b6f583f7af7426d3": {
     "model_module": "@jupyter-widgets/controls",
     "model_module_version": "1.5.0",
     "model_name": "DescriptionStyleModel",
     "state": {
      "_model_module": "@jupyter-widgets/controls",
      "_model_module_version": "1.5.0",
      "_model_name": "DescriptionStyleModel",
      "_view_count": null,
      "_view_module": "@jupyter-widgets/base",
      "_view_module_version": "1.2.0",
      "_view_name": "StyleView",
      "description_width": ""
     }
    },
    "5adec9e7378d4d4181a0bd092ae0b71a": {
     "model_module": "@jupyter-widgets/base",
     "model_module_version": "1.2.0",
     "model_name": "LayoutModel",
     "state": {
      "_model_module": "@jupyter-widgets/base",
      "_model_module_version": "1.2.0",
      "_model_name": "LayoutModel",
      "_view_count": null,
      "_view_module": "@jupyter-widgets/base",
      "_view_module_version": "1.2.0",
      "_view_name": "LayoutView",
      "align_content": null,
      "align_items": null,
      "align_self": null,
      "border": null,
      "bottom": null,
      "display": null,
      "flex": null,
      "flex_flow": null,
      "grid_area": null,
      "grid_auto_columns": null,
      "grid_auto_flow": null,
      "grid_auto_rows": null,
      "grid_column": null,
      "grid_gap": null,
      "grid_row": null,
      "grid_template_areas": null,
      "grid_template_columns": null,
      "grid_template_rows": null,
      "height": null,
      "justify_content": null,
      "justify_items": null,
      "left": null,
      "margin": null,
      "max_height": null,
      "max_width": null,
      "min_height": null,
      "min_width": null,
      "object_fit": null,
      "object_position": null,
      "order": null,
      "overflow": null,
      "overflow_x": null,
      "overflow_y": null,
      "padding": null,
      "right": null,
      "top": null,
      "visibility": null,
      "width": null
     }
    },
    "5da5ddba8ec64339942ee159214d6cef": {
     "model_module": "@jupyter-widgets/base",
     "model_module_version": "1.2.0",
     "model_name": "LayoutModel",
     "state": {
      "_model_module": "@jupyter-widgets/base",
      "_model_module_version": "1.2.0",
      "_model_name": "LayoutModel",
      "_view_count": null,
      "_view_module": "@jupyter-widgets/base",
      "_view_module_version": "1.2.0",
      "_view_name": "LayoutView",
      "align_content": null,
      "align_items": null,
      "align_self": null,
      "border": null,
      "bottom": null,
      "display": null,
      "flex": null,
      "flex_flow": null,
      "grid_area": null,
      "grid_auto_columns": null,
      "grid_auto_flow": null,
      "grid_auto_rows": null,
      "grid_column": null,
      "grid_gap": null,
      "grid_row": null,
      "grid_template_areas": null,
      "grid_template_columns": null,
      "grid_template_rows": null,
      "height": null,
      "justify_content": null,
      "justify_items": null,
      "left": null,
      "margin": null,
      "max_height": null,
      "max_width": null,
      "min_height": null,
      "min_width": null,
      "object_fit": null,
      "object_position": null,
      "order": null,
      "overflow": null,
      "overflow_x": null,
      "overflow_y": null,
      "padding": null,
      "right": null,
      "top": null,
      "visibility": "hidden",
      "width": null
     }
    },
    "5dabae5bcc4d4975a5ea3ae610e5cfb1": {
     "model_module": "@jupyter-widgets/base",
     "model_module_version": "1.2.0",
     "model_name": "LayoutModel",
     "state": {
      "_model_module": "@jupyter-widgets/base",
      "_model_module_version": "1.2.0",
      "_model_name": "LayoutModel",
      "_view_count": null,
      "_view_module": "@jupyter-widgets/base",
      "_view_module_version": "1.2.0",
      "_view_name": "LayoutView",
      "align_content": null,
      "align_items": null,
      "align_self": null,
      "border": null,
      "bottom": null,
      "display": null,
      "flex": null,
      "flex_flow": null,
      "grid_area": null,
      "grid_auto_columns": null,
      "grid_auto_flow": null,
      "grid_auto_rows": null,
      "grid_column": null,
      "grid_gap": null,
      "grid_row": null,
      "grid_template_areas": null,
      "grid_template_columns": null,
      "grid_template_rows": null,
      "height": null,
      "justify_content": null,
      "justify_items": null,
      "left": null,
      "margin": null,
      "max_height": null,
      "max_width": null,
      "min_height": null,
      "min_width": null,
      "object_fit": null,
      "object_position": null,
      "order": null,
      "overflow": null,
      "overflow_x": null,
      "overflow_y": null,
      "padding": null,
      "right": null,
      "top": null,
      "visibility": null,
      "width": null
     }
    },
    "5dfbb9933d674d5a99cf614610c7fdff": {
     "model_module": "@jupyter-widgets/controls",
     "model_module_version": "1.5.0",
     "model_name": "HBoxModel",
     "state": {
      "_dom_classes": [],
      "_model_module": "@jupyter-widgets/controls",
      "_model_module_version": "1.5.0",
      "_model_name": "HBoxModel",
      "_view_count": null,
      "_view_module": "@jupyter-widgets/controls",
      "_view_module_version": "1.5.0",
      "_view_name": "HBoxView",
      "box_style": "",
      "children": [
       "IPY_MODEL_0cfea286edb54d5a96a9fcb02708bac4",
       "IPY_MODEL_810c627d04be49b399244e6ce1fd1ed0",
       "IPY_MODEL_229ac062991b4a99a789002c3852e1f3"
      ],
      "layout": "IPY_MODEL_678cddab8c6741b9bf289e05d7a95089"
     }
    },
    "5edfc6490e0c4b19b854d0eafc15319b": {
     "model_module": "@jupyter-widgets/base",
     "model_module_version": "1.2.0",
     "model_name": "LayoutModel",
     "state": {
      "_model_module": "@jupyter-widgets/base",
      "_model_module_version": "1.2.0",
      "_model_name": "LayoutModel",
      "_view_count": null,
      "_view_module": "@jupyter-widgets/base",
      "_view_module_version": "1.2.0",
      "_view_name": "LayoutView",
      "align_content": null,
      "align_items": null,
      "align_self": null,
      "border": null,
      "bottom": null,
      "display": null,
      "flex": null,
      "flex_flow": null,
      "grid_area": null,
      "grid_auto_columns": null,
      "grid_auto_flow": null,
      "grid_auto_rows": null,
      "grid_column": null,
      "grid_gap": null,
      "grid_row": null,
      "grid_template_areas": null,
      "grid_template_columns": null,
      "grid_template_rows": null,
      "height": null,
      "justify_content": null,
      "justify_items": null,
      "left": null,
      "margin": null,
      "max_height": null,
      "max_width": null,
      "min_height": null,
      "min_width": null,
      "object_fit": null,
      "object_position": null,
      "order": null,
      "overflow": null,
      "overflow_x": null,
      "overflow_y": null,
      "padding": null,
      "right": null,
      "top": null,
      "visibility": null,
      "width": null
     }
    },
    "6268eed2606e4dcea9118dcbca982721": {
     "model_module": "@jupyter-widgets/controls",
     "model_module_version": "1.5.0",
     "model_name": "DescriptionStyleModel",
     "state": {
      "_model_module": "@jupyter-widgets/controls",
      "_model_module_version": "1.5.0",
      "_model_name": "DescriptionStyleModel",
      "_view_count": null,
      "_view_module": "@jupyter-widgets/base",
      "_view_module_version": "1.2.0",
      "_view_name": "StyleView",
      "description_width": ""
     }
    },
    "6280c4f14d4648fb808d5e67eaa807c0": {
     "model_module": "@jupyter-widgets/base",
     "model_module_version": "1.2.0",
     "model_name": "LayoutModel",
     "state": {
      "_model_module": "@jupyter-widgets/base",
      "_model_module_version": "1.2.0",
      "_model_name": "LayoutModel",
      "_view_count": null,
      "_view_module": "@jupyter-widgets/base",
      "_view_module_version": "1.2.0",
      "_view_name": "LayoutView",
      "align_content": null,
      "align_items": null,
      "align_self": null,
      "border": null,
      "bottom": null,
      "display": null,
      "flex": null,
      "flex_flow": null,
      "grid_area": null,
      "grid_auto_columns": null,
      "grid_auto_flow": null,
      "grid_auto_rows": null,
      "grid_column": null,
      "grid_gap": null,
      "grid_row": null,
      "grid_template_areas": null,
      "grid_template_columns": null,
      "grid_template_rows": null,
      "height": null,
      "justify_content": null,
      "justify_items": null,
      "left": null,
      "margin": null,
      "max_height": null,
      "max_width": null,
      "min_height": null,
      "min_width": null,
      "object_fit": null,
      "object_position": null,
      "order": null,
      "overflow": null,
      "overflow_x": null,
      "overflow_y": null,
      "padding": null,
      "right": null,
      "top": null,
      "visibility": null,
      "width": null
     }
    },
    "654b3e4330234222936f3a6b0e28c9bd": {
     "model_module": "@jupyter-widgets/controls",
     "model_module_version": "1.5.0",
     "model_name": "HTMLModel",
     "state": {
      "_dom_classes": [],
      "_model_module": "@jupyter-widgets/controls",
      "_model_module_version": "1.5.0",
      "_model_name": "HTMLModel",
      "_view_count": null,
      "_view_module": "@jupyter-widgets/controls",
      "_view_module_version": "1.5.0",
      "_view_name": "HTMLView",
      "description": "",
      "description_tooltip": null,
      "layout": "IPY_MODEL_6280c4f14d4648fb808d5e67eaa807c0",
      "placeholder": "​",
      "style": "IPY_MODEL_8e591d6620294b2faec979a3abc7c6e9",
      "value": " 3/3 [00:00&lt;00:00, 37.43it/s]"
     }
    },
    "6560984de3914508b4cb1f67ee1ffa28": {
     "model_module": "@jupyter-widgets/controls",
     "model_module_version": "1.5.0",
     "model_name": "HTMLModel",
     "state": {
      "_dom_classes": [],
      "_model_module": "@jupyter-widgets/controls",
      "_model_module_version": "1.5.0",
      "_model_name": "HTMLModel",
      "_view_count": null,
      "_view_module": "@jupyter-widgets/controls",
      "_view_module_version": "1.5.0",
      "_view_name": "HTMLView",
      "description": "",
      "description_tooltip": null,
      "layout": "IPY_MODEL_82a5fb83a3fa4929b96fc043aa98d0ff",
      "placeholder": "​",
      "style": "IPY_MODEL_50e85ab517ba4ca2a237a35281b203fb",
      "value": "Map: 100%"
     }
    },
    "668198e106b94a6ebddad522e40b6809": {
     "model_module": "@jupyter-widgets/controls",
     "model_module_version": "1.5.0",
     "model_name": "FloatProgressModel",
     "state": {
      "_dom_classes": [],
      "_model_module": "@jupyter-widgets/controls",
      "_model_module_version": "1.5.0",
      "_model_name": "FloatProgressModel",
      "_view_count": null,
      "_view_module": "@jupyter-widgets/controls",
      "_view_module_version": "1.5.0",
      "_view_name": "ProgressView",
      "bar_style": "",
      "description": "",
      "description_tooltip": null,
      "layout": "IPY_MODEL_acec2cd4ab834ed287f38d1a8e3131a2",
      "max": 100,
      "min": 0,
      "orientation": "horizontal",
      "style": "IPY_MODEL_395276eab6d243e7b6278c108bc9f91d",
      "value": 100
     }
    },
    "678cddab8c6741b9bf289e05d7a95089": {
     "model_module": "@jupyter-widgets/base",
     "model_module_version": "1.2.0",
     "model_name": "LayoutModel",
     "state": {
      "_model_module": "@jupyter-widgets/base",
      "_model_module_version": "1.2.0",
      "_model_name": "LayoutModel",
      "_view_count": null,
      "_view_module": "@jupyter-widgets/base",
      "_view_module_version": "1.2.0",
      "_view_name": "LayoutView",
      "align_content": null,
      "align_items": null,
      "align_self": null,
      "border": null,
      "bottom": null,
      "display": null,
      "flex": null,
      "flex_flow": null,
      "grid_area": null,
      "grid_auto_columns": null,
      "grid_auto_flow": null,
      "grid_auto_rows": null,
      "grid_column": null,
      "grid_gap": null,
      "grid_row": null,
      "grid_template_areas": null,
      "grid_template_columns": null,
      "grid_template_rows": null,
      "height": null,
      "justify_content": null,
      "justify_items": null,
      "left": null,
      "margin": null,
      "max_height": null,
      "max_width": null,
      "min_height": null,
      "min_width": null,
      "object_fit": null,
      "object_position": null,
      "order": null,
      "overflow": null,
      "overflow_x": null,
      "overflow_y": null,
      "padding": null,
      "right": null,
      "top": null,
      "visibility": "hidden",
      "width": null
     }
    },
    "6cc2e860eb974cea8f0d01338c0930a3": {
     "model_module": "@jupyter-widgets/controls",
     "model_module_version": "1.5.0",
     "model_name": "HBoxModel",
     "state": {
      "_dom_classes": [],
      "_model_module": "@jupyter-widgets/controls",
      "_model_module_version": "1.5.0",
      "_model_name": "HBoxModel",
      "_view_count": null,
      "_view_module": "@jupyter-widgets/controls",
      "_view_module_version": "1.5.0",
      "_view_name": "HBoxView",
      "box_style": "",
      "children": [
       "IPY_MODEL_6560984de3914508b4cb1f67ee1ffa28",
       "IPY_MODEL_668198e106b94a6ebddad522e40b6809",
       "IPY_MODEL_3540cc3680e24b4b9d0bed1eb2a1f87e"
      ],
      "layout": "IPY_MODEL_d172fd0abcaf4eb9a07851f1ae43d83b"
     }
    },
    "6eba33a9c349429c9f9ed380d95e3df9": {
     "model_module": "@jupyter-widgets/base",
     "model_module_version": "1.2.0",
     "model_name": "LayoutModel",
     "state": {
      "_model_module": "@jupyter-widgets/base",
      "_model_module_version": "1.2.0",
      "_model_name": "LayoutModel",
      "_view_count": null,
      "_view_module": "@jupyter-widgets/base",
      "_view_module_version": "1.2.0",
      "_view_name": "LayoutView",
      "align_content": null,
      "align_items": null,
      "align_self": null,
      "border": null,
      "bottom": null,
      "display": null,
      "flex": null,
      "flex_flow": null,
      "grid_area": null,
      "grid_auto_columns": null,
      "grid_auto_flow": null,
      "grid_auto_rows": null,
      "grid_column": null,
      "grid_gap": null,
      "grid_row": null,
      "grid_template_areas": null,
      "grid_template_columns": null,
      "grid_template_rows": null,
      "height": null,
      "justify_content": null,
      "justify_items": null,
      "left": null,
      "margin": null,
      "max_height": null,
      "max_width": null,
      "min_height": null,
      "min_width": null,
      "object_fit": null,
      "object_position": null,
      "order": null,
      "overflow": null,
      "overflow_x": null,
      "overflow_y": null,
      "padding": null,
      "right": null,
      "top": null,
      "visibility": null,
      "width": null
     }
    },
    "6f2ff1155d2f4e27ba0734e7ea48557a": {
     "model_module": "@jupyter-widgets/base",
     "model_module_version": "1.2.0",
     "model_name": "LayoutModel",
     "state": {
      "_model_module": "@jupyter-widgets/base",
      "_model_module_version": "1.2.0",
      "_model_name": "LayoutModel",
      "_view_count": null,
      "_view_module": "@jupyter-widgets/base",
      "_view_module_version": "1.2.0",
      "_view_name": "LayoutView",
      "align_content": null,
      "align_items": null,
      "align_self": null,
      "border": null,
      "bottom": null,
      "display": null,
      "flex": null,
      "flex_flow": null,
      "grid_area": null,
      "grid_auto_columns": null,
      "grid_auto_flow": null,
      "grid_auto_rows": null,
      "grid_column": null,
      "grid_gap": null,
      "grid_row": null,
      "grid_template_areas": null,
      "grid_template_columns": null,
      "grid_template_rows": null,
      "height": null,
      "justify_content": null,
      "justify_items": null,
      "left": null,
      "margin": null,
      "max_height": null,
      "max_width": null,
      "min_height": null,
      "min_width": null,
      "object_fit": null,
      "object_position": null,
      "order": null,
      "overflow": null,
      "overflow_x": null,
      "overflow_y": null,
      "padding": null,
      "right": null,
      "top": null,
      "visibility": null,
      "width": null
     }
    },
    "810c627d04be49b399244e6ce1fd1ed0": {
     "model_module": "@jupyter-widgets/controls",
     "model_module_version": "1.5.0",
     "model_name": "FloatProgressModel",
     "state": {
      "_dom_classes": [],
      "_model_module": "@jupyter-widgets/controls",
      "_model_module_version": "1.5.0",
      "_model_name": "FloatProgressModel",
      "_view_count": null,
      "_view_module": "@jupyter-widgets/controls",
      "_view_module_version": "1.5.0",
      "_view_name": "ProgressView",
      "bar_style": "",
      "description": "",
      "description_tooltip": null,
      "layout": "IPY_MODEL_b50fde4ff96b4860ac5a77a291d7fd97",
      "max": 100,
      "min": 0,
      "orientation": "horizontal",
      "style": "IPY_MODEL_ab80c67d1dfa4de1ac1911bf48c237bb",
      "value": 100
     }
    },
    "82a5fb83a3fa4929b96fc043aa98d0ff": {
     "model_module": "@jupyter-widgets/base",
     "model_module_version": "1.2.0",
     "model_name": "LayoutModel",
     "state": {
      "_model_module": "@jupyter-widgets/base",
      "_model_module_version": "1.2.0",
      "_model_name": "LayoutModel",
      "_view_count": null,
      "_view_module": "@jupyter-widgets/base",
      "_view_module_version": "1.2.0",
      "_view_name": "LayoutView",
      "align_content": null,
      "align_items": null,
      "align_self": null,
      "border": null,
      "bottom": null,
      "display": null,
      "flex": null,
      "flex_flow": null,
      "grid_area": null,
      "grid_auto_columns": null,
      "grid_auto_flow": null,
      "grid_auto_rows": null,
      "grid_column": null,
      "grid_gap": null,
      "grid_row": null,
      "grid_template_areas": null,
      "grid_template_columns": null,
      "grid_template_rows": null,
      "height": null,
      "justify_content": null,
      "justify_items": null,
      "left": null,
      "margin": null,
      "max_height": null,
      "max_width": null,
      "min_height": null,
      "min_width": null,
      "object_fit": null,
      "object_position": null,
      "order": null,
      "overflow": null,
      "overflow_x": null,
      "overflow_y": null,
      "padding": null,
      "right": null,
      "top": null,
      "visibility": null,
      "width": null
     }
    },
    "83589a8e776f42b694f78f6b16a049f8": {
     "model_module": "@jupyter-widgets/controls",
     "model_module_version": "1.5.0",
     "model_name": "DescriptionStyleModel",
     "state": {
      "_model_module": "@jupyter-widgets/controls",
      "_model_module_version": "1.5.0",
      "_model_name": "DescriptionStyleModel",
      "_view_count": null,
      "_view_module": "@jupyter-widgets/base",
      "_view_module_version": "1.2.0",
      "_view_name": "StyleView",
      "description_width": ""
     }
    },
    "83a8e74ab8534e2ea6aac004877b029f": {
     "model_module": "@jupyter-widgets/controls",
     "model_module_version": "1.5.0",
     "model_name": "ProgressStyleModel",
     "state": {
      "_model_module": "@jupyter-widgets/controls",
      "_model_module_version": "1.5.0",
      "_model_name": "ProgressStyleModel",
      "_view_count": null,
      "_view_module": "@jupyter-widgets/base",
      "_view_module_version": "1.2.0",
      "_view_name": "StyleView",
      "bar_color": null,
      "description_width": ""
     }
    },
    "8e591d6620294b2faec979a3abc7c6e9": {
     "model_module": "@jupyter-widgets/controls",
     "model_module_version": "1.5.0",
     "model_name": "DescriptionStyleModel",
     "state": {
      "_model_module": "@jupyter-widgets/controls",
      "_model_module_version": "1.5.0",
      "_model_name": "DescriptionStyleModel",
      "_view_count": null,
      "_view_module": "@jupyter-widgets/base",
      "_view_module_version": "1.2.0",
      "_view_name": "StyleView",
      "description_width": ""
     }
    },
    "9793338993914056ad7a30df40d110c7": {
     "model_module": "@jupyter-widgets/base",
     "model_module_version": "1.2.0",
     "model_name": "LayoutModel",
     "state": {
      "_model_module": "@jupyter-widgets/base",
      "_model_module_version": "1.2.0",
      "_model_name": "LayoutModel",
      "_view_count": null,
      "_view_module": "@jupyter-widgets/base",
      "_view_module_version": "1.2.0",
      "_view_name": "LayoutView",
      "align_content": null,
      "align_items": null,
      "align_self": null,
      "border": null,
      "bottom": null,
      "display": null,
      "flex": null,
      "flex_flow": null,
      "grid_area": null,
      "grid_auto_columns": null,
      "grid_auto_flow": null,
      "grid_auto_rows": null,
      "grid_column": null,
      "grid_gap": null,
      "grid_row": null,
      "grid_template_areas": null,
      "grid_template_columns": null,
      "grid_template_rows": null,
      "height": null,
      "justify_content": null,
      "justify_items": null,
      "left": null,
      "margin": null,
      "max_height": null,
      "max_width": null,
      "min_height": null,
      "min_width": null,
      "object_fit": null,
      "object_position": null,
      "order": null,
      "overflow": null,
      "overflow_x": null,
      "overflow_y": null,
      "padding": null,
      "right": null,
      "top": null,
      "visibility": null,
      "width": null
     }
    },
    "9bca39d5f7514f428446151d3b661c68": {
     "model_module": "@jupyter-widgets/controls",
     "model_module_version": "1.5.0",
     "model_name": "DescriptionStyleModel",
     "state": {
      "_model_module": "@jupyter-widgets/controls",
      "_model_module_version": "1.5.0",
      "_model_name": "DescriptionStyleModel",
      "_view_count": null,
      "_view_module": "@jupyter-widgets/base",
      "_view_module_version": "1.2.0",
      "_view_name": "StyleView",
      "description_width": ""
     }
    },
    "a2b7364f12db423a97c6f3a0e47cfbda": {
     "model_module": "@jupyter-widgets/controls",
     "model_module_version": "1.5.0",
     "model_name": "HTMLModel",
     "state": {
      "_dom_classes": [],
      "_model_module": "@jupyter-widgets/controls",
      "_model_module_version": "1.5.0",
      "_model_name": "HTMLModel",
      "_view_count": null,
      "_view_module": "@jupyter-widgets/controls",
      "_view_module_version": "1.5.0",
      "_view_name": "HTMLView",
      "description": "",
      "description_tooltip": null,
      "layout": "IPY_MODEL_10cb6d9bf49c4b73bddfe75f074cc46a",
      "placeholder": "​",
      "style": "IPY_MODEL_9bca39d5f7514f428446151d3b661c68",
      "value": "  0%"
     }
    },
    "ab80c67d1dfa4de1ac1911bf48c237bb": {
     "model_module": "@jupyter-widgets/controls",
     "model_module_version": "1.5.0",
     "model_name": "ProgressStyleModel",
     "state": {
      "_model_module": "@jupyter-widgets/controls",
      "_model_module_version": "1.5.0",
      "_model_name": "ProgressStyleModel",
      "_view_count": null,
      "_view_module": "@jupyter-widgets/base",
      "_view_module_version": "1.2.0",
      "_view_name": "StyleView",
      "bar_color": null,
      "description_width": ""
     }
    },
    "ac289de35cf0412d869456ef32c95c64": {
     "model_module": "@jupyter-widgets/base",
     "model_module_version": "1.2.0",
     "model_name": "LayoutModel",
     "state": {
      "_model_module": "@jupyter-widgets/base",
      "_model_module_version": "1.2.0",
      "_model_name": "LayoutModel",
      "_view_count": null,
      "_view_module": "@jupyter-widgets/base",
      "_view_module_version": "1.2.0",
      "_view_name": "LayoutView",
      "align_content": null,
      "align_items": null,
      "align_self": null,
      "border": null,
      "bottom": null,
      "display": null,
      "flex": null,
      "flex_flow": null,
      "grid_area": null,
      "grid_auto_columns": null,
      "grid_auto_flow": null,
      "grid_auto_rows": null,
      "grid_column": null,
      "grid_gap": null,
      "grid_row": null,
      "grid_template_areas": null,
      "grid_template_columns": null,
      "grid_template_rows": null,
      "height": null,
      "justify_content": null,
      "justify_items": null,
      "left": null,
      "margin": null,
      "max_height": null,
      "max_width": null,
      "min_height": null,
      "min_width": null,
      "object_fit": null,
      "object_position": null,
      "order": null,
      "overflow": null,
      "overflow_x": null,
      "overflow_y": null,
      "padding": null,
      "right": null,
      "top": null,
      "visibility": null,
      "width": null
     }
    },
    "acec2cd4ab834ed287f38d1a8e3131a2": {
     "model_module": "@jupyter-widgets/base",
     "model_module_version": "1.2.0",
     "model_name": "LayoutModel",
     "state": {
      "_model_module": "@jupyter-widgets/base",
      "_model_module_version": "1.2.0",
      "_model_name": "LayoutModel",
      "_view_count": null,
      "_view_module": "@jupyter-widgets/base",
      "_view_module_version": "1.2.0",
      "_view_name": "LayoutView",
      "align_content": null,
      "align_items": null,
      "align_self": null,
      "border": null,
      "bottom": null,
      "display": null,
      "flex": null,
      "flex_flow": null,
      "grid_area": null,
      "grid_auto_columns": null,
      "grid_auto_flow": null,
      "grid_auto_rows": null,
      "grid_column": null,
      "grid_gap": null,
      "grid_row": null,
      "grid_template_areas": null,
      "grid_template_columns": null,
      "grid_template_rows": null,
      "height": null,
      "justify_content": null,
      "justify_items": null,
      "left": null,
      "margin": null,
      "max_height": null,
      "max_width": null,
      "min_height": null,
      "min_width": null,
      "object_fit": null,
      "object_position": null,
      "order": null,
      "overflow": null,
      "overflow_x": null,
      "overflow_y": null,
      "padding": null,
      "right": null,
      "top": null,
      "visibility": null,
      "width": null
     }
    },
    "b1609f91485b4628ab568fbea9d5e06e": {
     "model_module": "@jupyter-widgets/controls",
     "model_module_version": "1.5.0",
     "model_name": "FloatProgressModel",
     "state": {
      "_dom_classes": [],
      "_model_module": "@jupyter-widgets/controls",
      "_model_module_version": "1.5.0",
      "_model_name": "FloatProgressModel",
      "_view_count": null,
      "_view_module": "@jupyter-widgets/controls",
      "_view_module_version": "1.5.0",
      "_view_name": "ProgressView",
      "bar_style": "",
      "description": "",
      "description_tooltip": null,
      "layout": "IPY_MODEL_ac289de35cf0412d869456ef32c95c64",
      "max": 15000,
      "min": 0,
      "orientation": "horizontal",
      "style": "IPY_MODEL_20977e1c40b04dac85f190128f873f31",
      "value": 0
     }
    },
    "b50fde4ff96b4860ac5a77a291d7fd97": {
     "model_module": "@jupyter-widgets/base",
     "model_module_version": "1.2.0",
     "model_name": "LayoutModel",
     "state": {
      "_model_module": "@jupyter-widgets/base",
      "_model_module_version": "1.2.0",
      "_model_name": "LayoutModel",
      "_view_count": null,
      "_view_module": "@jupyter-widgets/base",
      "_view_module_version": "1.2.0",
      "_view_name": "LayoutView",
      "align_content": null,
      "align_items": null,
      "align_self": null,
      "border": null,
      "bottom": null,
      "display": null,
      "flex": null,
      "flex_flow": null,
      "grid_area": null,
      "grid_auto_columns": null,
      "grid_auto_flow": null,
      "grid_auto_rows": null,
      "grid_column": null,
      "grid_gap": null,
      "grid_row": null,
      "grid_template_areas": null,
      "grid_template_columns": null,
      "grid_template_rows": null,
      "height": null,
      "justify_content": null,
      "justify_items": null,
      "left": null,
      "margin": null,
      "max_height": null,
      "max_width": null,
      "min_height": null,
      "min_width": null,
      "object_fit": null,
      "object_position": null,
      "order": null,
      "overflow": null,
      "overflow_x": null,
      "overflow_y": null,
      "padding": null,
      "right": null,
      "top": null,
      "visibility": null,
      "width": null
     }
    },
    "bf62ecaf560545208dd82866648b92d1": {
     "model_module": "@jupyter-widgets/base",
     "model_module_version": "1.2.0",
     "model_name": "LayoutModel",
     "state": {
      "_model_module": "@jupyter-widgets/base",
      "_model_module_version": "1.2.0",
      "_model_name": "LayoutModel",
      "_view_count": null,
      "_view_module": "@jupyter-widgets/base",
      "_view_module_version": "1.2.0",
      "_view_name": "LayoutView",
      "align_content": null,
      "align_items": null,
      "align_self": null,
      "border": null,
      "bottom": null,
      "display": null,
      "flex": null,
      "flex_flow": null,
      "grid_area": null,
      "grid_auto_columns": null,
      "grid_auto_flow": null,
      "grid_auto_rows": null,
      "grid_column": null,
      "grid_gap": null,
      "grid_row": null,
      "grid_template_areas": null,
      "grid_template_columns": null,
      "grid_template_rows": null,
      "height": null,
      "justify_content": null,
      "justify_items": null,
      "left": null,
      "margin": null,
      "max_height": null,
      "max_width": null,
      "min_height": null,
      "min_width": null,
      "object_fit": null,
      "object_position": null,
      "order": null,
      "overflow": null,
      "overflow_x": null,
      "overflow_y": null,
      "padding": null,
      "right": null,
      "top": null,
      "visibility": null,
      "width": null
     }
    },
    "c2fcaefe7bf845c5a16e373018419883": {
     "model_module": "@jupyter-widgets/base",
     "model_module_version": "1.2.0",
     "model_name": "LayoutModel",
     "state": {
      "_model_module": "@jupyter-widgets/base",
      "_model_module_version": "1.2.0",
      "_model_name": "LayoutModel",
      "_view_count": null,
      "_view_module": "@jupyter-widgets/base",
      "_view_module_version": "1.2.0",
      "_view_name": "LayoutView",
      "align_content": null,
      "align_items": null,
      "align_self": null,
      "border": null,
      "bottom": null,
      "display": null,
      "flex": null,
      "flex_flow": null,
      "grid_area": null,
      "grid_auto_columns": null,
      "grid_auto_flow": null,
      "grid_auto_rows": null,
      "grid_column": null,
      "grid_gap": null,
      "grid_row": null,
      "grid_template_areas": null,
      "grid_template_columns": null,
      "grid_template_rows": null,
      "height": null,
      "justify_content": null,
      "justify_items": null,
      "left": null,
      "margin": null,
      "max_height": null,
      "max_width": null,
      "min_height": null,
      "min_width": null,
      "object_fit": null,
      "object_position": null,
      "order": null,
      "overflow": null,
      "overflow_x": null,
      "overflow_y": null,
      "padding": null,
      "right": null,
      "top": null,
      "visibility": null,
      "width": null
     }
    },
    "d172fd0abcaf4eb9a07851f1ae43d83b": {
     "model_module": "@jupyter-widgets/base",
     "model_module_version": "1.2.0",
     "model_name": "LayoutModel",
     "state": {
      "_model_module": "@jupyter-widgets/base",
      "_model_module_version": "1.2.0",
      "_model_name": "LayoutModel",
      "_view_count": null,
      "_view_module": "@jupyter-widgets/base",
      "_view_module_version": "1.2.0",
      "_view_name": "LayoutView",
      "align_content": null,
      "align_items": null,
      "align_self": null,
      "border": null,
      "bottom": null,
      "display": null,
      "flex": null,
      "flex_flow": null,
      "grid_area": null,
      "grid_auto_columns": null,
      "grid_auto_flow": null,
      "grid_auto_rows": null,
      "grid_column": null,
      "grid_gap": null,
      "grid_row": null,
      "grid_template_areas": null,
      "grid_template_columns": null,
      "grid_template_rows": null,
      "height": null,
      "justify_content": null,
      "justify_items": null,
      "left": null,
      "margin": null,
      "max_height": null,
      "max_width": null,
      "min_height": null,
      "min_width": null,
      "object_fit": null,
      "object_position": null,
      "order": null,
      "overflow": null,
      "overflow_x": null,
      "overflow_y": null,
      "padding": null,
      "right": null,
      "top": null,
      "visibility": "hidden",
      "width": null
     }
    },
    "f05c1026187249cab609e9e6f80d0a1e": {
     "model_module": "@jupyter-widgets/controls",
     "model_module_version": "1.5.0",
     "model_name": "DescriptionStyleModel",
     "state": {
      "_model_module": "@jupyter-widgets/controls",
      "_model_module_version": "1.5.0",
      "_model_name": "DescriptionStyleModel",
      "_view_count": null,
      "_view_module": "@jupyter-widgets/base",
      "_view_module_version": "1.2.0",
      "_view_name": "StyleView",
      "description_width": ""
     }
    },
    "f28d72d8bda446beb472681e85541508": {
     "model_module": "@jupyter-widgets/controls",
     "model_module_version": "1.5.0",
     "model_name": "HTMLModel",
     "state": {
      "_dom_classes": [],
      "_model_module": "@jupyter-widgets/controls",
      "_model_module_version": "1.5.0",
      "_model_name": "HTMLModel",
      "_view_count": null,
      "_view_module": "@jupyter-widgets/controls",
      "_view_module_version": "1.5.0",
      "_view_name": "HTMLView",
      "description": "",
      "description_tooltip": null,
      "layout": "IPY_MODEL_5dabae5bcc4d4975a5ea3ae610e5cfb1",
      "placeholder": "​",
      "style": "IPY_MODEL_35d8e6de07714137b1a1b9dfb67dec17",
      "value": " 100/100 [00:00&lt;00:00, 248.73 examples/s]"
     }
    },
    "f5f7be4f936d4fd8a4ab7a3f1764748e": {
     "model_module": "@jupyter-widgets/controls",
     "model_module_version": "1.5.0",
     "model_name": "FloatProgressModel",
     "state": {
      "_dom_classes": [],
      "_model_module": "@jupyter-widgets/controls",
      "_model_module_version": "1.5.0",
      "_model_name": "FloatProgressModel",
      "_view_count": null,
      "_view_module": "@jupyter-widgets/controls",
      "_view_module_version": "1.5.0",
      "_view_name": "ProgressView",
      "bar_style": "success",
      "description": "",
      "description_tooltip": null,
      "layout": "IPY_MODEL_9793338993914056ad7a30df40d110c7",
      "max": 3,
      "min": 0,
      "orientation": "horizontal",
      "style": "IPY_MODEL_3f02be4cb31649f790814a5f96c1940b",
      "value": 3
     }
    },
    "fa0583692e414c15bac49f5ed9d151ac": {
     "model_module": "@jupyter-widgets/controls",
     "model_module_version": "1.5.0",
     "model_name": "DescriptionStyleModel",
     "state": {
      "_model_module": "@jupyter-widgets/controls",
      "_model_module_version": "1.5.0",
      "_model_name": "DescriptionStyleModel",
      "_view_count": null,
      "_view_module": "@jupyter-widgets/base",
      "_view_module_version": "1.2.0",
      "_view_name": "StyleView",
      "description_width": ""
     }
    }
   }
  }
 },
 "nbformat": 4,
 "nbformat_minor": 1
}
