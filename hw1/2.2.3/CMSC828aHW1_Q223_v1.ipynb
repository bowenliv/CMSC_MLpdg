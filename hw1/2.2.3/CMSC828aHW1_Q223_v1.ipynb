{
  "nbformat": 4,
  "nbformat_minor": 0,
  "metadata": {
    "colab": {
      "provenance": [],
      "collapsed_sections": [
        "2mQrxq_g8GKv",
        "_WE2gdsy7SMk",
        "WoNiMv_HF2AD",
        "VnXLoJybF_fk"
      ]
    },
    "kernelspec": {
      "name": "python3",
      "display_name": "Python 3"
    },
    "language_info": {
      "name": "python"
    },
    "accelerator": "GPU",
    "gpuClass": "premium",
    "widgets": {
      "application/vnd.jupyter.widget-state+json": {
        "8f9d1808db19420189c2146bfd36a463": {
          "model_module": "@jupyter-widgets/controls",
          "model_name": "HBoxModel",
          "model_module_version": "1.5.0",
          "state": {
            "_dom_classes": [],
            "_model_module": "@jupyter-widgets/controls",
            "_model_module_version": "1.5.0",
            "_model_name": "HBoxModel",
            "_view_count": null,
            "_view_module": "@jupyter-widgets/controls",
            "_view_module_version": "1.5.0",
            "_view_name": "HBoxView",
            "box_style": "",
            "children": [
              "IPY_MODEL_df2019d07be448d0b37401b76ecc6c41",
              "IPY_MODEL_c5acf83bccd448f09cfcf03900de894b",
              "IPY_MODEL_d26ec2ce3a9044228698c61bccee69c6"
            ],
            "layout": "IPY_MODEL_db05f1ecb2574a80b3739ed4a2c5d092"
          }
        },
        "df2019d07be448d0b37401b76ecc6c41": {
          "model_module": "@jupyter-widgets/controls",
          "model_name": "HTMLModel",
          "model_module_version": "1.5.0",
          "state": {
            "_dom_classes": [],
            "_model_module": "@jupyter-widgets/controls",
            "_model_module_version": "1.5.0",
            "_model_name": "HTMLModel",
            "_view_count": null,
            "_view_module": "@jupyter-widgets/controls",
            "_view_module_version": "1.5.0",
            "_view_name": "HTMLView",
            "description": "",
            "description_tooltip": null,
            "layout": "IPY_MODEL_5ed4d46206324052acea50cd528dd4f9",
            "placeholder": "​",
            "style": "IPY_MODEL_41fe216a6784494aa7340b9b33c5ab37",
            "value": "Downloading (…)lve/main/config.json: 100%"
          }
        },
        "c5acf83bccd448f09cfcf03900de894b": {
          "model_module": "@jupyter-widgets/controls",
          "model_name": "FloatProgressModel",
          "model_module_version": "1.5.0",
          "state": {
            "_dom_classes": [],
            "_model_module": "@jupyter-widgets/controls",
            "_model_module_version": "1.5.0",
            "_model_name": "FloatProgressModel",
            "_view_count": null,
            "_view_module": "@jupyter-widgets/controls",
            "_view_module_version": "1.5.0",
            "_view_name": "ProgressView",
            "bar_style": "success",
            "description": "",
            "description_tooltip": null,
            "layout": "IPY_MODEL_1f0750655e534029ae76c89077a912f7",
            "max": 570,
            "min": 0,
            "orientation": "horizontal",
            "style": "IPY_MODEL_7488fc246b9e4cb5a6bb4ae0aad1f5bd",
            "value": 570
          }
        },
        "d26ec2ce3a9044228698c61bccee69c6": {
          "model_module": "@jupyter-widgets/controls",
          "model_name": "HTMLModel",
          "model_module_version": "1.5.0",
          "state": {
            "_dom_classes": [],
            "_model_module": "@jupyter-widgets/controls",
            "_model_module_version": "1.5.0",
            "_model_name": "HTMLModel",
            "_view_count": null,
            "_view_module": "@jupyter-widgets/controls",
            "_view_module_version": "1.5.0",
            "_view_name": "HTMLView",
            "description": "",
            "description_tooltip": null,
            "layout": "IPY_MODEL_59a9f13d5be6450faa94ca86c5b094af",
            "placeholder": "​",
            "style": "IPY_MODEL_6847a086d2e64c5c8943ebe8b0cbee85",
            "value": " 570/570 [00:00&lt;00:00, 28.5kB/s]"
          }
        },
        "db05f1ecb2574a80b3739ed4a2c5d092": {
          "model_module": "@jupyter-widgets/base",
          "model_name": "LayoutModel",
          "model_module_version": "1.2.0",
          "state": {
            "_model_module": "@jupyter-widgets/base",
            "_model_module_version": "1.2.0",
            "_model_name": "LayoutModel",
            "_view_count": null,
            "_view_module": "@jupyter-widgets/base",
            "_view_module_version": "1.2.0",
            "_view_name": "LayoutView",
            "align_content": null,
            "align_items": null,
            "align_self": null,
            "border": null,
            "bottom": null,
            "display": null,
            "flex": null,
            "flex_flow": null,
            "grid_area": null,
            "grid_auto_columns": null,
            "grid_auto_flow": null,
            "grid_auto_rows": null,
            "grid_column": null,
            "grid_gap": null,
            "grid_row": null,
            "grid_template_areas": null,
            "grid_template_columns": null,
            "grid_template_rows": null,
            "height": null,
            "justify_content": null,
            "justify_items": null,
            "left": null,
            "margin": null,
            "max_height": null,
            "max_width": null,
            "min_height": null,
            "min_width": null,
            "object_fit": null,
            "object_position": null,
            "order": null,
            "overflow": null,
            "overflow_x": null,
            "overflow_y": null,
            "padding": null,
            "right": null,
            "top": null,
            "visibility": null,
            "width": null
          }
        },
        "5ed4d46206324052acea50cd528dd4f9": {
          "model_module": "@jupyter-widgets/base",
          "model_name": "LayoutModel",
          "model_module_version": "1.2.0",
          "state": {
            "_model_module": "@jupyter-widgets/base",
            "_model_module_version": "1.2.0",
            "_model_name": "LayoutModel",
            "_view_count": null,
            "_view_module": "@jupyter-widgets/base",
            "_view_module_version": "1.2.0",
            "_view_name": "LayoutView",
            "align_content": null,
            "align_items": null,
            "align_self": null,
            "border": null,
            "bottom": null,
            "display": null,
            "flex": null,
            "flex_flow": null,
            "grid_area": null,
            "grid_auto_columns": null,
            "grid_auto_flow": null,
            "grid_auto_rows": null,
            "grid_column": null,
            "grid_gap": null,
            "grid_row": null,
            "grid_template_areas": null,
            "grid_template_columns": null,
            "grid_template_rows": null,
            "height": null,
            "justify_content": null,
            "justify_items": null,
            "left": null,
            "margin": null,
            "max_height": null,
            "max_width": null,
            "min_height": null,
            "min_width": null,
            "object_fit": null,
            "object_position": null,
            "order": null,
            "overflow": null,
            "overflow_x": null,
            "overflow_y": null,
            "padding": null,
            "right": null,
            "top": null,
            "visibility": null,
            "width": null
          }
        },
        "41fe216a6784494aa7340b9b33c5ab37": {
          "model_module": "@jupyter-widgets/controls",
          "model_name": "DescriptionStyleModel",
          "model_module_version": "1.5.0",
          "state": {
            "_model_module": "@jupyter-widgets/controls",
            "_model_module_version": "1.5.0",
            "_model_name": "DescriptionStyleModel",
            "_view_count": null,
            "_view_module": "@jupyter-widgets/base",
            "_view_module_version": "1.2.0",
            "_view_name": "StyleView",
            "description_width": ""
          }
        },
        "1f0750655e534029ae76c89077a912f7": {
          "model_module": "@jupyter-widgets/base",
          "model_name": "LayoutModel",
          "model_module_version": "1.2.0",
          "state": {
            "_model_module": "@jupyter-widgets/base",
            "_model_module_version": "1.2.0",
            "_model_name": "LayoutModel",
            "_view_count": null,
            "_view_module": "@jupyter-widgets/base",
            "_view_module_version": "1.2.0",
            "_view_name": "LayoutView",
            "align_content": null,
            "align_items": null,
            "align_self": null,
            "border": null,
            "bottom": null,
            "display": null,
            "flex": null,
            "flex_flow": null,
            "grid_area": null,
            "grid_auto_columns": null,
            "grid_auto_flow": null,
            "grid_auto_rows": null,
            "grid_column": null,
            "grid_gap": null,
            "grid_row": null,
            "grid_template_areas": null,
            "grid_template_columns": null,
            "grid_template_rows": null,
            "height": null,
            "justify_content": null,
            "justify_items": null,
            "left": null,
            "margin": null,
            "max_height": null,
            "max_width": null,
            "min_height": null,
            "min_width": null,
            "object_fit": null,
            "object_position": null,
            "order": null,
            "overflow": null,
            "overflow_x": null,
            "overflow_y": null,
            "padding": null,
            "right": null,
            "top": null,
            "visibility": null,
            "width": null
          }
        },
        "7488fc246b9e4cb5a6bb4ae0aad1f5bd": {
          "model_module": "@jupyter-widgets/controls",
          "model_name": "ProgressStyleModel",
          "model_module_version": "1.5.0",
          "state": {
            "_model_module": "@jupyter-widgets/controls",
            "_model_module_version": "1.5.0",
            "_model_name": "ProgressStyleModel",
            "_view_count": null,
            "_view_module": "@jupyter-widgets/base",
            "_view_module_version": "1.2.0",
            "_view_name": "StyleView",
            "bar_color": null,
            "description_width": ""
          }
        },
        "59a9f13d5be6450faa94ca86c5b094af": {
          "model_module": "@jupyter-widgets/base",
          "model_name": "LayoutModel",
          "model_module_version": "1.2.0",
          "state": {
            "_model_module": "@jupyter-widgets/base",
            "_model_module_version": "1.2.0",
            "_model_name": "LayoutModel",
            "_view_count": null,
            "_view_module": "@jupyter-widgets/base",
            "_view_module_version": "1.2.0",
            "_view_name": "LayoutView",
            "align_content": null,
            "align_items": null,
            "align_self": null,
            "border": null,
            "bottom": null,
            "display": null,
            "flex": null,
            "flex_flow": null,
            "grid_area": null,
            "grid_auto_columns": null,
            "grid_auto_flow": null,
            "grid_auto_rows": null,
            "grid_column": null,
            "grid_gap": null,
            "grid_row": null,
            "grid_template_areas": null,
            "grid_template_columns": null,
            "grid_template_rows": null,
            "height": null,
            "justify_content": null,
            "justify_items": null,
            "left": null,
            "margin": null,
            "max_height": null,
            "max_width": null,
            "min_height": null,
            "min_width": null,
            "object_fit": null,
            "object_position": null,
            "order": null,
            "overflow": null,
            "overflow_x": null,
            "overflow_y": null,
            "padding": null,
            "right": null,
            "top": null,
            "visibility": null,
            "width": null
          }
        },
        "6847a086d2e64c5c8943ebe8b0cbee85": {
          "model_module": "@jupyter-widgets/controls",
          "model_name": "DescriptionStyleModel",
          "model_module_version": "1.5.0",
          "state": {
            "_model_module": "@jupyter-widgets/controls",
            "_model_module_version": "1.5.0",
            "_model_name": "DescriptionStyleModel",
            "_view_count": null,
            "_view_module": "@jupyter-widgets/base",
            "_view_module_version": "1.2.0",
            "_view_name": "StyleView",
            "description_width": ""
          }
        },
        "9b71f22eb9dc4628bd53ac82933774f7": {
          "model_module": "@jupyter-widgets/controls",
          "model_name": "HBoxModel",
          "model_module_version": "1.5.0",
          "state": {
            "_dom_classes": [],
            "_model_module": "@jupyter-widgets/controls",
            "_model_module_version": "1.5.0",
            "_model_name": "HBoxModel",
            "_view_count": null,
            "_view_module": "@jupyter-widgets/controls",
            "_view_module_version": "1.5.0",
            "_view_name": "HBoxView",
            "box_style": "",
            "children": [
              "IPY_MODEL_5eb95a5c650a4aa6b0c4b4dfe8f9b5c1",
              "IPY_MODEL_dc5c88403d0244d59b4090e5deef92c4",
              "IPY_MODEL_8f6a2898b0a44cd09a13ecafc2d2fa13"
            ],
            "layout": "IPY_MODEL_b66c2c2c27544feabbcdad2a08c104a4"
          }
        },
        "5eb95a5c650a4aa6b0c4b4dfe8f9b5c1": {
          "model_module": "@jupyter-widgets/controls",
          "model_name": "HTMLModel",
          "model_module_version": "1.5.0",
          "state": {
            "_dom_classes": [],
            "_model_module": "@jupyter-widgets/controls",
            "_model_module_version": "1.5.0",
            "_model_name": "HTMLModel",
            "_view_count": null,
            "_view_module": "@jupyter-widgets/controls",
            "_view_module_version": "1.5.0",
            "_view_name": "HTMLView",
            "description": "",
            "description_tooltip": null,
            "layout": "IPY_MODEL_29ba8822245547cca1b6269855d79bcf",
            "placeholder": "​",
            "style": "IPY_MODEL_eeb2a1fb6b1e462ba5b6ac12f1cf40cb",
            "value": "Downloading pytorch_model.bin: 100%"
          }
        },
        "dc5c88403d0244d59b4090e5deef92c4": {
          "model_module": "@jupyter-widgets/controls",
          "model_name": "FloatProgressModel",
          "model_module_version": "1.5.0",
          "state": {
            "_dom_classes": [],
            "_model_module": "@jupyter-widgets/controls",
            "_model_module_version": "1.5.0",
            "_model_name": "FloatProgressModel",
            "_view_count": null,
            "_view_module": "@jupyter-widgets/controls",
            "_view_module_version": "1.5.0",
            "_view_name": "ProgressView",
            "bar_style": "success",
            "description": "",
            "description_tooltip": null,
            "layout": "IPY_MODEL_3fcbc6dceee84dcda765c42500d8540d",
            "max": 435779157,
            "min": 0,
            "orientation": "horizontal",
            "style": "IPY_MODEL_ff7c8240bae047739a29a23dfe800d8e",
            "value": 435779157
          }
        },
        "8f6a2898b0a44cd09a13ecafc2d2fa13": {
          "model_module": "@jupyter-widgets/controls",
          "model_name": "HTMLModel",
          "model_module_version": "1.5.0",
          "state": {
            "_dom_classes": [],
            "_model_module": "@jupyter-widgets/controls",
            "_model_module_version": "1.5.0",
            "_model_name": "HTMLModel",
            "_view_count": null,
            "_view_module": "@jupyter-widgets/controls",
            "_view_module_version": "1.5.0",
            "_view_name": "HTMLView",
            "description": "",
            "description_tooltip": null,
            "layout": "IPY_MODEL_45491d610b3044f1996302849f1d84b4",
            "placeholder": "​",
            "style": "IPY_MODEL_a4b87c0afaf74483818662d142a14e0f",
            "value": " 436M/436M [00:05&lt;00:00, 86.1MB/s]"
          }
        },
        "b66c2c2c27544feabbcdad2a08c104a4": {
          "model_module": "@jupyter-widgets/base",
          "model_name": "LayoutModel",
          "model_module_version": "1.2.0",
          "state": {
            "_model_module": "@jupyter-widgets/base",
            "_model_module_version": "1.2.0",
            "_model_name": "LayoutModel",
            "_view_count": null,
            "_view_module": "@jupyter-widgets/base",
            "_view_module_version": "1.2.0",
            "_view_name": "LayoutView",
            "align_content": null,
            "align_items": null,
            "align_self": null,
            "border": null,
            "bottom": null,
            "display": null,
            "flex": null,
            "flex_flow": null,
            "grid_area": null,
            "grid_auto_columns": null,
            "grid_auto_flow": null,
            "grid_auto_rows": null,
            "grid_column": null,
            "grid_gap": null,
            "grid_row": null,
            "grid_template_areas": null,
            "grid_template_columns": null,
            "grid_template_rows": null,
            "height": null,
            "justify_content": null,
            "justify_items": null,
            "left": null,
            "margin": null,
            "max_height": null,
            "max_width": null,
            "min_height": null,
            "min_width": null,
            "object_fit": null,
            "object_position": null,
            "order": null,
            "overflow": null,
            "overflow_x": null,
            "overflow_y": null,
            "padding": null,
            "right": null,
            "top": null,
            "visibility": null,
            "width": null
          }
        },
        "29ba8822245547cca1b6269855d79bcf": {
          "model_module": "@jupyter-widgets/base",
          "model_name": "LayoutModel",
          "model_module_version": "1.2.0",
          "state": {
            "_model_module": "@jupyter-widgets/base",
            "_model_module_version": "1.2.0",
            "_model_name": "LayoutModel",
            "_view_count": null,
            "_view_module": "@jupyter-widgets/base",
            "_view_module_version": "1.2.0",
            "_view_name": "LayoutView",
            "align_content": null,
            "align_items": null,
            "align_self": null,
            "border": null,
            "bottom": null,
            "display": null,
            "flex": null,
            "flex_flow": null,
            "grid_area": null,
            "grid_auto_columns": null,
            "grid_auto_flow": null,
            "grid_auto_rows": null,
            "grid_column": null,
            "grid_gap": null,
            "grid_row": null,
            "grid_template_areas": null,
            "grid_template_columns": null,
            "grid_template_rows": null,
            "height": null,
            "justify_content": null,
            "justify_items": null,
            "left": null,
            "margin": null,
            "max_height": null,
            "max_width": null,
            "min_height": null,
            "min_width": null,
            "object_fit": null,
            "object_position": null,
            "order": null,
            "overflow": null,
            "overflow_x": null,
            "overflow_y": null,
            "padding": null,
            "right": null,
            "top": null,
            "visibility": null,
            "width": null
          }
        },
        "eeb2a1fb6b1e462ba5b6ac12f1cf40cb": {
          "model_module": "@jupyter-widgets/controls",
          "model_name": "DescriptionStyleModel",
          "model_module_version": "1.5.0",
          "state": {
            "_model_module": "@jupyter-widgets/controls",
            "_model_module_version": "1.5.0",
            "_model_name": "DescriptionStyleModel",
            "_view_count": null,
            "_view_module": "@jupyter-widgets/base",
            "_view_module_version": "1.2.0",
            "_view_name": "StyleView",
            "description_width": ""
          }
        },
        "3fcbc6dceee84dcda765c42500d8540d": {
          "model_module": "@jupyter-widgets/base",
          "model_name": "LayoutModel",
          "model_module_version": "1.2.0",
          "state": {
            "_model_module": "@jupyter-widgets/base",
            "_model_module_version": "1.2.0",
            "_model_name": "LayoutModel",
            "_view_count": null,
            "_view_module": "@jupyter-widgets/base",
            "_view_module_version": "1.2.0",
            "_view_name": "LayoutView",
            "align_content": null,
            "align_items": null,
            "align_self": null,
            "border": null,
            "bottom": null,
            "display": null,
            "flex": null,
            "flex_flow": null,
            "grid_area": null,
            "grid_auto_columns": null,
            "grid_auto_flow": null,
            "grid_auto_rows": null,
            "grid_column": null,
            "grid_gap": null,
            "grid_row": null,
            "grid_template_areas": null,
            "grid_template_columns": null,
            "grid_template_rows": null,
            "height": null,
            "justify_content": null,
            "justify_items": null,
            "left": null,
            "margin": null,
            "max_height": null,
            "max_width": null,
            "min_height": null,
            "min_width": null,
            "object_fit": null,
            "object_position": null,
            "order": null,
            "overflow": null,
            "overflow_x": null,
            "overflow_y": null,
            "padding": null,
            "right": null,
            "top": null,
            "visibility": null,
            "width": null
          }
        },
        "ff7c8240bae047739a29a23dfe800d8e": {
          "model_module": "@jupyter-widgets/controls",
          "model_name": "ProgressStyleModel",
          "model_module_version": "1.5.0",
          "state": {
            "_model_module": "@jupyter-widgets/controls",
            "_model_module_version": "1.5.0",
            "_model_name": "ProgressStyleModel",
            "_view_count": null,
            "_view_module": "@jupyter-widgets/base",
            "_view_module_version": "1.2.0",
            "_view_name": "StyleView",
            "bar_color": null,
            "description_width": ""
          }
        },
        "45491d610b3044f1996302849f1d84b4": {
          "model_module": "@jupyter-widgets/base",
          "model_name": "LayoutModel",
          "model_module_version": "1.2.0",
          "state": {
            "_model_module": "@jupyter-widgets/base",
            "_model_module_version": "1.2.0",
            "_model_name": "LayoutModel",
            "_view_count": null,
            "_view_module": "@jupyter-widgets/base",
            "_view_module_version": "1.2.0",
            "_view_name": "LayoutView",
            "align_content": null,
            "align_items": null,
            "align_self": null,
            "border": null,
            "bottom": null,
            "display": null,
            "flex": null,
            "flex_flow": null,
            "grid_area": null,
            "grid_auto_columns": null,
            "grid_auto_flow": null,
            "grid_auto_rows": null,
            "grid_column": null,
            "grid_gap": null,
            "grid_row": null,
            "grid_template_areas": null,
            "grid_template_columns": null,
            "grid_template_rows": null,
            "height": null,
            "justify_content": null,
            "justify_items": null,
            "left": null,
            "margin": null,
            "max_height": null,
            "max_width": null,
            "min_height": null,
            "min_width": null,
            "object_fit": null,
            "object_position": null,
            "order": null,
            "overflow": null,
            "overflow_x": null,
            "overflow_y": null,
            "padding": null,
            "right": null,
            "top": null,
            "visibility": null,
            "width": null
          }
        },
        "a4b87c0afaf74483818662d142a14e0f": {
          "model_module": "@jupyter-widgets/controls",
          "model_name": "DescriptionStyleModel",
          "model_module_version": "1.5.0",
          "state": {
            "_model_module": "@jupyter-widgets/controls",
            "_model_module_version": "1.5.0",
            "_model_name": "DescriptionStyleModel",
            "_view_count": null,
            "_view_module": "@jupyter-widgets/base",
            "_view_module_version": "1.2.0",
            "_view_name": "StyleView",
            "description_width": ""
          }
        },
        "50e01ecf7d344d5db08d307e944cb9a8": {
          "model_module": "@jupyter-widgets/controls",
          "model_name": "HBoxModel",
          "model_module_version": "1.5.0",
          "state": {
            "_dom_classes": [],
            "_model_module": "@jupyter-widgets/controls",
            "_model_module_version": "1.5.0",
            "_model_name": "HBoxModel",
            "_view_count": null,
            "_view_module": "@jupyter-widgets/controls",
            "_view_module_version": "1.5.0",
            "_view_name": "HBoxView",
            "box_style": "",
            "children": [
              "IPY_MODEL_38cbb9f6140a4787b3765bd00fdc2bdb",
              "IPY_MODEL_840ebec5284e419db70ffab67fdc473c",
              "IPY_MODEL_8d87bc6d7e62467fa88a87eb249592e6"
            ],
            "layout": "IPY_MODEL_8ecf8a6fd42b421898b5fc580e098f78"
          }
        },
        "38cbb9f6140a4787b3765bd00fdc2bdb": {
          "model_module": "@jupyter-widgets/controls",
          "model_name": "HTMLModel",
          "model_module_version": "1.5.0",
          "state": {
            "_dom_classes": [],
            "_model_module": "@jupyter-widgets/controls",
            "_model_module_version": "1.5.0",
            "_model_name": "HTMLModel",
            "_view_count": null,
            "_view_module": "@jupyter-widgets/controls",
            "_view_module_version": "1.5.0",
            "_view_name": "HTMLView",
            "description": "",
            "description_tooltip": null,
            "layout": "IPY_MODEL_04f4538c25e44be6876b8bbb3404ca00",
            "placeholder": "​",
            "style": "IPY_MODEL_9fbf70bb15574330a5fac02e4d809028",
            "value": "Downloading (…)okenizer_config.json: 100%"
          }
        },
        "840ebec5284e419db70ffab67fdc473c": {
          "model_module": "@jupyter-widgets/controls",
          "model_name": "FloatProgressModel",
          "model_module_version": "1.5.0",
          "state": {
            "_dom_classes": [],
            "_model_module": "@jupyter-widgets/controls",
            "_model_module_version": "1.5.0",
            "_model_name": "FloatProgressModel",
            "_view_count": null,
            "_view_module": "@jupyter-widgets/controls",
            "_view_module_version": "1.5.0",
            "_view_name": "ProgressView",
            "bar_style": "success",
            "description": "",
            "description_tooltip": null,
            "layout": "IPY_MODEL_03903ade16314372826aee2e08025361",
            "max": 29,
            "min": 0,
            "orientation": "horizontal",
            "style": "IPY_MODEL_9df3706ec3e247da984274a7c11d11c6",
            "value": 29
          }
        },
        "8d87bc6d7e62467fa88a87eb249592e6": {
          "model_module": "@jupyter-widgets/controls",
          "model_name": "HTMLModel",
          "model_module_version": "1.5.0",
          "state": {
            "_dom_classes": [],
            "_model_module": "@jupyter-widgets/controls",
            "_model_module_version": "1.5.0",
            "_model_name": "HTMLModel",
            "_view_count": null,
            "_view_module": "@jupyter-widgets/controls",
            "_view_module_version": "1.5.0",
            "_view_name": "HTMLView",
            "description": "",
            "description_tooltip": null,
            "layout": "IPY_MODEL_18ca94b8102246d6b19f2c71d522e955",
            "placeholder": "​",
            "style": "IPY_MODEL_a83ff2165df9496199d67bf9ffc1879c",
            "value": " 29.0/29.0 [00:00&lt;00:00, 1.74kB/s]"
          }
        },
        "8ecf8a6fd42b421898b5fc580e098f78": {
          "model_module": "@jupyter-widgets/base",
          "model_name": "LayoutModel",
          "model_module_version": "1.2.0",
          "state": {
            "_model_module": "@jupyter-widgets/base",
            "_model_module_version": "1.2.0",
            "_model_name": "LayoutModel",
            "_view_count": null,
            "_view_module": "@jupyter-widgets/base",
            "_view_module_version": "1.2.0",
            "_view_name": "LayoutView",
            "align_content": null,
            "align_items": null,
            "align_self": null,
            "border": null,
            "bottom": null,
            "display": null,
            "flex": null,
            "flex_flow": null,
            "grid_area": null,
            "grid_auto_columns": null,
            "grid_auto_flow": null,
            "grid_auto_rows": null,
            "grid_column": null,
            "grid_gap": null,
            "grid_row": null,
            "grid_template_areas": null,
            "grid_template_columns": null,
            "grid_template_rows": null,
            "height": null,
            "justify_content": null,
            "justify_items": null,
            "left": null,
            "margin": null,
            "max_height": null,
            "max_width": null,
            "min_height": null,
            "min_width": null,
            "object_fit": null,
            "object_position": null,
            "order": null,
            "overflow": null,
            "overflow_x": null,
            "overflow_y": null,
            "padding": null,
            "right": null,
            "top": null,
            "visibility": null,
            "width": null
          }
        },
        "04f4538c25e44be6876b8bbb3404ca00": {
          "model_module": "@jupyter-widgets/base",
          "model_name": "LayoutModel",
          "model_module_version": "1.2.0",
          "state": {
            "_model_module": "@jupyter-widgets/base",
            "_model_module_version": "1.2.0",
            "_model_name": "LayoutModel",
            "_view_count": null,
            "_view_module": "@jupyter-widgets/base",
            "_view_module_version": "1.2.0",
            "_view_name": "LayoutView",
            "align_content": null,
            "align_items": null,
            "align_self": null,
            "border": null,
            "bottom": null,
            "display": null,
            "flex": null,
            "flex_flow": null,
            "grid_area": null,
            "grid_auto_columns": null,
            "grid_auto_flow": null,
            "grid_auto_rows": null,
            "grid_column": null,
            "grid_gap": null,
            "grid_row": null,
            "grid_template_areas": null,
            "grid_template_columns": null,
            "grid_template_rows": null,
            "height": null,
            "justify_content": null,
            "justify_items": null,
            "left": null,
            "margin": null,
            "max_height": null,
            "max_width": null,
            "min_height": null,
            "min_width": null,
            "object_fit": null,
            "object_position": null,
            "order": null,
            "overflow": null,
            "overflow_x": null,
            "overflow_y": null,
            "padding": null,
            "right": null,
            "top": null,
            "visibility": null,
            "width": null
          }
        },
        "9fbf70bb15574330a5fac02e4d809028": {
          "model_module": "@jupyter-widgets/controls",
          "model_name": "DescriptionStyleModel",
          "model_module_version": "1.5.0",
          "state": {
            "_model_module": "@jupyter-widgets/controls",
            "_model_module_version": "1.5.0",
            "_model_name": "DescriptionStyleModel",
            "_view_count": null,
            "_view_module": "@jupyter-widgets/base",
            "_view_module_version": "1.2.0",
            "_view_name": "StyleView",
            "description_width": ""
          }
        },
        "03903ade16314372826aee2e08025361": {
          "model_module": "@jupyter-widgets/base",
          "model_name": "LayoutModel",
          "model_module_version": "1.2.0",
          "state": {
            "_model_module": "@jupyter-widgets/base",
            "_model_module_version": "1.2.0",
            "_model_name": "LayoutModel",
            "_view_count": null,
            "_view_module": "@jupyter-widgets/base",
            "_view_module_version": "1.2.0",
            "_view_name": "LayoutView",
            "align_content": null,
            "align_items": null,
            "align_self": null,
            "border": null,
            "bottom": null,
            "display": null,
            "flex": null,
            "flex_flow": null,
            "grid_area": null,
            "grid_auto_columns": null,
            "grid_auto_flow": null,
            "grid_auto_rows": null,
            "grid_column": null,
            "grid_gap": null,
            "grid_row": null,
            "grid_template_areas": null,
            "grid_template_columns": null,
            "grid_template_rows": null,
            "height": null,
            "justify_content": null,
            "justify_items": null,
            "left": null,
            "margin": null,
            "max_height": null,
            "max_width": null,
            "min_height": null,
            "min_width": null,
            "object_fit": null,
            "object_position": null,
            "order": null,
            "overflow": null,
            "overflow_x": null,
            "overflow_y": null,
            "padding": null,
            "right": null,
            "top": null,
            "visibility": null,
            "width": null
          }
        },
        "9df3706ec3e247da984274a7c11d11c6": {
          "model_module": "@jupyter-widgets/controls",
          "model_name": "ProgressStyleModel",
          "model_module_version": "1.5.0",
          "state": {
            "_model_module": "@jupyter-widgets/controls",
            "_model_module_version": "1.5.0",
            "_model_name": "ProgressStyleModel",
            "_view_count": null,
            "_view_module": "@jupyter-widgets/base",
            "_view_module_version": "1.2.0",
            "_view_name": "StyleView",
            "bar_color": null,
            "description_width": ""
          }
        },
        "18ca94b8102246d6b19f2c71d522e955": {
          "model_module": "@jupyter-widgets/base",
          "model_name": "LayoutModel",
          "model_module_version": "1.2.0",
          "state": {
            "_model_module": "@jupyter-widgets/base",
            "_model_module_version": "1.2.0",
            "_model_name": "LayoutModel",
            "_view_count": null,
            "_view_module": "@jupyter-widgets/base",
            "_view_module_version": "1.2.0",
            "_view_name": "LayoutView",
            "align_content": null,
            "align_items": null,
            "align_self": null,
            "border": null,
            "bottom": null,
            "display": null,
            "flex": null,
            "flex_flow": null,
            "grid_area": null,
            "grid_auto_columns": null,
            "grid_auto_flow": null,
            "grid_auto_rows": null,
            "grid_column": null,
            "grid_gap": null,
            "grid_row": null,
            "grid_template_areas": null,
            "grid_template_columns": null,
            "grid_template_rows": null,
            "height": null,
            "justify_content": null,
            "justify_items": null,
            "left": null,
            "margin": null,
            "max_height": null,
            "max_width": null,
            "min_height": null,
            "min_width": null,
            "object_fit": null,
            "object_position": null,
            "order": null,
            "overflow": null,
            "overflow_x": null,
            "overflow_y": null,
            "padding": null,
            "right": null,
            "top": null,
            "visibility": null,
            "width": null
          }
        },
        "a83ff2165df9496199d67bf9ffc1879c": {
          "model_module": "@jupyter-widgets/controls",
          "model_name": "DescriptionStyleModel",
          "model_module_version": "1.5.0",
          "state": {
            "_model_module": "@jupyter-widgets/controls",
            "_model_module_version": "1.5.0",
            "_model_name": "DescriptionStyleModel",
            "_view_count": null,
            "_view_module": "@jupyter-widgets/base",
            "_view_module_version": "1.2.0",
            "_view_name": "StyleView",
            "description_width": ""
          }
        },
        "b8a57732e30a40fc9303b71c64961cc9": {
          "model_module": "@jupyter-widgets/controls",
          "model_name": "HBoxModel",
          "model_module_version": "1.5.0",
          "state": {
            "_dom_classes": [],
            "_model_module": "@jupyter-widgets/controls",
            "_model_module_version": "1.5.0",
            "_model_name": "HBoxModel",
            "_view_count": null,
            "_view_module": "@jupyter-widgets/controls",
            "_view_module_version": "1.5.0",
            "_view_name": "HBoxView",
            "box_style": "",
            "children": [
              "IPY_MODEL_ef9a0c94dbc748d6877f5644919b810b",
              "IPY_MODEL_2d4aab56f4cf429d983b84301d7888ee",
              "IPY_MODEL_cb64ada7c127476897c58c8c908c7c2a"
            ],
            "layout": "IPY_MODEL_7d1fc61d877044fd9d871c7f368ae090"
          }
        },
        "ef9a0c94dbc748d6877f5644919b810b": {
          "model_module": "@jupyter-widgets/controls",
          "model_name": "HTMLModel",
          "model_module_version": "1.5.0",
          "state": {
            "_dom_classes": [],
            "_model_module": "@jupyter-widgets/controls",
            "_model_module_version": "1.5.0",
            "_model_name": "HTMLModel",
            "_view_count": null,
            "_view_module": "@jupyter-widgets/controls",
            "_view_module_version": "1.5.0",
            "_view_name": "HTMLView",
            "description": "",
            "description_tooltip": null,
            "layout": "IPY_MODEL_c5a00daa492c43018143e6239eeccf87",
            "placeholder": "​",
            "style": "IPY_MODEL_a88268a365e346b485438b23ffd7c764",
            "value": "Downloading (…)solve/main/vocab.txt: 100%"
          }
        },
        "2d4aab56f4cf429d983b84301d7888ee": {
          "model_module": "@jupyter-widgets/controls",
          "model_name": "FloatProgressModel",
          "model_module_version": "1.5.0",
          "state": {
            "_dom_classes": [],
            "_model_module": "@jupyter-widgets/controls",
            "_model_module_version": "1.5.0",
            "_model_name": "FloatProgressModel",
            "_view_count": null,
            "_view_module": "@jupyter-widgets/controls",
            "_view_module_version": "1.5.0",
            "_view_name": "ProgressView",
            "bar_style": "success",
            "description": "",
            "description_tooltip": null,
            "layout": "IPY_MODEL_47fbb5e7e74b4f5d9d39f6947ae0c07a",
            "max": 213450,
            "min": 0,
            "orientation": "horizontal",
            "style": "IPY_MODEL_c75f7106076344df83891ef6c997521f",
            "value": 213450
          }
        },
        "cb64ada7c127476897c58c8c908c7c2a": {
          "model_module": "@jupyter-widgets/controls",
          "model_name": "HTMLModel",
          "model_module_version": "1.5.0",
          "state": {
            "_dom_classes": [],
            "_model_module": "@jupyter-widgets/controls",
            "_model_module_version": "1.5.0",
            "_model_name": "HTMLModel",
            "_view_count": null,
            "_view_module": "@jupyter-widgets/controls",
            "_view_module_version": "1.5.0",
            "_view_name": "HTMLView",
            "description": "",
            "description_tooltip": null,
            "layout": "IPY_MODEL_03554d4e85c9454eb060ff72a39b9aa0",
            "placeholder": "​",
            "style": "IPY_MODEL_13b4aa8f791443c6bbbff9128ad2563b",
            "value": " 213k/213k [00:00&lt;00:00, 321kB/s]"
          }
        },
        "7d1fc61d877044fd9d871c7f368ae090": {
          "model_module": "@jupyter-widgets/base",
          "model_name": "LayoutModel",
          "model_module_version": "1.2.0",
          "state": {
            "_model_module": "@jupyter-widgets/base",
            "_model_module_version": "1.2.0",
            "_model_name": "LayoutModel",
            "_view_count": null,
            "_view_module": "@jupyter-widgets/base",
            "_view_module_version": "1.2.0",
            "_view_name": "LayoutView",
            "align_content": null,
            "align_items": null,
            "align_self": null,
            "border": null,
            "bottom": null,
            "display": null,
            "flex": null,
            "flex_flow": null,
            "grid_area": null,
            "grid_auto_columns": null,
            "grid_auto_flow": null,
            "grid_auto_rows": null,
            "grid_column": null,
            "grid_gap": null,
            "grid_row": null,
            "grid_template_areas": null,
            "grid_template_columns": null,
            "grid_template_rows": null,
            "height": null,
            "justify_content": null,
            "justify_items": null,
            "left": null,
            "margin": null,
            "max_height": null,
            "max_width": null,
            "min_height": null,
            "min_width": null,
            "object_fit": null,
            "object_position": null,
            "order": null,
            "overflow": null,
            "overflow_x": null,
            "overflow_y": null,
            "padding": null,
            "right": null,
            "top": null,
            "visibility": null,
            "width": null
          }
        },
        "c5a00daa492c43018143e6239eeccf87": {
          "model_module": "@jupyter-widgets/base",
          "model_name": "LayoutModel",
          "model_module_version": "1.2.0",
          "state": {
            "_model_module": "@jupyter-widgets/base",
            "_model_module_version": "1.2.0",
            "_model_name": "LayoutModel",
            "_view_count": null,
            "_view_module": "@jupyter-widgets/base",
            "_view_module_version": "1.2.0",
            "_view_name": "LayoutView",
            "align_content": null,
            "align_items": null,
            "align_self": null,
            "border": null,
            "bottom": null,
            "display": null,
            "flex": null,
            "flex_flow": null,
            "grid_area": null,
            "grid_auto_columns": null,
            "grid_auto_flow": null,
            "grid_auto_rows": null,
            "grid_column": null,
            "grid_gap": null,
            "grid_row": null,
            "grid_template_areas": null,
            "grid_template_columns": null,
            "grid_template_rows": null,
            "height": null,
            "justify_content": null,
            "justify_items": null,
            "left": null,
            "margin": null,
            "max_height": null,
            "max_width": null,
            "min_height": null,
            "min_width": null,
            "object_fit": null,
            "object_position": null,
            "order": null,
            "overflow": null,
            "overflow_x": null,
            "overflow_y": null,
            "padding": null,
            "right": null,
            "top": null,
            "visibility": null,
            "width": null
          }
        },
        "a88268a365e346b485438b23ffd7c764": {
          "model_module": "@jupyter-widgets/controls",
          "model_name": "DescriptionStyleModel",
          "model_module_version": "1.5.0",
          "state": {
            "_model_module": "@jupyter-widgets/controls",
            "_model_module_version": "1.5.0",
            "_model_name": "DescriptionStyleModel",
            "_view_count": null,
            "_view_module": "@jupyter-widgets/base",
            "_view_module_version": "1.2.0",
            "_view_name": "StyleView",
            "description_width": ""
          }
        },
        "47fbb5e7e74b4f5d9d39f6947ae0c07a": {
          "model_module": "@jupyter-widgets/base",
          "model_name": "LayoutModel",
          "model_module_version": "1.2.0",
          "state": {
            "_model_module": "@jupyter-widgets/base",
            "_model_module_version": "1.2.0",
            "_model_name": "LayoutModel",
            "_view_count": null,
            "_view_module": "@jupyter-widgets/base",
            "_view_module_version": "1.2.0",
            "_view_name": "LayoutView",
            "align_content": null,
            "align_items": null,
            "align_self": null,
            "border": null,
            "bottom": null,
            "display": null,
            "flex": null,
            "flex_flow": null,
            "grid_area": null,
            "grid_auto_columns": null,
            "grid_auto_flow": null,
            "grid_auto_rows": null,
            "grid_column": null,
            "grid_gap": null,
            "grid_row": null,
            "grid_template_areas": null,
            "grid_template_columns": null,
            "grid_template_rows": null,
            "height": null,
            "justify_content": null,
            "justify_items": null,
            "left": null,
            "margin": null,
            "max_height": null,
            "max_width": null,
            "min_height": null,
            "min_width": null,
            "object_fit": null,
            "object_position": null,
            "order": null,
            "overflow": null,
            "overflow_x": null,
            "overflow_y": null,
            "padding": null,
            "right": null,
            "top": null,
            "visibility": null,
            "width": null
          }
        },
        "c75f7106076344df83891ef6c997521f": {
          "model_module": "@jupyter-widgets/controls",
          "model_name": "ProgressStyleModel",
          "model_module_version": "1.5.0",
          "state": {
            "_model_module": "@jupyter-widgets/controls",
            "_model_module_version": "1.5.0",
            "_model_name": "ProgressStyleModel",
            "_view_count": null,
            "_view_module": "@jupyter-widgets/base",
            "_view_module_version": "1.2.0",
            "_view_name": "StyleView",
            "bar_color": null,
            "description_width": ""
          }
        },
        "03554d4e85c9454eb060ff72a39b9aa0": {
          "model_module": "@jupyter-widgets/base",
          "model_name": "LayoutModel",
          "model_module_version": "1.2.0",
          "state": {
            "_model_module": "@jupyter-widgets/base",
            "_model_module_version": "1.2.0",
            "_model_name": "LayoutModel",
            "_view_count": null,
            "_view_module": "@jupyter-widgets/base",
            "_view_module_version": "1.2.0",
            "_view_name": "LayoutView",
            "align_content": null,
            "align_items": null,
            "align_self": null,
            "border": null,
            "bottom": null,
            "display": null,
            "flex": null,
            "flex_flow": null,
            "grid_area": null,
            "grid_auto_columns": null,
            "grid_auto_flow": null,
            "grid_auto_rows": null,
            "grid_column": null,
            "grid_gap": null,
            "grid_row": null,
            "grid_template_areas": null,
            "grid_template_columns": null,
            "grid_template_rows": null,
            "height": null,
            "justify_content": null,
            "justify_items": null,
            "left": null,
            "margin": null,
            "max_height": null,
            "max_width": null,
            "min_height": null,
            "min_width": null,
            "object_fit": null,
            "object_position": null,
            "order": null,
            "overflow": null,
            "overflow_x": null,
            "overflow_y": null,
            "padding": null,
            "right": null,
            "top": null,
            "visibility": null,
            "width": null
          }
        },
        "13b4aa8f791443c6bbbff9128ad2563b": {
          "model_module": "@jupyter-widgets/controls",
          "model_name": "DescriptionStyleModel",
          "model_module_version": "1.5.0",
          "state": {
            "_model_module": "@jupyter-widgets/controls",
            "_model_module_version": "1.5.0",
            "_model_name": "DescriptionStyleModel",
            "_view_count": null,
            "_view_module": "@jupyter-widgets/base",
            "_view_module_version": "1.2.0",
            "_view_name": "StyleView",
            "description_width": ""
          }
        },
        "ae4fdcffcb3c4acabebacef8a4952c5e": {
          "model_module": "@jupyter-widgets/controls",
          "model_name": "HBoxModel",
          "model_module_version": "1.5.0",
          "state": {
            "_dom_classes": [],
            "_model_module": "@jupyter-widgets/controls",
            "_model_module_version": "1.5.0",
            "_model_name": "HBoxModel",
            "_view_count": null,
            "_view_module": "@jupyter-widgets/controls",
            "_view_module_version": "1.5.0",
            "_view_name": "HBoxView",
            "box_style": "",
            "children": [
              "IPY_MODEL_0a9e8b2404b64ed4b8cb832a0f909dab",
              "IPY_MODEL_af0fd334ce8c45929bf56e3d36323c58",
              "IPY_MODEL_86fc73556ad9485a8db19fc9e9be0117"
            ],
            "layout": "IPY_MODEL_ab1b0d0d8f474b4fb43d6e78e2f351e8"
          }
        },
        "0a9e8b2404b64ed4b8cb832a0f909dab": {
          "model_module": "@jupyter-widgets/controls",
          "model_name": "HTMLModel",
          "model_module_version": "1.5.0",
          "state": {
            "_dom_classes": [],
            "_model_module": "@jupyter-widgets/controls",
            "_model_module_version": "1.5.0",
            "_model_name": "HTMLModel",
            "_view_count": null,
            "_view_module": "@jupyter-widgets/controls",
            "_view_module_version": "1.5.0",
            "_view_name": "HTMLView",
            "description": "",
            "description_tooltip": null,
            "layout": "IPY_MODEL_ebb603edb75346489d0107c435a45108",
            "placeholder": "​",
            "style": "IPY_MODEL_961f7a7266ec4bf09d3eb149d14f0ca1",
            "value": "Downloading (…)/main/tokenizer.json: 100%"
          }
        },
        "af0fd334ce8c45929bf56e3d36323c58": {
          "model_module": "@jupyter-widgets/controls",
          "model_name": "FloatProgressModel",
          "model_module_version": "1.5.0",
          "state": {
            "_dom_classes": [],
            "_model_module": "@jupyter-widgets/controls",
            "_model_module_version": "1.5.0",
            "_model_name": "FloatProgressModel",
            "_view_count": null,
            "_view_module": "@jupyter-widgets/controls",
            "_view_module_version": "1.5.0",
            "_view_name": "ProgressView",
            "bar_style": "success",
            "description": "",
            "description_tooltip": null,
            "layout": "IPY_MODEL_09ab369b6f054130864d1a5f7f7624a5",
            "max": 435797,
            "min": 0,
            "orientation": "horizontal",
            "style": "IPY_MODEL_a23c9a98823d40b894a86cc94f26ff28",
            "value": 435797
          }
        },
        "86fc73556ad9485a8db19fc9e9be0117": {
          "model_module": "@jupyter-widgets/controls",
          "model_name": "HTMLModel",
          "model_module_version": "1.5.0",
          "state": {
            "_dom_classes": [],
            "_model_module": "@jupyter-widgets/controls",
            "_model_module_version": "1.5.0",
            "_model_name": "HTMLModel",
            "_view_count": null,
            "_view_module": "@jupyter-widgets/controls",
            "_view_module_version": "1.5.0",
            "_view_name": "HTMLView",
            "description": "",
            "description_tooltip": null,
            "layout": "IPY_MODEL_80a7a4217f3244158744ebf2810203a7",
            "placeholder": "​",
            "style": "IPY_MODEL_1a9be4cd067a4891ad620a2acfedc612",
            "value": " 436k/436k [00:00&lt;00:00, 485kB/s]"
          }
        },
        "ab1b0d0d8f474b4fb43d6e78e2f351e8": {
          "model_module": "@jupyter-widgets/base",
          "model_name": "LayoutModel",
          "model_module_version": "1.2.0",
          "state": {
            "_model_module": "@jupyter-widgets/base",
            "_model_module_version": "1.2.0",
            "_model_name": "LayoutModel",
            "_view_count": null,
            "_view_module": "@jupyter-widgets/base",
            "_view_module_version": "1.2.0",
            "_view_name": "LayoutView",
            "align_content": null,
            "align_items": null,
            "align_self": null,
            "border": null,
            "bottom": null,
            "display": null,
            "flex": null,
            "flex_flow": null,
            "grid_area": null,
            "grid_auto_columns": null,
            "grid_auto_flow": null,
            "grid_auto_rows": null,
            "grid_column": null,
            "grid_gap": null,
            "grid_row": null,
            "grid_template_areas": null,
            "grid_template_columns": null,
            "grid_template_rows": null,
            "height": null,
            "justify_content": null,
            "justify_items": null,
            "left": null,
            "margin": null,
            "max_height": null,
            "max_width": null,
            "min_height": null,
            "min_width": null,
            "object_fit": null,
            "object_position": null,
            "order": null,
            "overflow": null,
            "overflow_x": null,
            "overflow_y": null,
            "padding": null,
            "right": null,
            "top": null,
            "visibility": null,
            "width": null
          }
        },
        "ebb603edb75346489d0107c435a45108": {
          "model_module": "@jupyter-widgets/base",
          "model_name": "LayoutModel",
          "model_module_version": "1.2.0",
          "state": {
            "_model_module": "@jupyter-widgets/base",
            "_model_module_version": "1.2.0",
            "_model_name": "LayoutModel",
            "_view_count": null,
            "_view_module": "@jupyter-widgets/base",
            "_view_module_version": "1.2.0",
            "_view_name": "LayoutView",
            "align_content": null,
            "align_items": null,
            "align_self": null,
            "border": null,
            "bottom": null,
            "display": null,
            "flex": null,
            "flex_flow": null,
            "grid_area": null,
            "grid_auto_columns": null,
            "grid_auto_flow": null,
            "grid_auto_rows": null,
            "grid_column": null,
            "grid_gap": null,
            "grid_row": null,
            "grid_template_areas": null,
            "grid_template_columns": null,
            "grid_template_rows": null,
            "height": null,
            "justify_content": null,
            "justify_items": null,
            "left": null,
            "margin": null,
            "max_height": null,
            "max_width": null,
            "min_height": null,
            "min_width": null,
            "object_fit": null,
            "object_position": null,
            "order": null,
            "overflow": null,
            "overflow_x": null,
            "overflow_y": null,
            "padding": null,
            "right": null,
            "top": null,
            "visibility": null,
            "width": null
          }
        },
        "961f7a7266ec4bf09d3eb149d14f0ca1": {
          "model_module": "@jupyter-widgets/controls",
          "model_name": "DescriptionStyleModel",
          "model_module_version": "1.5.0",
          "state": {
            "_model_module": "@jupyter-widgets/controls",
            "_model_module_version": "1.5.0",
            "_model_name": "DescriptionStyleModel",
            "_view_count": null,
            "_view_module": "@jupyter-widgets/base",
            "_view_module_version": "1.2.0",
            "_view_name": "StyleView",
            "description_width": ""
          }
        },
        "09ab369b6f054130864d1a5f7f7624a5": {
          "model_module": "@jupyter-widgets/base",
          "model_name": "LayoutModel",
          "model_module_version": "1.2.0",
          "state": {
            "_model_module": "@jupyter-widgets/base",
            "_model_module_version": "1.2.0",
            "_model_name": "LayoutModel",
            "_view_count": null,
            "_view_module": "@jupyter-widgets/base",
            "_view_module_version": "1.2.0",
            "_view_name": "LayoutView",
            "align_content": null,
            "align_items": null,
            "align_self": null,
            "border": null,
            "bottom": null,
            "display": null,
            "flex": null,
            "flex_flow": null,
            "grid_area": null,
            "grid_auto_columns": null,
            "grid_auto_flow": null,
            "grid_auto_rows": null,
            "grid_column": null,
            "grid_gap": null,
            "grid_row": null,
            "grid_template_areas": null,
            "grid_template_columns": null,
            "grid_template_rows": null,
            "height": null,
            "justify_content": null,
            "justify_items": null,
            "left": null,
            "margin": null,
            "max_height": null,
            "max_width": null,
            "min_height": null,
            "min_width": null,
            "object_fit": null,
            "object_position": null,
            "order": null,
            "overflow": null,
            "overflow_x": null,
            "overflow_y": null,
            "padding": null,
            "right": null,
            "top": null,
            "visibility": null,
            "width": null
          }
        },
        "a23c9a98823d40b894a86cc94f26ff28": {
          "model_module": "@jupyter-widgets/controls",
          "model_name": "ProgressStyleModel",
          "model_module_version": "1.5.0",
          "state": {
            "_model_module": "@jupyter-widgets/controls",
            "_model_module_version": "1.5.0",
            "_model_name": "ProgressStyleModel",
            "_view_count": null,
            "_view_module": "@jupyter-widgets/base",
            "_view_module_version": "1.2.0",
            "_view_name": "StyleView",
            "bar_color": null,
            "description_width": ""
          }
        },
        "80a7a4217f3244158744ebf2810203a7": {
          "model_module": "@jupyter-widgets/base",
          "model_name": "LayoutModel",
          "model_module_version": "1.2.0",
          "state": {
            "_model_module": "@jupyter-widgets/base",
            "_model_module_version": "1.2.0",
            "_model_name": "LayoutModel",
            "_view_count": null,
            "_view_module": "@jupyter-widgets/base",
            "_view_module_version": "1.2.0",
            "_view_name": "LayoutView",
            "align_content": null,
            "align_items": null,
            "align_self": null,
            "border": null,
            "bottom": null,
            "display": null,
            "flex": null,
            "flex_flow": null,
            "grid_area": null,
            "grid_auto_columns": null,
            "grid_auto_flow": null,
            "grid_auto_rows": null,
            "grid_column": null,
            "grid_gap": null,
            "grid_row": null,
            "grid_template_areas": null,
            "grid_template_columns": null,
            "grid_template_rows": null,
            "height": null,
            "justify_content": null,
            "justify_items": null,
            "left": null,
            "margin": null,
            "max_height": null,
            "max_width": null,
            "min_height": null,
            "min_width": null,
            "object_fit": null,
            "object_position": null,
            "order": null,
            "overflow": null,
            "overflow_x": null,
            "overflow_y": null,
            "padding": null,
            "right": null,
            "top": null,
            "visibility": null,
            "width": null
          }
        },
        "1a9be4cd067a4891ad620a2acfedc612": {
          "model_module": "@jupyter-widgets/controls",
          "model_name": "DescriptionStyleModel",
          "model_module_version": "1.5.0",
          "state": {
            "_model_module": "@jupyter-widgets/controls",
            "_model_module_version": "1.5.0",
            "_model_name": "DescriptionStyleModel",
            "_view_count": null,
            "_view_module": "@jupyter-widgets/base",
            "_view_module_version": "1.2.0",
            "_view_name": "StyleView",
            "description_width": ""
          }
        }
      }
    }
  },
  "cells": [
    {
      "cell_type": "markdown",
      "metadata": {
        "id": "Q5f1kcwr6V6g"
      },
      "source": [
        "# **Question Answering❓**\n",
        "with fine-tuned BERT on SQuAD 2.0.  \n",
        "\n",
        "Question answering comes in many forms. We’ll look at the particular type of extractive QA that involves answering a question about a passage by highlighting the segment of the passage that answers the question. This involves fine-tuning a model which predicts a start position and an end position in the passage. More specifically, we will fine tune the [bert-base-uncased](https://huggingface.co/bert-base-uncased) model on the [SQuAD 2.0](https://rajpurkar.github.io/SQuAD-explorer/) dataset.\n",
        "\n",
        "I have followed [this tutorial](https://huggingface.co/transformers/v3.2.0/custom_datasets.html#question-answering-with-squad-2-0) from the huggingface community for how to fine tune BERT on custom datasets which in our case is the SQuAD 2.0."
      ]
    },
    {
      "cell_type": "markdown",
      "metadata": {
        "id": "a082DBXQ62fG"
      },
      "source": [
        "**Some first imports**"
      ]
    },
    {
      "cell_type": "code",
      "metadata": {
        "id": "0KQI4beK724N",
        "colab": {
          "base_uri": "https://localhost:8080/"
        },
        "outputId": "af5c0eea-9e11-4267-81ee-af57f78b2516"
      },
      "source": [
        "import requests\n",
        "import json\n",
        "import torch\n",
        "import os\n",
        "from tqdm import tqdm\n",
        "import random\n",
        "\n",
        "from google.colab import drive\n",
        "drive.mount('/content/drive')"
      ],
      "execution_count": null,
      "outputs": [
        {
          "output_type": "stream",
          "name": "stdout",
          "text": [
            "Mounted at /content/drive\n"
          ]
        }
      ]
    },
    {
      "cell_type": "code",
      "metadata": {
        "id": "DE9Wlhn0Dmww",
        "colab": {
          "base_uri": "https://localhost:8080/"
        },
        "outputId": "ee974061-a6f5-452c-a724-80df8210b0f4"
      },
      "source": [
        "!pip install transformers"
      ],
      "execution_count": null,
      "outputs": [
        {
          "output_type": "stream",
          "name": "stdout",
          "text": [
            "Looking in indexes: https://pypi.org/simple, https://us-python.pkg.dev/colab-wheels/public/simple/\n",
            "Collecting transformers\n",
            "  Downloading transformers-4.27.1-py3-none-any.whl (6.7 MB)\n",
            "\u001b[2K     \u001b[90m━━━━━━━━━━━━━━━━━━━━━━━━━━━━━━━━━━━━━━━━\u001b[0m \u001b[32m6.7/6.7 MB\u001b[0m \u001b[31m100.5 MB/s\u001b[0m eta \u001b[36m0:00:00\u001b[0m\n",
            "\u001b[?25hRequirement already satisfied: requests in /usr/local/lib/python3.9/dist-packages (from transformers) (2.25.1)\n",
            "Requirement already satisfied: packaging>=20.0 in /usr/local/lib/python3.9/dist-packages (from transformers) (23.0)\n",
            "Requirement already satisfied: regex!=2019.12.17 in /usr/local/lib/python3.9/dist-packages (from transformers) (2022.6.2)\n",
            "Collecting tokenizers!=0.11.3,<0.14,>=0.11.1\n",
            "  Downloading tokenizers-0.13.2-cp39-cp39-manylinux_2_17_x86_64.manylinux2014_x86_64.whl (7.6 MB)\n",
            "\u001b[2K     \u001b[90m━━━━━━━━━━━━━━━━━━━━━━━━━━━━━━━━━━━━━━━━\u001b[0m \u001b[32m7.6/7.6 MB\u001b[0m \u001b[31m96.8 MB/s\u001b[0m eta \u001b[36m0:00:00\u001b[0m\n",
            "\u001b[?25hRequirement already satisfied: tqdm>=4.27 in /usr/local/lib/python3.9/dist-packages (from transformers) (4.65.0)\n",
            "Requirement already satisfied: filelock in /usr/local/lib/python3.9/dist-packages (from transformers) (3.9.0)\n",
            "Requirement already satisfied: numpy>=1.17 in /usr/local/lib/python3.9/dist-packages (from transformers) (1.22.4)\n",
            "Requirement already satisfied: pyyaml>=5.1 in /usr/local/lib/python3.9/dist-packages (from transformers) (6.0)\n",
            "Collecting huggingface-hub<1.0,>=0.11.0\n",
            "  Downloading huggingface_hub-0.13.2-py3-none-any.whl (199 kB)\n",
            "\u001b[2K     \u001b[90m━━━━━━━━━━━━━━━━━━━━━━━━━━━━━━━━━━━━━━\u001b[0m \u001b[32m199.2/199.2 KB\u001b[0m \u001b[31m24.5 MB/s\u001b[0m eta \u001b[36m0:00:00\u001b[0m\n",
            "\u001b[?25hRequirement already satisfied: typing-extensions>=3.7.4.3 in /usr/local/lib/python3.9/dist-packages (from huggingface-hub<1.0,>=0.11.0->transformers) (4.5.0)\n",
            "Requirement already satisfied: idna<3,>=2.5 in /usr/local/lib/python3.9/dist-packages (from requests->transformers) (2.10)\n",
            "Requirement already satisfied: chardet<5,>=3.0.2 in /usr/local/lib/python3.9/dist-packages (from requests->transformers) (4.0.0)\n",
            "Requirement already satisfied: certifi>=2017.4.17 in /usr/local/lib/python3.9/dist-packages (from requests->transformers) (2022.12.7)\n",
            "Requirement already satisfied: urllib3<1.27,>=1.21.1 in /usr/local/lib/python3.9/dist-packages (from requests->transformers) (1.26.15)\n",
            "Installing collected packages: tokenizers, huggingface-hub, transformers\n",
            "Successfully installed huggingface-hub-0.13.2 tokenizers-0.13.2 transformers-4.27.1\n"
          ]
        }
      ]
    },
    {
      "cell_type": "markdown",
      "metadata": {
        "id": "2mQrxq_g8GKv"
      },
      "source": [
        "### **Download SQuAD 2.0 ⬇️**\n",
        "\n",
        "SQuAD consists of two json files.\n",
        "\n",
        "* train dataset \n",
        "* validation dataset"
      ]
    },
    {
      "cell_type": "code",
      "metadata": {
        "colab": {
          "base_uri": "https://localhost:8080/"
        },
        "id": "WRY07swS9DPH",
        "outputId": "ee777879-3ca2-415d-b8e5-873f70102894"
      },
      "source": [
        "!wget -nc https://rajpurkar.github.io/SQuAD-explorer/dataset/train-v2.0.json\n",
        "!wget -nc https://rajpurkar.github.io/SQuAD-explorer/dataset/dev-v2.0.json"
      ],
      "execution_count": null,
      "outputs": [
        {
          "output_type": "stream",
          "name": "stdout",
          "text": [
            "--2023-03-16 01:03:05--  https://rajpurkar.github.io/SQuAD-explorer/dataset/train-v2.0.json\n",
            "Resolving rajpurkar.github.io (rajpurkar.github.io)... 185.199.108.153, 185.199.109.153, 185.199.110.153, ...\n",
            "Connecting to rajpurkar.github.io (rajpurkar.github.io)|185.199.108.153|:443... connected.\n",
            "HTTP request sent, awaiting response... 200 OK\n",
            "Length: 42123633 (40M) [application/json]\n",
            "Saving to: ‘train-v2.0.json’\n",
            "\n",
            "train-v2.0.json     100%[===================>]  40.17M  --.-KB/s    in 0.08s   \n",
            "\n",
            "2023-03-16 01:03:05 (497 MB/s) - ‘train-v2.0.json’ saved [42123633/42123633]\n",
            "\n",
            "--2023-03-16 01:03:05--  https://rajpurkar.github.io/SQuAD-explorer/dataset/dev-v2.0.json\n",
            "Resolving rajpurkar.github.io (rajpurkar.github.io)... 185.199.108.153, 185.199.109.153, 185.199.110.153, ...\n",
            "Connecting to rajpurkar.github.io (rajpurkar.github.io)|185.199.108.153|:443... connected.\n",
            "HTTP request sent, awaiting response... 200 OK\n",
            "Length: 4370528 (4.2M) [application/json]\n",
            "Saving to: ‘dev-v2.0.json’\n",
            "\n",
            "dev-v2.0.json       100%[===================>]   4.17M  --.-KB/s    in 0.01s   \n",
            "\n",
            "2023-03-16 01:03:05 (304 MB/s) - ‘dev-v2.0.json’ saved [4370528/4370528]\n",
            "\n"
          ]
        }
      ]
    },
    {
      "cell_type": "markdown",
      "metadata": {
        "id": "L6EgciGr1xSg"
      },
      "source": [
        "## **Data preprocessing 💽**\n",
        "\n",
        "In short, we have to do the following:\n",
        "\n",
        "1. Extract the data from the jsons files\n",
        "2. Tokenize the data\n",
        "3. Define the datasets"
      ]
    },
    {
      "cell_type": "markdown",
      "metadata": {
        "id": "_WE2gdsy7SMk"
      },
      "source": [
        "### **Get data 📁** \n",
        "\n",
        "After we got a taste of the jsons files data format let's extract our data and store them into some data structures."
      ]
    },
    {
      "cell_type": "code",
      "metadata": {
        "id": "F5wGx6bJ-BJC"
      },
      "source": [
        "def read_data(path):  \n",
        "  # load the json file\n",
        "  with open(path, 'rb') as f:\n",
        "    squad = json.load(f)\n",
        "\n",
        "  contexts = []\n",
        "  questions = []\n",
        "  answers = []\n",
        "\n",
        "  for group in squad['data']:\n",
        "    for passage in group['paragraphs']:\n",
        "      context = passage['context']\n",
        "      for qa in passage['qas']:\n",
        "        question = qa['question']\n",
        "        for answer in qa['answers']:\n",
        "          contexts.append(context)\n",
        "          questions.append(question)\n",
        "          answers.append(answer)\n",
        "\n",
        "  return contexts, questions, answers\n",
        "\n",
        "random.seed(42)\n",
        "def split_dataset(contexts, questions, answers):\n",
        "  num_elements = int(len(contexts) * 0.1)\n",
        "  sample_indices = random.sample(range(len(contexts)), num_elements)\n",
        "\n",
        "  contexts_sample = [contexts[i] for i in sample_indices]\n",
        "  questions_sample = [questions[i] for i in sample_indices]\n",
        "  answers_sample = [answers[i] for i in sample_indices]\n",
        "  \n",
        "  return contexts_sample, questions_sample, answers_sample\n",
        "\n",
        "def get_prediction(context, question):\n",
        "  inputs = tokenizer.encode_plus(question, context, return_tensors='pt').to(device)\n",
        "  outputs = model(**inputs)\n",
        "  \n",
        "  answer_start = torch.argmax(outputs[0])  \n",
        "  answer_end = torch.argmax(outputs[1]) + 1 \n",
        "  \n",
        "  answer = tokenizer.convert_tokens_to_string(tokenizer.convert_ids_to_tokens(inputs['input_ids'][0][answer_start:answer_end]))\n",
        "  \n",
        "  return answer\n",
        "\n",
        "def normalize_text(s):\n",
        "  \"\"\"Removing articles and punctuation, and standardizing whitespace are all typical text processing steps.\"\"\"\n",
        "  import string, re\n",
        "  def remove_articles(text):\n",
        "    regex = re.compile(r\"\\b(a|an|the)\\b\", re.UNICODE)\n",
        "    return re.sub(regex, \" \", text)\n",
        "  def white_space_fix(text):\n",
        "    return \" \".join(text.split())\n",
        "  def remove_punc(text):\n",
        "    exclude = set(string.punctuation)\n",
        "    return \"\".join(ch for ch in text if ch not in exclude)\n",
        "  def lower(text):\n",
        "    return text.lower()\n",
        "\n",
        "  return white_space_fix(remove_articles(remove_punc(lower(s))))\n",
        "\n",
        "def exact_match(prediction, truth):\n",
        "    return bool(normalize_text(prediction) == normalize_text(truth))\n",
        "\n",
        "def compute_f1(prediction, truth):\n",
        "  pred_tokens = normalize_text(prediction).split()\n",
        "  truth_tokens = normalize_text(truth).split()\n",
        "  \n",
        "  # if either the prediction or the truth is no-answer then f1 = 1 if they agree, 0 otherwise\n",
        "  if len(pred_tokens) == 0 or len(truth_tokens) == 0:\n",
        "    return int(pred_tokens == truth_tokens)\n",
        "  \n",
        "  common_tokens = set(pred_tokens) & set(truth_tokens)\n",
        "  \n",
        "  # if there are no common tokens then f1 = 0\n",
        "  if len(common_tokens) == 0:\n",
        "    return 0\n",
        "  \n",
        "  prec = len(common_tokens) / len(pred_tokens)\n",
        "  rec = len(common_tokens) / len(truth_tokens)\n",
        "  F1 = round(2 * (prec * rec) / (prec + rec), 2)\n",
        "  # print(prec, rec, F1)\n",
        "  return F1\n",
        "  \n",
        "def question_answer(context, question, answer):\n",
        "  prediction = get_prediction(context,question)\n",
        "  em_score = exact_match(prediction, answer)\n",
        "  f1_score = compute_f1(prediction, answer)\n",
        "\n",
        "  print(f'Question: {question}')\n",
        "  print(f'Prediction: {prediction}')\n",
        "  print(f'True Answer: {answer}')\n",
        "  print(f'Exact match: {em_score}')\n",
        "  print(f'F1 score: {f1_score}\\n')\n",
        "\n",
        "import numpy as np\n",
        "def LEEP(pseudo_source_label: np.ndarray, target_label: np.ndarray):\n",
        "    \"\"\"\n",
        "    :param pseudo_source_label: shape [N, C_s]\n",
        "    :param target_label: shape [N], elements in [0, C_t)\n",
        "    :return: leep score\n",
        "    \"\"\"\n",
        "    N, C_s = pseudo_source_label.shape\n",
        "    target_label = target_label.reshape(-1)\n",
        "    C_t = int(np.max(target_label) + 1)   # the number of target classes\n",
        "    normalized_prob = pseudo_source_label / float(N)  # sum(normalized_prob) = 1\n",
        "    joint = np.zeros((C_t, C_s), dtype=float)  # placeholder for joint distribution over (y, z)\n",
        "    for i in range(C_t):\n",
        "        this_class = normalized_prob[target_label == i]\n",
        "        row = np.sum(this_class, axis=0)\n",
        "        joint[i] = row\n",
        "    p_target_given_source = (joint / joint.sum(axis=0, keepdims=True)).T  # P(y | z)\n",
        "\n",
        "    empirical_prediction = pseudo_source_label @ p_target_given_source\n",
        "    empirical_prob = np.array([predict[label] for predict, label in zip(empirical_prediction, target_label)])\n",
        "    leep_score = np.mean(np.log(empirical_prob))\n",
        "    return leep_score"
      ],
      "execution_count": null,
      "outputs": []
    },
    {
      "cell_type": "markdown",
      "metadata": {
        "id": "UeKCd5W4SEKY"
      },
      "source": [
        "Put the contexts, questions and answers for training and validation into the appropriate lists."
      ]
    },
    {
      "cell_type": "code",
      "metadata": {
        "id": "An5wY1MNEwrt",
        "colab": {
          "base_uri": "https://localhost:8080/"
        },
        "outputId": "99b30ea0-5676-4c3c-c98d-78e586b28fda"
      },
      "source": [
        "train_contextl, train_questionl, train_answerl = read_data('train-v2.0.json')\n",
        "train_contexts, train_questions, train_answers = split_dataset(train_contextl, train_questionl, train_answerl)\n",
        "valid_contexts, valid_questions, valid_answers = read_data('dev-v2.0.json')\n",
        "print(len(train_contexts), len(valid_contexts))"
      ],
      "execution_count": null,
      "outputs": [
        {
          "output_type": "stream",
          "name": "stdout",
          "text": [
            "8682 20302\n"
          ]
        }
      ]
    },
    {
      "cell_type": "markdown",
      "metadata": {
        "id": "J2AHo87fDYHy"
      },
      "source": [
        "As you can see above, the answers are dictionaries whith the answer text and an integer which indicates the start index of the answer in the context. As the SQuAD does not give us the end index of the answer in the context we have to find it ourselves. So, let's get the character position at which the answer ends in the passage. Note that sometimes SQuAD answers are off by one or two characters, so we will also adjust for that."
      ]
    },
    {
      "cell_type": "code",
      "metadata": {
        "id": "b9kiFd7LF6xa",
        "colab": {
          "base_uri": "https://localhost:8080/"
        },
        "outputId": "3da661eb-b257-47ae-dac8-e18d5e30df03"
      },
      "source": [
        "def add_end_idx(answers, contexts):\n",
        "  for answer, context in zip(answers, contexts):\n",
        "    gold_text = answer['text']\n",
        "    start_idx = answer['answer_start']\n",
        "    end_idx = start_idx + len(gold_text)\n",
        "\n",
        "    # sometimes squad answers are off by a character or two so we fix this\n",
        "    if context[start_idx:end_idx] == gold_text:\n",
        "      answer['answer_end'] = end_idx\n",
        "    elif context[start_idx-1:end_idx-1] == gold_text:\n",
        "      answer['answer_start'] = start_idx - 1\n",
        "      answer['answer_end'] = end_idx - 1     # When the gold label is off by one character\n",
        "    elif context[start_idx-2:end_idx-2] == gold_text:\n",
        "      answer['answer_start'] = start_idx - 2\n",
        "      answer['answer_end'] = end_idx - 2     # When the gold label is off by two characters\n",
        "\n",
        "add_end_idx(train_answers, train_contexts)\n",
        "add_end_idx(valid_answers, valid_contexts)\n",
        "# You can see that now we get the answer_end also\n",
        "print(train_questions[-1000])\n",
        "print(train_answers[-1000])"
      ],
      "execution_count": null,
      "outputs": [
        {
          "output_type": "stream",
          "name": "stdout",
          "text": [
            "The often unclear division between a self-executing treaty and a non-self-executing treaty can lead to a treaty being what if disagreements exist within a party?\n",
            "{'text': 'politicized', 'answer_start': 61, 'answer_end': 72}\n"
          ]
        }
      ]
    },
    {
      "cell_type": "markdown",
      "metadata": {
        "id": "hsVHwdOaHWis"
      },
      "source": [
        "### **Tokenization 🔢**\n",
        "\n",
        "As we know we have to tokenize our data in form that is acceptable for the BERT model. We are going to use the `BertTokenizerFast` instead of `BertTokenizer` as the first one is much faster. Since we are going to train our model in batches we need to set `padding=True`."
      ]
    },
    {
      "cell_type": "code",
      "source": [
        "from transformers import AutoTokenizer, AutoModelForQuestionAnswering\n",
        "model_name = \"bert-base-cased\"\n",
        "\n",
        "# load the tokenizer and model\n",
        "# tokenizer = AutoTokenizer.from_pretrained(model_name)\n",
        "model = AutoModelForQuestionAnswering.from_pretrained(model_name)\n",
        "\n",
        "# Load a pre-trained checkpoint\n",
        "checkpoint_path = '/content/drive/MyDrive/BERT-SQuAD/Model_weights_HW1/NLI/checkpoint-61360'\n",
        "cp_number = checkpoint_path\n",
        "# Load the checkpoint into the model\n",
        "pre_trained_weight = torch.load(os.path.join(checkpoint_path, \"pytorch_model.bin\"))\n",
        "\n",
        "weight = pre_trained_weight.pop('bert.pooler.dense.weight')\n",
        "bias = pre_trained_weight.pop('bert.pooler.dense.bias')\n",
        "\n",
        "cweight = pre_trained_weight.pop('classifier.weight')\n",
        "cbias = pre_trained_weight.pop('classifier.bias')\n",
        "\n",
        "\n",
        "pre_trained_weight['qa_outputs.weight'] = cweight[:2]\n",
        "pre_trained_weight['qa_outputs.bias'] = cbias[:2]\n",
        "\n",
        "model.load_state_dict(pre_trained_weight)\n",
        "weighted_model = model.load_state_dict(pre_trained_weight)\n",
        "\n",
        "tokenizer = AutoTokenizer.from_pretrained(model_name)\n",
        "\n",
        "train_encodings = tokenizer(train_contexts, train_questions, truncation=True, padding=True, max_length=384)\n",
        "valid_encodings = tokenizer(valid_contexts, valid_questions, truncation=True, padding=True, max_length=384)"
      ],
      "metadata": {
        "colab": {
          "base_uri": "https://localhost:8080/",
          "height": 284,
          "referenced_widgets": [
            "8f9d1808db19420189c2146bfd36a463",
            "df2019d07be448d0b37401b76ecc6c41",
            "c5acf83bccd448f09cfcf03900de894b",
            "d26ec2ce3a9044228698c61bccee69c6",
            "db05f1ecb2574a80b3739ed4a2c5d092",
            "5ed4d46206324052acea50cd528dd4f9",
            "41fe216a6784494aa7340b9b33c5ab37",
            "1f0750655e534029ae76c89077a912f7",
            "7488fc246b9e4cb5a6bb4ae0aad1f5bd",
            "59a9f13d5be6450faa94ca86c5b094af",
            "6847a086d2e64c5c8943ebe8b0cbee85",
            "9b71f22eb9dc4628bd53ac82933774f7",
            "5eb95a5c650a4aa6b0c4b4dfe8f9b5c1",
            "dc5c88403d0244d59b4090e5deef92c4",
            "8f6a2898b0a44cd09a13ecafc2d2fa13",
            "b66c2c2c27544feabbcdad2a08c104a4",
            "29ba8822245547cca1b6269855d79bcf",
            "eeb2a1fb6b1e462ba5b6ac12f1cf40cb",
            "3fcbc6dceee84dcda765c42500d8540d",
            "ff7c8240bae047739a29a23dfe800d8e",
            "45491d610b3044f1996302849f1d84b4",
            "a4b87c0afaf74483818662d142a14e0f",
            "50e01ecf7d344d5db08d307e944cb9a8",
            "38cbb9f6140a4787b3765bd00fdc2bdb",
            "840ebec5284e419db70ffab67fdc473c",
            "8d87bc6d7e62467fa88a87eb249592e6",
            "8ecf8a6fd42b421898b5fc580e098f78",
            "04f4538c25e44be6876b8bbb3404ca00",
            "9fbf70bb15574330a5fac02e4d809028",
            "03903ade16314372826aee2e08025361",
            "9df3706ec3e247da984274a7c11d11c6",
            "18ca94b8102246d6b19f2c71d522e955",
            "a83ff2165df9496199d67bf9ffc1879c",
            "b8a57732e30a40fc9303b71c64961cc9",
            "ef9a0c94dbc748d6877f5644919b810b",
            "2d4aab56f4cf429d983b84301d7888ee",
            "cb64ada7c127476897c58c8c908c7c2a",
            "7d1fc61d877044fd9d871c7f368ae090",
            "c5a00daa492c43018143e6239eeccf87",
            "a88268a365e346b485438b23ffd7c764",
            "47fbb5e7e74b4f5d9d39f6947ae0c07a",
            "c75f7106076344df83891ef6c997521f",
            "03554d4e85c9454eb060ff72a39b9aa0",
            "13b4aa8f791443c6bbbff9128ad2563b",
            "ae4fdcffcb3c4acabebacef8a4952c5e",
            "0a9e8b2404b64ed4b8cb832a0f909dab",
            "af0fd334ce8c45929bf56e3d36323c58",
            "86fc73556ad9485a8db19fc9e9be0117",
            "ab1b0d0d8f474b4fb43d6e78e2f351e8",
            "ebb603edb75346489d0107c435a45108",
            "961f7a7266ec4bf09d3eb149d14f0ca1",
            "09ab369b6f054130864d1a5f7f7624a5",
            "a23c9a98823d40b894a86cc94f26ff28",
            "80a7a4217f3244158744ebf2810203a7",
            "1a9be4cd067a4891ad620a2acfedc612"
          ]
        },
        "id": "QM1xi8PjuJ8c",
        "outputId": "1a6edc41-56b0-4de8-b2f4-f45d348a06be"
      },
      "execution_count": null,
      "outputs": [
        {
          "output_type": "display_data",
          "data": {
            "text/plain": [
              "Downloading (…)lve/main/config.json:   0%|          | 0.00/570 [00:00<?, ?B/s]"
            ],
            "application/vnd.jupyter.widget-view+json": {
              "version_major": 2,
              "version_minor": 0,
              "model_id": "8f9d1808db19420189c2146bfd36a463"
            }
          },
          "metadata": {}
        },
        {
          "output_type": "display_data",
          "data": {
            "text/plain": [
              "Downloading pytorch_model.bin:   0%|          | 0.00/436M [00:00<?, ?B/s]"
            ],
            "application/vnd.jupyter.widget-view+json": {
              "version_major": 2,
              "version_minor": 0,
              "model_id": "9b71f22eb9dc4628bd53ac82933774f7"
            }
          },
          "metadata": {}
        },
        {
          "output_type": "stream",
          "name": "stderr",
          "text": [
            "Some weights of the model checkpoint at bert-base-cased were not used when initializing BertForQuestionAnswering: ['cls.predictions.decoder.weight', 'cls.predictions.transform.LayerNorm.bias', 'cls.seq_relationship.bias', 'cls.seq_relationship.weight', 'cls.predictions.transform.dense.bias', 'cls.predictions.transform.LayerNorm.weight', 'cls.predictions.bias', 'cls.predictions.transform.dense.weight']\n",
            "- This IS expected if you are initializing BertForQuestionAnswering from the checkpoint of a model trained on another task or with another architecture (e.g. initializing a BertForSequenceClassification model from a BertForPreTraining model).\n",
            "- This IS NOT expected if you are initializing BertForQuestionAnswering from the checkpoint of a model that you expect to be exactly identical (initializing a BertForSequenceClassification model from a BertForSequenceClassification model).\n",
            "Some weights of BertForQuestionAnswering were not initialized from the model checkpoint at bert-base-cased and are newly initialized: ['qa_outputs.bias', 'qa_outputs.weight']\n",
            "You should probably TRAIN this model on a down-stream task to be able to use it for predictions and inference.\n"
          ]
        },
        {
          "output_type": "display_data",
          "data": {
            "text/plain": [
              "Downloading (…)okenizer_config.json:   0%|          | 0.00/29.0 [00:00<?, ?B/s]"
            ],
            "application/vnd.jupyter.widget-view+json": {
              "version_major": 2,
              "version_minor": 0,
              "model_id": "50e01ecf7d344d5db08d307e944cb9a8"
            }
          },
          "metadata": {}
        },
        {
          "output_type": "display_data",
          "data": {
            "text/plain": [
              "Downloading (…)solve/main/vocab.txt:   0%|          | 0.00/213k [00:00<?, ?B/s]"
            ],
            "application/vnd.jupyter.widget-view+json": {
              "version_major": 2,
              "version_minor": 0,
              "model_id": "b8a57732e30a40fc9303b71c64961cc9"
            }
          },
          "metadata": {}
        },
        {
          "output_type": "display_data",
          "data": {
            "text/plain": [
              "Downloading (…)/main/tokenizer.json:   0%|          | 0.00/436k [00:00<?, ?B/s]"
            ],
            "application/vnd.jupyter.widget-view+json": {
              "version_major": 2,
              "version_minor": 0,
              "model_id": "ae4fdcffcb3c4acabebacef8a4952c5e"
            }
          },
          "metadata": {}
        }
      ]
    },
    {
      "cell_type": "code",
      "metadata": {
        "id": "r7uXDM0mMfOo"
      },
      "source": [
        "def add_token_positions(encodings, answers):\n",
        "  start_positions = []\n",
        "  end_positions = []\n",
        "  for i in range(len(answers)):\n",
        "    start_positions.append(encodings.char_to_token(i, answers[i]['answer_start']))\n",
        "    end_positions.append(encodings.char_to_token(i, answers[i]['answer_end'] - 1))\n",
        "\n",
        "    # if start position is None, the answer passage has been truncated\n",
        "    if start_positions[-1] is None:\n",
        "      start_positions[-1] = tokenizer.model_max_length\n",
        "\n",
        "    if end_positions[-1] is None:\n",
        "      end_positions[-1] = tokenizer.model_max_length\n",
        "\n",
        "  encodings.update({'start_positions': start_positions, 'end_positions': end_positions})\n",
        "\n",
        "add_token_positions(train_encodings, train_answers)\n",
        "add_token_positions(valid_encodings, valid_answers)\n",
        "\n",
        "class SQuAD_Dataset(torch.utils.data.Dataset):\n",
        "  def __init__(self, encodings):\n",
        "    self.encodings = encodings\n",
        "  def __getitem__(self, idx):\n",
        "    return {key: torch.tensor(val[idx]) for key, val in self.encodings.items()}\n",
        "  def __len__(self):\n",
        "    return len(self.encodings.input_ids)\n",
        "\n",
        "train_dataset = SQuAD_Dataset(train_encodings)\n",
        "valid_dataset = SQuAD_Dataset(valid_encodings)\n",
        "\n",
        "from torch.utils.data import DataLoader\n",
        "\n",
        "batch_size = 32\n",
        "\n",
        "# Define the dataloaders\n",
        "train_loader = DataLoader(train_dataset, batch_size=batch_size, shuffle=True)\n",
        "valid_loader = DataLoader(valid_dataset, batch_size=batch_size, shuffle=True)"
      ],
      "execution_count": null,
      "outputs": []
    },
    {
      "cell_type": "markdown",
      "metadata": {
        "id": "TkkgktrwPYhy"
      },
      "source": [
        "## **Fine-Tuning ⚙️**"
      ]
    },
    {
      "cell_type": "markdown",
      "metadata": {
        "id": "JBKY-irY25_F"
      },
      "source": [
        "### **Training 🏋️‍♂️**\n",
        "\n",
        "Μy choices for some parameters:\n",
        "\n",
        "* Use of `AdamW` which is a stochastic optimization method that modifies the typical implementation of weight decay in Adam, by decoupling weight decay from the gradient update. This helps to avoid overfitting which is necessary in this case were the model is very complex.\n"
      ]
    },
    {
      "cell_type": "code",
      "metadata": {
        "id": "jOXHj73UEh7f",
        "colab": {
          "base_uri": "https://localhost:8080/"
        },
        "outputId": "68b3e68c-4e48-4fc9-e1c0-afb6a06bb399"
      },
      "source": [
        "from transformers import AdamW\n",
        "\n",
        "# Check on the available device - use GPU\n",
        "device = torch.device('cuda') if torch.cuda.is_available() else torch.device('cpu')\n",
        "print(f'Working on {device}')\n",
        "\n",
        "# Freeze the backbone parameters\n",
        "for param in model.bert.parameters():\n",
        "    param.requires_grad = False\n",
        "\n",
        "N_EPOCHS = 5\n",
        "print(f'checkpoint: {cp_number}, epoch: {N_EPOCHS}')\n",
        "optim = AdamW(model.parameters(), lr=2e-3)\n",
        "\n",
        "model.to(device)\n",
        "\n",
        "model.train()\n",
        "train_losses = []\n",
        "\n",
        "\n",
        "for epoch in range(N_EPOCHS):\n",
        "  loop = tqdm(train_loader, leave=True)\n",
        "  loss_of_epoch = 0\n",
        "\n",
        "  for batch in loop:\n",
        "    optim.zero_grad()\n",
        "    input_ids = batch['input_ids'].to(device)\n",
        "    attention_mask = batch['attention_mask'].to(device)\n",
        "    start_positions = batch['start_positions'].to(device)\n",
        "    end_positions = batch['end_positions'].to(device)\n",
        "    outputs = model(input_ids, attention_mask=attention_mask, start_positions=start_positions, end_positions=end_positions)\n",
        "    loss = outputs[0]\n",
        "    loss.backward()\n",
        "    optim.step()\n",
        "    loss_of_epoch += loss.item()\n",
        "    loop.set_description(f'Epoch {epoch+1}')\n",
        "    loop.set_postfix(loss=loss.item())\n",
        "\n",
        "  loss_of_epoch /= len(train_loader)\n",
        "  train_losses.append(loss_of_epoch)\n",
        "\n",
        "print(f'checkpoint: {cp_number}, epoch: {N_EPOCHS}')"
      ],
      "execution_count": null,
      "outputs": [
        {
          "output_type": "stream",
          "name": "stdout",
          "text": [
            "Working on cuda\n",
            "checkpoint: /content/drive/MyDrive/BERT-SQuAD/Model_weights_HW1/NLI/checkpoint-61360, epoch: 5\n"
          ]
        },
        {
          "output_type": "stream",
          "name": "stderr",
          "text": [
            "/usr/local/lib/python3.9/dist-packages/transformers/optimization.py:391: FutureWarning: This implementation of AdamW is deprecated and will be removed in a future version. Use the PyTorch implementation torch.optim.AdamW instead, or set `no_deprecation_warning=True` to disable this warning\n",
            "  warnings.warn(\n",
            "Epoch 1: 100%|██████████| 272/272 [00:47<00:00,  5.67it/s, loss=3.87]\n",
            "Epoch 2: 100%|██████████| 272/272 [00:45<00:00,  6.03it/s, loss=4.67]\n",
            "Epoch 3: 100%|██████████| 272/272 [00:45<00:00,  6.03it/s, loss=3.78]\n",
            "Epoch 4: 100%|██████████| 272/272 [00:45<00:00,  6.04it/s, loss=4.54]\n",
            "Epoch 5: 100%|██████████| 272/272 [00:45<00:00,  6.04it/s, loss=3.87]"
          ]
        },
        {
          "output_type": "stream",
          "name": "stdout",
          "text": [
            "checkpoint: /content/drive/MyDrive/BERT-SQuAD/Model_weights_HW1/NLI/checkpoint-61360, epoch: 5\n"
          ]
        },
        {
          "output_type": "stream",
          "name": "stderr",
          "text": [
            "\n"
          ]
        }
      ]
    },
    {
      "cell_type": "markdown",
      "metadata": {
        "id": "DFY9n5hSFjfT"
      },
      "source": [
        "**Save the model in my drive in order not to run it each time**"
      ]
    },
    {
      "cell_type": "code",
      "metadata": {
        "id": "p4NXG5UGWWQ9",
        "colab": {
          "base_uri": "https://localhost:8080/"
        },
        "outputId": "723ac285-4e64-4737-f521-3c35c544543e"
      },
      "source": [
        "model_path = '/content/drive/MyDrive/BERT-SQuAD/Model_weights_HW1/NLI/MRC_61360_5epoch'\n",
        "model.save_pretrained(model_path)\n",
        "tokenizer.save_pretrained(model_path)"
      ],
      "execution_count": null,
      "outputs": [
        {
          "output_type": "execute_result",
          "data": {
            "text/plain": [
              "('/content/drive/MyDrive/BERT-SQuAD/Model_weights_HW1/NLI/MRC_61360_5epoch/tokenizer_config.json',\n",
              " '/content/drive/MyDrive/BERT-SQuAD/Model_weights_HW1/NLI/MRC_61360_5epoch/special_tokens_map.json',\n",
              " '/content/drive/MyDrive/BERT-SQuAD/Model_weights_HW1/NLI/MRC_61360_5epoch/vocab.txt',\n",
              " '/content/drive/MyDrive/BERT-SQuAD/Model_weights_HW1/NLI/MRC_61360_5epoch/added_tokens.json',\n",
              " '/content/drive/MyDrive/BERT-SQuAD/Model_weights_HW1/NLI/MRC_61360_5epoch/tokenizer.json')"
            ]
          },
          "metadata": {},
          "execution_count": 10
        }
      ]
    },
    {
      "cell_type": "markdown",
      "metadata": {
        "id": "CuFwUaF8BR3H"
      },
      "source": [
        "**Respectively, load the saved model**"
      ]
    },
    {
      "cell_type": "code",
      "metadata": {
        "id": "aslUE82N73mu",
        "colab": {
          "base_uri": "https://localhost:8080/"
        },
        "outputId": "9cef7c49-e694-4bda-ed39-5dbf19f70f1d"
      },
      "source": [
        "# from transformers import AutoTokenizer, AutoModelForQuestionAnswering\n",
        "# cp_number = 'NER2NLI/MRC_49088_2epoch'\n",
        "# model_path = '/content/drive/MyDrive/BERT-SQuAD/Model_weights_HW1/NER2NLI/MRC_49088_2epoch'\n",
        "# model = AutoModelForQuestionAnswering.from_pretrained(model_path)\n",
        "# tokenizer = AutoTokenizer.from_pretrained(model_path)\n",
        "\n",
        "# device = torch.device('cuda') if torch.cuda.is_available() else torch.device('cpu')\n",
        "# print(f'Working on {device}')\n",
        "\n",
        "# model = model.to(device)"
      ],
      "execution_count": null,
      "outputs": [
        {
          "output_type": "stream",
          "name": "stdout",
          "text": [
            "Working on cuda\n"
          ]
        }
      ]
    },
    {
      "cell_type": "markdown",
      "metadata": {
        "id": "vIuUtJhBFo5l"
      },
      "source": [
        "### **Testing ✅**\n",
        "\n",
        "We are evaluating the model on the validation set by checking the model's predictions for the answer's start and end indexes and comparing with the true ones."
      ]
    },
    {
      "cell_type": "code",
      "source": [
        "model.eval()\n",
        "\n",
        "valid_predictions = []\n",
        "val_answers = []\n",
        "acc = []\n",
        "start_prob_list = []\n",
        "end_prob_list = []\n",
        "\n",
        "\n",
        "for i in tqdm(range(len(valid_contexts))):\n",
        "# for i in tqdm(range(3000)):   \n",
        "    encoded_dict = tokenizer.encode_plus(valid_questions[i], valid_contexts[i], return_tensors='pt', max_length=384, truncation=True)\n",
        "    input_ids = encoded_dict['input_ids'].to(device)\n",
        "    token_type_ids = encoded_dict['token_type_ids'].to(device)\n",
        "    attention_mask = encoded_dict['attention_mask'].to(device)\n",
        "    start_true = batch['start_positions'].to(device)\n",
        "    end_true = batch['end_positions'].to(device)\n",
        "\n",
        "    with torch.no_grad():\n",
        "        outputs = model(input_ids, attention_mask=attention_mask, token_type_ids=token_type_ids)\n",
        "        start_logits, end_logits = outputs.start_logits, outputs.end_logits\n",
        "\n",
        "    start_logits_padded = torch.nn.functional.pad(start_logits, (0, 384-start_logits.shape[1]), 'constant', value=0)\n",
        "    end_logits_padded = torch.nn.functional.pad(end_logits, (0, 384-end_logits.shape[1]), 'constant', value=0)\n",
        "\n",
        "    start_prob_list.append(start_logits_padded)\n",
        "    end_prob_list.append(end_logits_padded)\n",
        "        \n",
        "    start_index = torch.argmax(start_logits, dim=1)[0]\n",
        "    end_index = torch.argmax(end_logits, dim=1)[0]\n",
        "\n",
        "    start_pred = torch.argmax(outputs['start_logits'], dim=1)\n",
        "    end_pred = torch.argmax(outputs['end_logits'], dim=1)\n",
        "    acc.append(((start_pred == start_true).sum()/len(start_pred)).item())\n",
        "    acc.append(((end_pred == end_true).sum()/len(end_pred)).item())\n",
        "    valid_predictions.append(tokenizer.convert_tokens_to_string(tokenizer.convert_ids_to_tokens(encoded_dict['input_ids'][0][start_index:end_index+1])))\n",
        "    val_answers.append(valid_answers[i]['text'])\n",
        "\n",
        "start_logits = torch.cat(start_prob_list, dim=0)\n",
        "end_logits = torch.cat(end_prob_list, dim=0)\n",
        "print(start_logits.shape, end_logits.shape)\n",
        "\n",
        "accuracy = sum(acc)/len(acc)\n",
        "print(\"Validation Accuracy is {}\".format(accuracy))"
      ],
      "metadata": {
        "id": "GIU46_teig2E",
        "colab": {
          "base_uri": "https://localhost:8080/"
        },
        "outputId": "89bb4871-a177-4da7-a147-8ef34fc7b8c0"
      },
      "execution_count": null,
      "outputs": [
        {
          "output_type": "stream",
          "name": "stderr",
          "text": [
            "100%|██████████| 20302/20302 [04:09<00:00, 81.34it/s]"
          ]
        },
        {
          "output_type": "stream",
          "name": "stdout",
          "text": [
            "torch.Size([20302, 384]) torch.Size([20302, 384])\n",
            "Validation Accuracy is 0.06075756083144518\n"
          ]
        },
        {
          "output_type": "stream",
          "name": "stderr",
          "text": [
            "\n"
          ]
        }
      ]
    },
    {
      "cell_type": "code",
      "source": [
        "EM = []\n",
        "F1 = []\n",
        "Prec = []\n",
        "Rec = []\n",
        "for pre, val in zip(valid_predictions, val_answers):\n",
        "  em_score = exact_match(pre, val)\n",
        "  f1_score = compute_f1(pre, val)\n",
        "  EM.append(em_score)\n",
        "  F1.append(f1_score)\n",
        "  # Prec.append(prec)\n",
        "  # Rec.append(rec)\n",
        "\n",
        "start_leep = LEEP(torch.softmax(torch.Tensor(start_logits.cpu()), dim=1).numpy(), np.array(valid_encodings['start_positions']))\n",
        "end_leep = LEEP(torch.softmax(torch.Tensor(end_logits.cpu()), dim=1).numpy(), np.array(valid_encodings['end_positions']))\n",
        "\n",
        "print(f'checkpoint: {cp_number}, epoch: {N_EPOCHS}')\n",
        "print(f'train_losses:{train_losses}')\n",
        "print(f'Validate number:      {len(EM)}')\n",
        "print(\"Validation Accuracy is {}\".format(accuracy))\n",
        "print(f'Exact match number:   {sum(EM)}')\n",
        "print(f'Exact match:  {sum(EM)/len(EM)}')\n",
        "print(f'F1 score:     {sum(F1)/len(F1)}')\n",
        "print(f'start_leep:   {start_leep}, end_leep: {end_leep}')\n",
        "print(f'average_leep: {(start_leep+end_leep)/2}')"
      ],
      "metadata": {
        "colab": {
          "base_uri": "https://localhost:8080/"
        },
        "id": "KA__tP-UBIOr",
        "outputId": "ce641a60-bc3a-4cce-e9c8-05cd0404b6f1"
      },
      "execution_count": null,
      "outputs": [
        {
          "output_type": "stream",
          "name": "stdout",
          "text": [
            "checkpoint: /content/drive/MyDrive/BERT-SQuAD/Model_weights_HW1/NLI/checkpoint-61360, epoch: 5\n",
            "train_losses:[4.29837233003448, 3.9964589003254387, 3.95673064624562, 3.9504449770731083, 3.9429063840824017]\n",
            "Validate number:      20302\n",
            "Validation Accuracy is 0.06075756083144518\n",
            "Exact match number:   500\n",
            "Exact match:  0.02462811545660526\n",
            "F1 score:     0.06699487735198256\n",
            "average_leep: -4.961575026982134\n"
          ]
        }
      ]
    },
    {
      "cell_type": "markdown",
      "metadata": {
        "id": "WoNiMv_HF2AD"
      },
      "source": [
        "### **Ask questions 🙋**\n",
        "\n",
        "We are going to use some functions from the [*official Evaluation Script v2.0*](https://worksheets.codalab.org/rest/bundles/0x6b567e1cf2e041ec80d7098f031c5c9e/contents/blob/) of SQuAD in order to test the fine-tuned model by asking some questions given a context. I have also looked at this [notebook](https://colab.research.google.com/github/fastforwardlabs/ff14_blog/blob/master/_notebooks/2020-06-09-Evaluating_BERT_on_SQuAD.ipynb#scrollTo=MzPlHgWEBQ8D) which evaluates BERT on SQuAD."
      ]
    },
    {
      "cell_type": "markdown",
      "metadata": {
        "id": "afOyVOyoLE7Y"
      },
      "source": [
        "**Beyoncé**"
      ]
    },
    {
      "cell_type": "code",
      "metadata": {
        "id": "_2bitFpuS0WY",
        "colab": {
          "base_uri": "https://localhost:8080/"
        },
        "outputId": "cdfcf266-5193-49e2-f7b2-98fda545beb1"
      },
      "source": [
        "context = \"\"\"Beyoncé Giselle Knowles-Carter (/biːˈjɒnseɪ/ bee-YON-say) (born September 4, 1981) is an American singer, \n",
        "          songwriter, record producer and actress. Born and raised in Houston, Texas, she performed in various singing \n",
        "          and dancing competitions as a child, and rose to fame in the late 1990s as lead singer of R&B girl-group Destiny\\'s Child. \n",
        "          Managed by her father, Mathew Knowles, the group became one of the world\\'s best-selling girl groups of all time. \n",
        "          Their hiatus saw the release of Beyoncé\\'s debut album, Dangerously in Love (2003), which established her as a solo artist worldwide, \n",
        "          earned five Grammy Awards and featured the Billboard Hot 100 number-one singles \"Crazy in Love\" and \"Baby Boy\".\"\"\"\n",
        "\n",
        "\n",
        "questions = [\"For whom the passage is talking about?\",\n",
        "             \"When did Beyonce born?\",\n",
        "             \"Where did Beyonce born?\",\n",
        "             \"What is Beyonce's nationality?\",\n",
        "             \"Who was the Destiny's group manager?\",\n",
        "             \"What name has the Beyoncé's debut album?\",\n",
        "             \"How many Grammy Awards did Beyonce earn?\",\n",
        "             \"When did the Beyoncé's debut album release?\",\n",
        "             \"Who was the lead singer of R&B girl-group Destiny's Child?\"]\n",
        "\n",
        "answers = [\"Beyonce Giselle Knowles - Carter\", \"September 4, 1981\", \"Houston, Texas\", \n",
        "           \"American\", \"Mathew Knowles\", \"Dangerously in Love\", \"five\", \"2003\", \n",
        "           \"Beyonce Giselle Knowles - Carter\"]\n",
        "\n",
        "for question, answer in zip(questions, answers):\n",
        "  question_answer(context, question, answer)"
      ],
      "execution_count": null,
      "outputs": [
        {
          "output_type": "stream",
          "name": "stdout",
          "text": [
            "Question: For whom the passage is talking about?\n",
            "Prediction: \n",
            "True Answer: Beyonce Giselle Knowles - Carter\n",
            "Exact match: False\n",
            "F1 score: 0\n",
            "\n",
            "Question: When did Beyonce born?\n",
            "Prediction: \n",
            "True Answer: September 4, 1981\n",
            "Exact match: False\n",
            "F1 score: 0\n",
            "\n",
            "Question: Where did Beyonce born?\n",
            "Prediction: \n",
            "True Answer: Houston, Texas\n",
            "Exact match: False\n",
            "F1 score: 0\n",
            "\n",
            "Question: What is Beyonce's nationality?\n",
            "Prediction: \n",
            "True Answer: American\n",
            "Exact match: False\n",
            "F1 score: 0\n",
            "\n",
            "Question: Who was the Destiny's group manager?\n",
            "Prediction: \n",
            "True Answer: Mathew Knowles\n",
            "Exact match: False\n",
            "F1 score: 0\n",
            "\n",
            "Question: What name has the Beyoncé's debut album?\n",
            "Prediction: \n",
            "True Answer: Dangerously in Love\n",
            "Exact match: False\n",
            "F1 score: 0\n",
            "\n",
            "Question: How many Grammy Awards did Beyonce earn?\n",
            "Prediction: \n",
            "True Answer: five\n",
            "Exact match: False\n",
            "F1 score: 0\n",
            "\n",
            "Question: When did the Beyoncé's debut album release?\n",
            "Prediction: \n",
            "True Answer: 2003\n",
            "Exact match: False\n",
            "F1 score: 0\n",
            "\n",
            "Question: Who was the lead singer of R&B girl-group Destiny's Child?\n",
            "Prediction: \n",
            "True Answer: Beyonce Giselle Knowles - Carter\n",
            "Exact match: False\n",
            "F1 score: 0\n",
            "\n"
          ]
        }
      ]
    },
    {
      "cell_type": "markdown",
      "metadata": {
        "id": "clBBH3gWLMjI"
      },
      "source": [
        "**Athens**"
      ]
    },
    {
      "cell_type": "code",
      "metadata": {
        "id": "JBos0I6qL1ht",
        "colab": {
          "base_uri": "https://localhost:8080/"
        },
        "outputId": "47487e30-2c60-4112-eaac-4de30dcb0786"
      },
      "source": [
        "context = \"\"\"Athens is the capital and largest city of Greece. Athens dominates the Attica region and is one of the world's oldest cities, \n",
        "             with its recorded history spanning over 3,400 years and its earliest human presence starting somewhere between the 11th and 7th millennium BC.\n",
        "             Classical Athens was a powerful city-state. It was a center for the arts, learning and philosophy, and the home of Plato's Academy and Aristotle's Lyceum.\n",
        "             It is widely referred to as the cradle of Western civilization and the birthplace of democracy, largely because of its cultural and political impact on the European continent—particularly Ancient Rome.\n",
        "             In modern times, Athens is a large cosmopolitan metropolis and central to economic, financial, industrial, maritime, political and cultural life in Greece. \n",
        "             In 2021, Athens' urban area hosted more than three and a half million people, which is around 35% of the entire population of Greece.\n",
        "             Athens is a Beta global city according to the Globalization and World Cities Research Network, and is one of the biggest economic centers in Southeastern Europe. \n",
        "             It also has a large financial sector, and its port Piraeus is both the largest passenger port in Europe, and the second largest in the world.\"\"\"\n",
        "\n",
        "questions = [\"Which is the largest city in Greece?\",\n",
        "             \"For what was the Athens center?\",\n",
        "             \"Which city was the home of Plato's Academy?\"]\n",
        "\n",
        "answers = [\"Athens\", \"center for the arts, learning and philosophy\", \"Athens\"]\n",
        "\n",
        "for question, answer in zip(questions, answers):\n",
        "  question_answer(context, question, answer)"
      ],
      "execution_count": null,
      "outputs": [
        {
          "output_type": "stream",
          "name": "stdout",
          "text": [
            "Question: Which is the largest city in Greece?\n",
            "Prediction: \n",
            "True Answer: Athens\n",
            "Exact match: False\n",
            "F1 score: 0\n",
            "\n",
            "Question: For what was the Athens center?\n",
            "Prediction: \n",
            "True Answer: center for the arts, learning and philosophy\n",
            "Exact match: False\n",
            "F1 score: 0\n",
            "\n",
            "Question: Which city was the home of Plato's Academy?\n",
            "Prediction: \n",
            "True Answer: Athens\n",
            "Exact match: False\n",
            "F1 score: 0\n",
            "\n"
          ]
        }
      ]
    },
    {
      "cell_type": "markdown",
      "metadata": {
        "id": "J6K24hLNad7c"
      },
      "source": [
        "**Angelos**"
      ]
    },
    {
      "cell_type": "code",
      "metadata": {
        "id": "FEGIRvK2afqn",
        "colab": {
          "base_uri": "https://localhost:8080/"
        },
        "outputId": "cc667e0e-79ef-40dd-c54c-165ce589fb72"
      },
      "source": [
        "context = \"\"\"Angelos Poulis was born on 8 April 2001 in Nicosia, Cyprus. He is half Cypriot and half Greek. \n",
        "            He is currently studying at the Department of Informatics and Telecommunications of the University of Athens in Greece. \n",
        "            His scientific interests are in the broad field of Artificial Intelligence and he loves to train neural networks! \n",
        "            Okay, I'm Angelos and I'll stop talking about me right now.\"\"\"\n",
        "\n",
        "questions = [\"When did Angelos born?\",\n",
        "             \"In what university is Angelos studying now?\",\n",
        "             \"What is Angelos' nationality?\",\n",
        "             \"What are his scientific interests?\",\n",
        "             \"What I will do right now?\"]\n",
        "\n",
        "answers = [\"8 April 2001\", \"University of Athens\", \n",
        "           \"half Cypriot and half Greek\", \"Artificial Intelligence\", \n",
        "           \"stop talking about me\"]\n",
        "\n",
        "for question, answer in zip(questions, answers):\n",
        "  question_answer(context, question, answer)"
      ],
      "execution_count": null,
      "outputs": [
        {
          "output_type": "stream",
          "name": "stdout",
          "text": [
            "Question: When did Angelos born?\n",
            "Prediction: Angelos Pouli\n",
            "True Answer: 8 April 2001\n",
            "Exact match: False\n",
            "F1 score: 0\n",
            "\n",
            "Question: In what university is Angelos studying now?\n",
            "Prediction: Angelos Pouli\n",
            "True Answer: University of Athens\n",
            "Exact match: False\n",
            "F1 score: 0\n",
            "\n",
            "Question: What is Angelos' nationality?\n",
            "Prediction: Angelos Pouli\n",
            "True Answer: half Cypriot and half Greek\n",
            "Exact match: False\n",
            "F1 score: 0\n",
            "\n",
            "Question: What are his scientific interests?\n",
            "Prediction: Angelos Pouli\n",
            "True Answer: Artificial Intelligence\n",
            "Exact match: False\n",
            "F1 score: 0\n",
            "\n",
            "Question: What I will do right now?\n",
            "Prediction: Angelos Pouli\n",
            "True Answer: stop talking about me\n",
            "Exact match: False\n",
            "F1 score: 0\n",
            "\n"
          ]
        }
      ]
    },
    {
      "cell_type": "markdown",
      "metadata": {
        "id": "VnXLoJybF_fk"
      },
      "source": [
        "## **Summary (and some Questions & Answers) 🧐**"
      ]
    },
    {
      "cell_type": "markdown",
      "metadata": {
        "id": "XPEfQTzXWAjN"
      },
      "source": [
        "**Technical details:**\n",
        "* **Model used:** `bert-base-uncased`\n",
        "* **Dataset:** The Stanford Question Answering Dataset (SQuAD)  \n",
        "* **Run time:** ~ 4 hours on the Tesla P100 GPU for `N_EPOCHS = 3`. Each epoch took about 1 hour and 15 minutes for training. I think if we run the model for at least `N_EPOCHS = 5` we can get even better results, but what we got for 3 epochs is already very good!\n",
        "\n",
        "**Conclusion:** We can say that training the model for just 3 epochs, which took about 4 hours on the Tesla P100 GPU, gives us pretty good results. The model can also answer quite well to questions about contents it hasn't seen before and I can say this because I gave it a passage for myself!\n",
        "\n",
        "Some *example questions and answers* we get are the following:\n",
        "\n",
        "**About Athens:**\n",
        "\n",
        "> **Question:** Which is the largest city in Greece?  \n",
        "  **Prediction:** athens  \n",
        "  **True Answer:** Athens  \n",
        "  **Exact match:** True  \n",
        "  **F1 score:** 1.0  \n",
        "\n",
        "> **Question:** For what was the Athens center?  \n",
        "  **Prediction:** center for the arts, learning and philosophy  \n",
        "  **True Answer:** center for the arts, learning and philosophy  \n",
        "  **Exact match:** True  \n",
        "  **F1 score:** 1.0  \n",
        "\n",
        "**About Beyoncé:**\n",
        "\n",
        "> **Question:** When did Beyonce born?  \n",
        "  **Prediction:** september 4, 1981  \n",
        "  **True Answer:** September 4, 1981  \n",
        "  **Exact Match:** True\t \n",
        "  **F1 score:** 1.0\n",
        "\n",
        "> **Question:** What name has the Beyoncé's debut album?  \n",
        "  **Prediction:** dangerously in love  \n",
        "  **True Answer:** Dangerously in Love   \n",
        "  **Exact Match:** True  \n",
        "  **F1 score:** 1.0\n",
        "\n",
        "> **Question:** How many Grammy Awards did Beyonce earn?  \n",
        "  **Prediction:** five  \n",
        "  **True Answer:** five  \n",
        "  **Exact Match:** True  \n",
        "  **F1 score:** 1.0\n",
        "\n",
        "\n",
        "> **Question:** When did the Beyoncé's debut album release?  \n",
        "  **Prediction:** 2003  \n",
        "  **True Answer:** 2003  \n",
        "  **Exact Match:** True  \n",
        "  **F1 score:** 1.0\n",
        "\n",
        "\n",
        "> **Question:** Who was the lead singer of R&B girl-group Destiny's Child?  \n",
        "  **Prediction:** beyonce giselle knowles - carter  \n",
        "  **True Answer:** Beyonce Giselle Knowles - Carter  \n",
        "  **Exact Match:** True  \n",
        "  **F1 score:** 1.0\n",
        "\n",
        "\n",
        "**About Angelos:**\n",
        "\n",
        "> **Question:** When did Angelos born?  \n",
        "  **Prediction:** 8 april 2001  \n",
        "  **True Answer:** 8 April 2001  \n",
        "  **Exact match:** True  \n",
        "  **F1 score:** 1.0\n",
        "\n",
        "> **Question:** In what university is Angelos studying now?  \n",
        "  **Prediction:** university of athens  \n",
        "  **True Answer:** University of Athens  \n",
        "  **Exact match:** True    \n",
        "  **F1 score:** 1.0\n",
        "\n",
        "> **Question:** What is Angelos' nationality?  \n",
        "  **Prediction:** half cypriot and half greek.  \n",
        "  **True Answer:** half Cypriot and half Greek   \n",
        "  **Exact match:** True  \n",
        "  **F1 score:** 0.8\n",
        "\n",
        "> **Question:** What are his scientific interests?  \n",
        "  **Prediction:** artificial intelligence  \n",
        "  **True Answer:** Artificial Intelligence    \n",
        "  **Exact match:** True  \n",
        "  **F1 score:** 1.0\n",
        "\n",
        "> **Question:** What I will do right now?  \n",
        "  **Prediction:** stop talking about me  \n",
        "  **True Answer:** stop talking about me  \n",
        "  **Exact match:** True  \n",
        "  **F1 score:** 1.0\n"
      ]
    }
  ]
}